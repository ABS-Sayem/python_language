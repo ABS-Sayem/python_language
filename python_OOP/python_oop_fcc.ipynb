{
 "cells": [
  {
   "cell_type": "code",
   "execution_count": 3,
   "metadata": {},
   "outputs": [
    {
     "name": "stdout",
     "output_type": "stream",
     "text": [
      "30000\n",
      "asl001@asl-bd.com\n"
     ]
    }
   ],
   "source": [
    "# Class, Object and Attibutes\n",
    "class Employee():\n",
    "    pass\n",
    "\n",
    "# Objects and their Attributes\n",
    "employee1 = Employee()\n",
    "employee1.id = \"ASL001\"\n",
    "employee1.email = \"asl001@asl-bd.com\"\n",
    "employee1.phone = \"01313406601\"\n",
    "employee1.employment_year = 5\n",
    "employee1.salary = 30000\n",
    "\n",
    "employee2 = Employee()\n",
    "employee2.id = \"ASL001\"\n",
    "employee2.email = \"asl001@asl-bd.com\"\n",
    "employee2.phone = \"01313406601\"\n",
    "employee2.employment_year = 4\n",
    "employee2.salary = 25000\n",
    "\n",
    "print(employee1.salary)\n",
    "print(employee2.email)"
   ]
  },
  {
   "cell_type": "code",
   "execution_count": 49,
   "metadata": {},
   "outputs": [
    {
     "name": "stdout",
     "output_type": "stream",
     "text": [
      "1800000\n",
      "1200000\n"
     ]
    }
   ],
   "source": [
    "# Define a module in the class\n",
    "class Employee():\n",
    "    pass\n",
    "    def calculate_invastement(self, year, salary):\n",
    "        return (year*12)*salary\n",
    "\n",
    "# Objects and their Attributes\n",
    "employee1 = Employee()\n",
    "employee1.id = \"ASL001\"\n",
    "employee1.email = \"asl001@asl-bd.com\"\n",
    "employee1.phone = \"01313406601\"\n",
    "employee1.employment_year = 5\n",
    "employee1.salary = 30000\n",
    "\n",
    "employee2 = Employee()\n",
    "employee2.id = \"ASL001\"\n",
    "employee2.email = \"asl001@asl-bd.com\"\n",
    "employee2.phone = \"01313406601\"\n",
    "employee2.employment_year = 4\n",
    "employee2.salary = 25000\n",
    "\n",
    "print(employee1.calculate_invastement(employee1.employment_year, employee1.salary))\n",
    "print(employee2.calculate_invastement(employee2.employment_year, employee2.salary))"
   ]
  },
  {
   "cell_type": "markdown",
   "metadata": {},
   "source": [
    "**`__init__()`**\n",
    "* when we create an object of any class it automatically pass the object to the class as its default parameter along with the attributes we define for the object. Now, we can pass the attributes while creating the object.\n",
    "* we can access the attributes with the default constructor `__init__()` of the class."
   ]
  },
  {
   "cell_type": "code",
   "execution_count": 10,
   "metadata": {},
   "outputs": [
    {
     "name": "stdout",
     "output_type": "stream",
     "text": [
      "Id: ASL003 => Total Investment: 1104000\n",
      "Id: ASL004 => Total Investment: 1056000\n"
     ]
    }
   ],
   "source": [
    "class Employee():\n",
    "    def __init__(self,id,email,phone,employment_year,salary):\n",
    "        self.id = id\n",
    "        self.email = email\n",
    "        self.phone = phone\n",
    "        self.employment_year = employment_year\n",
    "        self.salary = salary\n",
    "        print(f\"Id: {self.id} => Total Investment: {(self.employment_year*12)*self.salary}\")\n",
    "\n",
    "employee3 = Employee(\"ASL003\", \"asl003@asl-bd.com\", \"01313406603\", 4, 23000)\n",
    "employee4 = Employee(\"ASL004\", \"asl004@asl-bd.com\", \"01313406604\", 4, 22000)"
   ]
  },
  {
   "cell_type": "markdown",
   "metadata": {},
   "source": [
    "#### **FCC 2 Hours**\n",
    "* **"
   ]
  },
  {
   "cell_type": "markdown",
   "metadata": {},
   "source": [
    "**`Class and Objects`**"
   ]
  },
  {
   "cell_type": "code",
   "execution_count": 33,
   "metadata": {},
   "outputs": [
    {
     "name": "stdout",
     "output_type": "stream",
     "text": [
      "Item1: 50000\n",
      "Item2: 150000\n"
     ]
    }
   ],
   "source": [
    "class Item:\n",
    "    def calc_total_price(self, price, quantity):\n",
    "        return price*quantity\n",
    "\n",
    "item1 = Item()\n",
    "item1.name = \"Phone\"\n",
    "item1.price = 10000\n",
    "item1.quantity = 5\n",
    "print(f\"Item1: {item1.calc_total_price(item1.price, item1.quantity)}\")\n",
    "\n",
    "item2 = Item()\n",
    "item2.name = \"Smart Phone\"\n",
    "item2.price = 50000\n",
    "item2.quantity = 3\n",
    "print(f\"Item2: {item2.calc_total_price(item2.price, item2.quantity)}\")"
   ]
  },
  {
   "cell_type": "markdown",
   "metadata": {},
   "source": [
    "**`Initialization (Constructor)`**"
   ]
  },
  {
   "cell_type": "code",
   "execution_count": 34,
   "metadata": {},
   "outputs": [
    {
     "name": "stdout",
     "output_type": "stream",
     "text": [
      "Item1: Phone, 10000, 0 | Total_Price: 0\n",
      "Item2: Laptop, 50000, 3 | Total_Price: 150000\n",
      "Item3: Monitor, 5000, 13 | Total_Price: 5000500050005000500050005000500050005000500050005000\n"
     ]
    }
   ],
   "source": [
    "class Item:\n",
    "    def __init__(self, name, price=0, quantity=0):\n",
    "        self.name = name\n",
    "        self.price = price\n",
    "        self.quantity = quantity\n",
    "    \n",
    "    def calc_total_price(self):\n",
    "        return self.price * self.quantity\n",
    "\n",
    "item1 = Item(\"Phone\", 10000)\n",
    "item1.has_keyboard = False\n",
    "print(f\"Item1: {item1.name}, {item1.price}, {item1.quantity}\", end=' | ')\n",
    "print(f\"Total_Price: {item1.calc_total_price()}\")\n",
    "\n",
    "item2 = Item(\"Laptop\", 50000, 3)\n",
    "item2.has_keyboard = True\n",
    "print(f\"Item2: {item2.name}, {item2.price}, {item2.quantity}\", end=' | ')\n",
    "print(f\"Total_Price: {item2.calc_total_price()}\")\n",
    "\n",
    "item3 = Item(\"Monitor\", \"5000\", 13)\n",
    "item3.has_keyboard = False\n",
    "print(f\"Item3: {item3.name}, {item3.price}, {item3.quantity}\", end=' | ')\n",
    "print(f\"Total_Price: {item3.calc_total_price()}\")"
   ]
  },
  {
   "cell_type": "markdown",
   "metadata": {},
   "source": [
    "**`Validate Datatype`**"
   ]
  },
  {
   "cell_type": "markdown",
   "metadata": {},
   "source": [
    "* `define datatype / assign value`"
   ]
  },
  {
   "cell_type": "code",
   "execution_count": 38,
   "metadata": {},
   "outputs": [
    {
     "name": "stdout",
     "output_type": "stream",
     "text": [
      "Item4: Watch, 3000, 5 | Total_Price: 15000\n"
     ]
    }
   ],
   "source": [
    "class Item:\n",
    "    def __init__(self, name:str, price:float, quantity=0):\n",
    "        self.name = name\n",
    "        self.price = price\n",
    "        self.quantity = quantity\n",
    "    \n",
    "    def calc_total_price(self):\n",
    "        return self.price * self.quantity\n",
    "\n",
    "\n",
    "item4 = Item(\"Watch\", 3000, 5)\n",
    "item4.has_keyboard = False\n",
    "print(f\"Item4: {item4.name}, {item4.price}, {item4.quantity}\", end=' | ')\n",
    "print(f\"Total_Price: {item4.calc_total_price()}\")"
   ]
  },
  {
   "cell_type": "markdown",
   "metadata": {},
   "source": [
    "* `assertion`"
   ]
  },
  {
   "cell_type": "code",
   "execution_count": 48,
   "metadata": {},
   "outputs": [
    {
     "name": "stdout",
     "output_type": "stream",
     "text": [
      "Item5: Mouse, 450, 8 | Total_Price: 3600\n"
     ]
    }
   ],
   "source": [
    "class Item:\n",
    "    def __init__(self, name:str, price:float, quantity=0):\n",
    "        # validate received arguments\n",
    "        assert price >= 0, f\"price {price} cann't be negetive!\"\n",
    "        assert quantity >= 0, f\"quantity {quantity} cann't be negetive!\"\n",
    "        \n",
    "        self.name = name\n",
    "        self.price = price\n",
    "        self.quantity = quantity\n",
    "    \n",
    "    def calc_total_price(self):\n",
    "        return self.price * self.quantity\n",
    "\n",
    "\n",
    "item5 = Item(\"Mouse\", 450, 8)\n",
    "item5.has_keyboard = False\n",
    "print(f\"Item5: {item5.name}, {item5.price}, {item5.quantity}\", end=' | ')\n",
    "print(f\"Total_Price: {item5.calc_total_price()}\")"
   ]
  },
  {
   "cell_type": "markdown",
   "metadata": {},
   "source": [
    "**`Class Attribute`**"
   ]
  },
  {
   "cell_type": "code",
   "execution_count": 60,
   "metadata": {},
   "outputs": [
    {
     "name": "stdout",
     "output_type": "stream",
     "text": [
      "Item5: Mouse, 1000, 1 | Total_Price: 850.0\n",
      "Item6: Pendrive, 1000, 1 | Total_Price: 800.0\n"
     ]
    }
   ],
   "source": [
    "class Item:\n",
    "    # class attribute\n",
    "    pay_rate = 0.85\n",
    "    \n",
    "    def __init__(self, name:str, price:float, quantity=0):\n",
    "        # validate received arguments\n",
    "        assert price >= 0, f\"price {price} cann't be negetive!\"\n",
    "        assert quantity >= 0, f\"quantity {quantity} cann't be negetive!\"\n",
    "        \n",
    "        self.name = name\n",
    "        self.price = price\n",
    "        self.quantity = quantity\n",
    "    \n",
    "    def calc_total_price(self):\n",
    "        return (self.price * self.quantity) * self.pay_rate\n",
    "        \n",
    "\n",
    "#print(Item.__dict__)    # display class attributes\n",
    "#print(item_.__dict__)   # display instance attributes\n",
    "\n",
    "item5 = Item(\"Mouse\", 1000, 1)\n",
    "item5.has_keyboard = False\n",
    "print(f\"Item5: {item5.name}, {item5.price}, {item5.quantity}\", end=' | ')\n",
    "print(f\"Total_Price: {item5.calc_total_price()}\")\n",
    "\n",
    "item6 = Item(\"Pendrive\", 1000, 1)\n",
    "item6.pay_rate = 0.8\n",
    "item6.has_keyboard = False\n",
    "print(f\"Item6: {item6.name}, {item6.price}, {item6.quantity}\", end=' | ')\n",
    "print(f\"Total_Price: {item6.calc_total_price()}\")"
   ]
  },
  {
   "cell_type": "markdown",
   "metadata": {},
   "source": [
    "**`representing all objects`**"
   ]
  },
  {
   "cell_type": "code",
   "execution_count": 11,
   "metadata": {},
   "outputs": [
    {
     "name": "stdout",
     "output_type": "stream",
     "text": [
      "Laptop, Tablet, Phone, Watch, Pendrive, Mouse, "
     ]
    }
   ],
   "source": [
    "class Item:\n",
    "    # class attribute\n",
    "    pay_rate = 0.85\n",
    "    all_instances = []\n",
    "    \n",
    "    def __init__(self, name:str, price:float, quantity=0):\n",
    "        # validate received arguments\n",
    "        assert price >= 0, f\"price {price} cann't be negetive!\"\n",
    "        assert quantity >= 0, f\"quantity {quantity} cann't be negetive!\"\n",
    "        \n",
    "        # assign to self object\n",
    "        self.name = name\n",
    "        self.price = price\n",
    "        self.quantity = quantity\n",
    "        \n",
    "        # append all created objects\n",
    "        Item.all_instances.append(self)\n",
    "    \n",
    "    def calc_total_price(self):\n",
    "        return (self.price * self.quantity) * self.pay_rate\n",
    "        \n",
    "\n",
    "#print(Item.__dict__)    # display class attributes\n",
    "#print(item_.__dict__)   # display instance attributes\n",
    "\n",
    "item0 = Item(\"Laptop\", 50000, 10)\n",
    "item1 = Item(\"Tablet\", 20000, 10)\n",
    "item2 = Item(\"Phone\", 25000, 10)\n",
    "item3 = Item(\"Watch\", 3000, 10)\n",
    "item4 = Item(\"Pendrive\", 1000, 10)\n",
    "item5 = Item(\"Mouse\", 400, 10)\n",
    "\n",
    "#print(Item.all_instances)\n",
    "for instance in Item.all_instances: print(instance.name, end=', ')"
   ]
  },
  {
   "cell_type": "markdown",
   "metadata": {},
   "source": [
    "* `__repr__()` method"
   ]
  },
  {
   "cell_type": "code",
   "execution_count": 13,
   "metadata": {},
   "outputs": [
    {
     "name": "stdout",
     "output_type": "stream",
     "text": [
      "[(Laptop, 50000, 10), (Tablet, 20000, 10), (Phone, 25000, 10), (Watch, 3000, 10), (Pendrive, 1000, 10), (Mouse, 400, 10)]\n"
     ]
    }
   ],
   "source": [
    "class Item:\n",
    "    # class attribute\n",
    "    pay_rate = 0.85\n",
    "    all_instances = []\n",
    "    \n",
    "    def __init__(self, name:str, price:float, quantity=0):\n",
    "        # validate received arguments\n",
    "        assert price >= 0, f\"price {price} cann't be negetive!\"\n",
    "        assert quantity >= 0, f\"quantity {quantity} cann't be negetive!\"\n",
    "        \n",
    "        # assign to self object\n",
    "        self.name = name\n",
    "        self.price = price\n",
    "        self.quantity = quantity\n",
    "        \n",
    "        # append all created objects\n",
    "        Item.all_instances.append(self)\n",
    "    \n",
    "    def calc_total_price(self):\n",
    "        return (self.price * self.quantity) * self.pay_rate\n",
    "    \n",
    "    def __repr__(self):\n",
    "        return f\"({self.name}, {self.price}, {self.quantity})\"\n",
    "        \n",
    "\n",
    "#print(Item.__dict__)    # display class attributes\n",
    "#print(item_.__dict__)   # display instance attributes\n",
    "\n",
    "item0 = Item(\"Laptop\", 50000, 10)\n",
    "item1 = Item(\"Tablet\", 20000, 10)\n",
    "item2 = Item(\"Phone\", 25000, 10)\n",
    "item3 = Item(\"Watch\", 3000, 10)\n",
    "item4 = Item(\"Pendrive\", 1000, 10)\n",
    "item5 = Item(\"Mouse\", 400, 10)\n",
    "\n",
    "print(Item.all_instances)"
   ]
  },
  {
   "cell_type": "markdown",
   "metadata": {},
   "source": [
    "**`Class Method`**"
   ]
  },
  {
   "cell_type": "code",
   "execution_count": 26,
   "metadata": {},
   "outputs": [
    {
     "name": "stdout",
     "output_type": "stream",
     "text": [
      "[(Laptop, 50000.0, 10), (Tablet, 20000.0, 10), (Phone, 25000.0, 10), (Watch, 3000.0, 10), (Pendrive, 1000.0, 10), (Mouse, 400.0, 10)]\n"
     ]
    }
   ],
   "source": [
    "import csv\n",
    "\n",
    "class Item:\n",
    "    # class attribute\n",
    "    pay_rate = 0.85\n",
    "    all_instances = []\n",
    "    \n",
    "    def __init__(self, name:str, price:float, quantity=0):\n",
    "        # validate received arguments\n",
    "        assert price >= 0, f\"price {price} cann't be negetive!\"\n",
    "        assert quantity >= 0, f\"quantity {quantity} cann't be negetive!\"\n",
    "        \n",
    "        # assign to self object\n",
    "        self.name = name\n",
    "        self.price = price\n",
    "        self.quantity = quantity\n",
    "        \n",
    "        # append all created objects\n",
    "        Item.all_instances.append(self)\n",
    "    \n",
    "    def calc_total_price(self):\n",
    "        return (self.price * self.quantity) * self.pay_rate\n",
    "    \n",
    "    # class method\n",
    "    @classmethod\n",
    "    def init_from_csv(cls):\n",
    "        with open('item.csv', 'r') as file:\n",
    "            reader = csv.DictReader(file)   # reader will directly read the items in csv and make a dictionary\n",
    "            items = list(reader)    # convert reader into a list\n",
    "        \n",
    "        # init instances\n",
    "        for item in items:\n",
    "            Item(\n",
    "                name = item.get('Name'),\n",
    "                price = float(item.get('Price')),   # float also support int\n",
    "                quantity = int(item.get('Quantity')),\n",
    "            )\n",
    "    \n",
    "    def __repr__(self):\n",
    "        return f\"({self.name}, {self.price}, {self.quantity})\"\n",
    "    \n",
    "\n",
    "Item.init_from_csv()\n",
    "print(Item.all_instances)"
   ]
  },
  {
   "cell_type": "markdown",
   "metadata": {},
   "source": [
    "**`Static Method`**"
   ]
  },
  {
   "cell_type": "code",
   "execution_count": 1,
   "metadata": {},
   "outputs": [
    {
     "name": "stdout",
     "output_type": "stream",
     "text": [
      "Is_Int: True\n",
      "Is_Int: False\n",
      "Is_Int: True\n"
     ]
    }
   ],
   "source": [
    "import csv\n",
    "\n",
    "class Item:\n",
    "    # class attribute\n",
    "    pay_rate = 0.85\n",
    "    all_instances = []\n",
    "    \n",
    "    def __init__(self, name:str, price:float, quantity=0):\n",
    "        # validate received arguments\n",
    "        assert price >= 0, f\"price {price} cann't be negetive!\"\n",
    "        assert quantity >= 0, f\"quantity {quantity} cann't be negetive!\"\n",
    "        \n",
    "        # assign to self object\n",
    "        self.name = name\n",
    "        self.price = price\n",
    "        self.quantity = quantity\n",
    "        \n",
    "        # append all created objects\n",
    "        Item.all_instances.append(self)\n",
    "    \n",
    "    def calc_total_price(self):\n",
    "        return (self.price * self.quantity) * self.pay_rate\n",
    "    \n",
    "    # class method\n",
    "    @classmethod\n",
    "    def init_from_csv(cls):\n",
    "        with open('item.csv', 'r') as file:\n",
    "            reader = csv.DictReader(file)   # reader will directly read the items in csv and make a dictionary\n",
    "            items = list(reader)    # convert reader into a list\n",
    "        \n",
    "        # init instances\n",
    "        for item in items:\n",
    "            Item(\n",
    "                name = item.get('Name'),\n",
    "                price = float(item.get('Price')),   # float also support int\n",
    "                quantity = int(item.get('Quantity')),\n",
    "            )\n",
    "    \n",
    "    # static method\n",
    "    @staticmethod\n",
    "    def is_integer(number):\n",
    "        # check the floats with point zero (i.e 10.0, 12.0 etc)\n",
    "        if isinstance(number, float):\n",
    "            # count the floats with point zero\n",
    "            return number.is_integer()\n",
    "        elif isinstance(number, int): return True\n",
    "        else: return False\n",
    "        \n",
    "    def __repr__(self):\n",
    "        return f\"({self.name}, {self.price}, {self.quantity})\"\n",
    "    \n",
    "\n",
    "print(f\"Is_Int: {Item.is_integer(7)}\")\n",
    "print(f\"Is_Int: {Item.is_integer(7.2)}\")\n",
    "print(f\"Is_Int: {Item.is_integer(7.0)}\")"
   ]
  },
  {
   "cell_type": "markdown",
   "metadata": {},
   "source": [
    "`usecase of class and static method`"
   ]
  },
  {
   "cell_type": "code",
   "execution_count": null,
   "metadata": {},
   "outputs": [],
   "source": [
    "class Item:\n",
    "    \n",
    "    @staticmethod\n",
    "    def is_integer(num):\n",
    "        '''\n",
    "        Where this method should do something that has a relationship with the class, \n",
    "        but not something that must be unique per instance.\n",
    "        '''\n",
    "    \n",
    "    @classmethod    \n",
    "    def init_from_something(cls):\n",
    "        '''\n",
    "        Where this method also do something that has a relationship with the class, but usually, \n",
    "        thise are used to manipulate different structures of data to instantiate objects, \n",
    "        like we have done with csv. \n",
    "        '''\n",
    "\n",
    "'''\n",
    "Main difference between static and class method: static method are not passing the object reference \n",
    "as the first argument in the background, but in class method it is mandatory to pass the object reference.\n",
    "'''"
   ]
  },
  {
   "cell_type": "markdown",
   "metadata": {},
   "source": [
    "* `call static and class method from object level`"
   ]
  },
  {
   "cell_type": "code",
   "execution_count": 37,
   "metadata": {},
   "outputs": [
    {
     "name": "stdout",
     "output_type": "stream",
     "text": [
      "False\n",
      "True\n"
     ]
    }
   ],
   "source": [
    "import csv\n",
    "\n",
    "class Item:\n",
    "    # class attribute\n",
    "    pay_rate = 0.85\n",
    "    all_instances = []\n",
    "    \n",
    "    def __init__(self, name:str, price:float, quantity=0):\n",
    "        # validate received arguments\n",
    "        assert price >= 0, f\"price {price} cann't be negetive!\"\n",
    "        assert quantity >= 0, f\"quantity {quantity} cann't be negetive!\"\n",
    "        \n",
    "        # assign to self object\n",
    "        self.name = name\n",
    "        self.price = price\n",
    "        self.quantity = quantity\n",
    "        \n",
    "        # append all created objects\n",
    "        Item.all_instances.append(self)\n",
    "    \n",
    "    def calc_total_price(self):\n",
    "        return (self.price * self.quantity) * self.pay_rate\n",
    "    \n",
    "    # class method\n",
    "    @classmethod\n",
    "    def init_from_csv(cls):\n",
    "        with open('item.csv', 'r') as file:\n",
    "            reader = csv.DictReader(file)   # reader will directly read the items in csv and make a dictionary\n",
    "            items = list(reader)    # convert reader into a list\n",
    "        \n",
    "        # init instances\n",
    "        for item in items:\n",
    "            Item(\n",
    "                name = item.get('Name'),\n",
    "                price = float(item.get('Price')),   # float also support int\n",
    "                quantity = int(item.get('Quantity')),\n",
    "            )\n",
    "    \n",
    "    # static method\n",
    "    @staticmethod\n",
    "    def is_integer(number):\n",
    "        # check the floats with point zero (i.e 10.0, 12.0 etc)\n",
    "        if isinstance(number, float):\n",
    "            # count the floats with point zero\n",
    "            return number.is_integer()\n",
    "        elif isinstance(number, int): return True\n",
    "        else: return False\n",
    "        \n",
    "    def __repr__(self):\n",
    "        return f\"({self.name}, {self.price}, {self.quantity})\"\n",
    "    \n",
    "\n",
    "item0 = Item(\"Keyboard\", 750, 1)\n",
    "item0.init_from_csv()   # call class method\n",
    "# call static method\n",
    "print(item0.is_integer(7.5))\n",
    "print(item0.is_integer(7.0))"
   ]
  },
  {
   "cell_type": "markdown",
   "metadata": {},
   "source": [
    "**`Inheritance`**"
   ]
  },
  {
   "cell_type": "code",
   "execution_count": 18,
   "metadata": {},
   "outputs": [
    {
     "name": "stdout",
     "output_type": "stream",
     "text": [
      "150000.0\n"
     ]
    }
   ],
   "source": [
    "import csv\n",
    "\n",
    "class Item: # Parent Class\n",
    "    # class attribute\n",
    "    pay_rate = 0.85\n",
    "    all_items = []\n",
    "    \n",
    "    def __init__(self, name:str, price:float, quantity=0):\n",
    "        # validate received arguments\n",
    "        assert price >= 0, f\"price {price} cann't be negetive!\"\n",
    "        assert quantity >= 0, f\"quantity {quantity} cann't be negetive!\"\n",
    "        \n",
    "        # assign to self object\n",
    "        self.name = name\n",
    "        self.price = price\n",
    "        self.quantity = quantity\n",
    "        \n",
    "        # append all created objects\n",
    "        Item.all_items.append(self)\n",
    "    \n",
    "    def calc_total_price(self):\n",
    "        return (self.price * self.quantity) * self.pay_rate\n",
    "    \n",
    "    # class method\n",
    "    @classmethod\n",
    "    def init_from_csv(cls):\n",
    "        with open('item.csv', 'r') as file:\n",
    "            reader = csv.DictReader(file)   # reader will directly read the items in csv and make a dictionary\n",
    "            items = list(reader)    # convert reader into a list\n",
    "        \n",
    "        # init instances\n",
    "        for item in items:\n",
    "            Item(\n",
    "                name = item.get('Name'),\n",
    "                price = float(item.get('Price')),   # float also support int\n",
    "                quantity = int(item.get('Quantity')),\n",
    "            )\n",
    "    \n",
    "    # static method\n",
    "    @staticmethod\n",
    "    def is_integer(number):\n",
    "        # check the floats with point zero (i.e 10.0, 12.0 etc)\n",
    "        if isinstance(number, float):\n",
    "            # count the floats with point zero\n",
    "            return number.is_integer()\n",
    "        elif isinstance(number, int): return True\n",
    "        else: return False\n",
    "        \n",
    "    def __repr__(self):\n",
    "        return f\"({self.name}, {self.price}, {self.quantity})\"\n",
    "\n",
    "# Inheritance    \n",
    "class Phone(Item):  # Child Class\n",
    "    all_phones = []\n",
    "    def __init__(self, name:str, price:float, quantity=0, broken_phone=0):\n",
    "        # validate received arguments\n",
    "        assert price >= 0, f\"price {price} cann't be negetive!\"\n",
    "        assert quantity >= 0, f\"quantity {quantity} cann't be negetive!\"\n",
    "        assert broken_phone >= 0, f\"broken phone {broken_phone} cann't be negetive!\"\n",
    "        \n",
    "        # assign to self object\n",
    "        self.name = name\n",
    "        self.price = price\n",
    "        self.quantity = quantity\n",
    "        self.broken_phone = broken_phone\n",
    "        \n",
    "        # append all created objects\n",
    "        Phone.all_phones.append(self)\n",
    "\n",
    "\n",
    "phone0 = Phone(\"Abs-0 S\", 15000, 10, 1)\n",
    "phone0.pay_rate = 1.0\n",
    "print(phone0.calc_total_price())\n",
    "phone1 = Phone(\"Abs-0 R\", 17000, 10)\n",
    "phone2 = Phone(\"Abs-0 P\", 20000, 10, 1)"
   ]
  },
  {
   "cell_type": "markdown",
   "metadata": {},
   "source": [
    "* `super()`"
   ]
  },
  {
   "cell_type": "code",
   "execution_count": 19,
   "metadata": {},
   "outputs": [
    {
     "name": "stdout",
     "output_type": "stream",
     "text": [
      "150000.0\n",
      "170000.0\n",
      "190000.0\n",
      "[(Abs-0 S, 15000, 10), (Abs-0 R, 17000, 10), (Abs-0 P, 20000, 10)]\n",
      "[(Abs-0 S, 15000, 10), (Abs-0 R, 17000, 10), (Abs-0 P, 20000, 10)]\n"
     ]
    }
   ],
   "source": [
    "import csv\n",
    "\n",
    "class Item: # Parent Class\n",
    "    # class attribute\n",
    "    pay_rate = 0.85\n",
    "    all_items = []\n",
    "    \n",
    "    def __init__(self, name:str, price:float, quantity=0):\n",
    "        # validate received arguments\n",
    "        assert price >= 0, f\"price {price} cann't be negetive!\"\n",
    "        assert quantity >= 0, f\"quantity {quantity} cann't be negetive!\"\n",
    "        \n",
    "        # assign to self object\n",
    "        self.name = name\n",
    "        self.price = price\n",
    "        self.quantity = quantity\n",
    "        \n",
    "        # append all created objects\n",
    "        Item.all_items.append(self)\n",
    "    \n",
    "    def calc_total_price(self):\n",
    "        return (self.price * self.quantity) * self.pay_rate\n",
    "    \n",
    "    # class method\n",
    "    @classmethod\n",
    "    def init_from_csv(cls):\n",
    "        with open('item.csv', 'r') as file:\n",
    "            reader = csv.DictReader(file)   # reader will directly read the items in csv and make a dictionary\n",
    "            items = list(reader)    # convert reader into a list\n",
    "        \n",
    "        # init instances\n",
    "        for item in items:\n",
    "            Item(\n",
    "                name = item.get('Name'),\n",
    "                price = float(item.get('Price')),   # float also support int\n",
    "                quantity = int(item.get('Quantity')),\n",
    "            )\n",
    "    \n",
    "    # static method\n",
    "    @staticmethod\n",
    "    def is_integer(number):\n",
    "        # check the floats with point zero (i.e 10.0, 12.0 etc)\n",
    "        if isinstance(number, float):\n",
    "            # count the floats with point zero\n",
    "            return number.is_integer()\n",
    "        elif isinstance(number, int): return True\n",
    "        else: return False\n",
    "        \n",
    "    def __repr__(self):\n",
    "        return f\"({self.name}, {self.price}, {self.quantity})\"\n",
    "\n",
    "# Inheritance    \n",
    "class Phone(Item):  # Child Class\n",
    "    all_phones = []\n",
    "    def __init__(self, name:str, price:float, quantity=0, broken_phone=0):\n",
    "        # call super() to have access parent's initialization\n",
    "        super().__init__(name, price, quantity)\n",
    "        \n",
    "        # validate received arguments\n",
    "        assert broken_phone >= 0, f\"broken phone {broken_phone} cann't be negetive!\"\n",
    "        \n",
    "        # assign to self object\n",
    "        self.broken_phone = broken_phone\n",
    "        \n",
    "        # append all created objects\n",
    "        Phone.all_phones.append(self)\n",
    "\n",
    "\n",
    "phone0 = Phone(\"Abs-0 S\", 15000, 10, 1); phone0.pay_rate = 1.00; print(phone0.calc_total_price())\n",
    "phone1 = Phone(\"Abs-0 R\", 17000, 10)   ; phone1.pay_rate = 1.00; print(phone1.calc_total_price())\n",
    "phone2 = Phone(\"Abs-0 P\", 20000, 10, 1); phone2.pay_rate = 0.95; print(phone2.calc_total_price())\n",
    "\n",
    "print(Item.all_items)\n",
    "print(Phone.all_phones)"
   ]
  },
  {
   "cell_type": "markdown",
   "metadata": {},
   "source": [
    "* `remove append all items from the child class`"
   ]
  },
  {
   "cell_type": "code",
   "execution_count": 22,
   "metadata": {},
   "outputs": [
    {
     "name": "stdout",
     "output_type": "stream",
     "text": [
      "150000.0\n",
      "170000.0\n",
      "190000.0\n",
      "[(Abs-0 S, 15000, 10), (Abs-0 R, 17000, 10), (Abs-0 P, 20000, 10)]\n",
      "[(Abs-0 S, 15000, 10), (Abs-0 R, 17000, 10), (Abs-0 P, 20000, 10)]\n"
     ]
    }
   ],
   "source": [
    "import csv\n",
    "\n",
    "class Item: # Parent Class\n",
    "    # class attribute\n",
    "    pay_rate = 0.85\n",
    "    all = []\n",
    "    \n",
    "    def __init__(self, name:str, price:float, quantity=0):\n",
    "        # validate received arguments\n",
    "        assert price >= 0, f\"price {price} cann't be negetive!\"\n",
    "        assert quantity >= 0, f\"quantity {quantity} cann't be negetive!\"\n",
    "        \n",
    "        # assign to self object\n",
    "        self.name = name\n",
    "        self.price = price\n",
    "        self.quantity = quantity\n",
    "        \n",
    "        # append all created objects\n",
    "        Item.all.append(self)\n",
    "    \n",
    "    def calc_total_price(self):\n",
    "        return (self.price * self.quantity) * self.pay_rate\n",
    "    \n",
    "    # class method\n",
    "    @classmethod\n",
    "    def init_from_csv(cls):\n",
    "        with open('item.csv', 'r') as file:\n",
    "            reader = csv.DictReader(file)   # reader will directly read the items in csv and make a dictionary\n",
    "            items = list(reader)    # convert reader into a list\n",
    "        \n",
    "        # init instances\n",
    "        for item in items:\n",
    "            Item(\n",
    "                name = item.get('Name'),\n",
    "                price = float(item.get('Price')),   # float also support int\n",
    "                quantity = int(item.get('Quantity')),\n",
    "            )\n",
    "    \n",
    "    # static method\n",
    "    @staticmethod\n",
    "    def is_integer(number):\n",
    "        # check the floats with point zero (i.e 10.0, 12.0 etc)\n",
    "        if isinstance(number, float):\n",
    "            # count the floats with point zero\n",
    "            return number.is_integer()\n",
    "        elif isinstance(number, int): return True\n",
    "        else: return False\n",
    "        \n",
    "    def __repr__(self):\n",
    "        return f\"({self.name}, {self.price}, {self.quantity})\"\n",
    "\n",
    "# Inheritance    \n",
    "class Phone(Item):  # Child Class\n",
    "    def __init__(self, name:str, price:float, quantity=0, broken_phone=0):\n",
    "        # call super() to have access parent's initialization\n",
    "        super().__init__(name, price, quantity)\n",
    "        \n",
    "        # validate received arguments\n",
    "        assert broken_phone >= 0, f\"broken phone {broken_phone} cann't be negetive!\"\n",
    "        \n",
    "        # assign to self object\n",
    "        self.broken_phone = broken_phone\n",
    "\n",
    "\n",
    "phone0 = Phone(\"Abs-0 S\", 15000, 10, 1); phone0.pay_rate = 1.00; print(phone0.calc_total_price())\n",
    "phone1 = Phone(\"Abs-0 R\", 17000, 10)   ; phone1.pay_rate = 1.00; print(phone1.calc_total_price())\n",
    "phone2 = Phone(\"Abs-0 P\", 20000, 10, 1); phone2.pay_rate = 0.95; print(phone2.calc_total_price())\n",
    "\n",
    "print(Item.all)\n",
    "print(Phone.all)"
   ]
  },
  {
   "cell_type": "markdown",
   "metadata": {},
   "source": [
    "**`Seperate Parent and Child Class`**"
   ]
  },
  {
   "cell_type": "markdown",
   "metadata": {},
   "source": [
    "`Parent Class`"
   ]
  },
  {
   "cell_type": "code",
   "execution_count": 1,
   "metadata": {},
   "outputs": [],
   "source": [
    "import csv\n",
    "\n",
    "class Item: # Parent Class\n",
    "    # class attribute\n",
    "    pay_rate = 0.85\n",
    "    all = []\n",
    "    \n",
    "    def __init__(self, name:str, price:float, quantity=0):\n",
    "        # validate received arguments\n",
    "        assert price >= 0, f\"price {price} cann't be negetive!\"\n",
    "        assert quantity >= 0, f\"quantity {quantity} cann't be negetive!\"\n",
    "        \n",
    "        # assign to self object\n",
    "        self.name = name\n",
    "        self.price = price\n",
    "        self.quantity = quantity\n",
    "        \n",
    "        # append all created objects\n",
    "        Item.all.append(self)\n",
    "    \n",
    "    def calc_total_price(self):\n",
    "        return (self.price * self.quantity) * self.pay_rate\n",
    "    \n",
    "    def describe(self):\n",
    "        description = f\"Name    : {self.name}\\nPrice   : {self.price}\\nQuantity: {self.quantity}\"\n",
    "        return description\n",
    "    \n",
    "    # class method\n",
    "    @classmethod\n",
    "    def init_from_csv(cls):\n",
    "        with open('item.csv', 'r') as file:\n",
    "            reader = csv.DictReader(file)   # reader will directly read the items in csv and make a dictionary\n",
    "            items = list(reader)    # convert reader into a list\n",
    "        \n",
    "        # clear existing instances\n",
    "        cls.all.clear()\n",
    "        \n",
    "        # init instances\n",
    "        for item in items:\n",
    "            Item(\n",
    "                name = item.get('Name'),\n",
    "                price = float(item.get('Price')),   # float also support int\n",
    "                quantity = int(item.get('Quantity')),\n",
    "            )\n",
    "    \n",
    "    # static method\n",
    "    @staticmethod\n",
    "    def is_integer(number):\n",
    "        # check the floats with point zero (i.e 10.0, 12.0 etc)\n",
    "        if isinstance(number, float):\n",
    "            # count the floats with point zero\n",
    "            return number.is_integer()\n",
    "        elif isinstance(number, int): return True\n",
    "        else: return False\n",
    "        \n",
    "    def __repr__(self):\n",
    "        return f\"({self.name}, {self.price}, {self.quantity})\""
   ]
  },
  {
   "cell_type": "markdown",
   "metadata": {},
   "source": [
    "`Child Class`"
   ]
  },
  {
   "cell_type": "code",
   "execution_count": 2,
   "metadata": {},
   "outputs": [],
   "source": [
    "#from item import Item #[if we use seperate .py file for parent class]\n",
    "\n",
    "# Inheritance [Child Class]   \n",
    "class Phone(Item):\n",
    "    def __init__(self, name:str, price:float, quantity=0, broken_phone=0):\n",
    "        # call super() to have access parent's initialization\n",
    "        super().__init__(name, price, quantity)\n",
    "        \n",
    "        # validate received arguments\n",
    "        assert broken_phone >= 0, f\"broken phone {broken_phone} cann't be negetive!\"\n",
    "        \n",
    "        # assign to self object\n",
    "        self.broken_phone = broken_phone"
   ]
  },
  {
   "cell_type": "markdown",
   "metadata": {},
   "source": [
    "`main (working) file`"
   ]
  },
  {
   "cell_type": "code",
   "execution_count": 77,
   "metadata": {},
   "outputs": [
    {
     "name": "stdout",
     "output_type": "stream",
     "text": [
      "[(Laptop, 50000.0, 10), (Tablet, 20000.0, 10), (Phone, 25000.0, 10), (Watch, 3000.0, 10), (Pendrive, 1000.0, 10), (Mouse, 400.0, 10)]\n",
      "\n",
      "Item Description:\n",
      "Name    : Laptop\n",
      "Price   : 50000.0\n",
      "Quantity: 10\n",
      "Total Price     : 425000.0\n",
      "\n",
      "Item Description:\n",
      "Name    : Tablet\n",
      "Price   : 20000.0\n",
      "Quantity: 10\n",
      "Total Price     : 170000.0\n",
      "\n",
      "Item Description:\n",
      "Name    : Phone\n",
      "Price   : 25000.0\n",
      "Quantity: 10\n",
      "Total Price     : 212500.0\n",
      "\n",
      "Item Description:\n",
      "Name    : Watch\n",
      "Price   : 3000.0\n",
      "Quantity: 10\n",
      "Total Price     : 25500.0\n",
      "\n",
      "Item Description:\n",
      "Name    : Pendrive\n",
      "Price   : 1000.0\n",
      "Quantity: 10\n",
      "Total Price     : 8500.0\n",
      "\n",
      "Item Description:\n",
      "Name    : Mouse\n",
      "Price   : 400.0\n",
      "Quantity: 10\n",
      "Total Price     : 3400.0\n"
     ]
    }
   ],
   "source": [
    "# from item import Item\n",
    "# from phone import Phone\n",
    "\n",
    "Item.init_from_csv()\n",
    "print(Item.all)\n",
    "\n",
    "for phone in Phone.all:\n",
    "    print(f\"\\nItem Description:\\n{phone.describe()}\\nTotal Price     : {phone.calc_total_price()}\")"
   ]
  },
  {
   "cell_type": "markdown",
   "metadata": {},
   "source": [
    "**`Encapsulation`** [Restrict Override]"
   ]
  },
  {
   "cell_type": "markdown",
   "metadata": {},
   "source": [
    "* `Parent Class`"
   ]
  },
  {
   "cell_type": "code",
   "execution_count": 57,
   "metadata": {},
   "outputs": [],
   "source": [
    "import csv\n",
    "\n",
    "class Item: # Parent Class\n",
    "    # class attribute\n",
    "    pay_rate = 0.85\n",
    "    all = []\n",
    "    \n",
    "    def __init__(self, name:str, price:float, quantity=0):\n",
    "        # validate received arguments\n",
    "        assert price >= 0, f\"price {price} cann't be negetive!\"\n",
    "        assert quantity >= 0, f\"quantity {quantity} cann't be negetive!\"\n",
    "        \n",
    "        # assign to self object\n",
    "        self.__name = name      # [__ makes it read only]\n",
    "        self.price = price\n",
    "        self.quantity = quantity\n",
    "        \n",
    "        # append all created objects\n",
    "        Item.all.append(self)\n",
    "    \n",
    "    # Encapsulate Attribuates\n",
    "    @property   # Read only attribuates\n",
    "    def name(self):\n",
    "        return self.__name\n",
    "    \n",
    "    def calc_total_price(self):\n",
    "        return (self.price * self.quantity) * self.pay_rate\n",
    "    \n",
    "    def describe(self):\n",
    "        description = f\"Name    : {self.name}\\nPrice   : {self.price}\\nQuantity: {self.quantity}\\nDiscount: {(1-self.pay_rate)*100:.0f}%\"\n",
    "        return description\n",
    "    \n",
    "    # class method\n",
    "    @classmethod\n",
    "    def init_from_csv(cls):\n",
    "        with open('item.csv', 'r') as file:\n",
    "            reader = csv.DictReader(file)   # reader will directly read the items in csv and make a dictionary\n",
    "            items = list(reader)    # convert reader into a list\n",
    "        \n",
    "        # clear existing instances\n",
    "        cls.all.clear()\n",
    "        \n",
    "        # init instances\n",
    "        for item in items:\n",
    "            Item(\n",
    "                name = item.get('Name'),\n",
    "                price = float(item.get('Price')),   # float also support int\n",
    "                quantity = int(item.get('Quantity')),\n",
    "            )\n",
    "    \n",
    "    # static method\n",
    "    @staticmethod\n",
    "    def is_integer(number):\n",
    "        # check the floats with point zero (i.e 10.0, 12.0 etc)\n",
    "        if isinstance(number, float):\n",
    "            # count the floats with point zero\n",
    "            return number.is_integer()\n",
    "        elif isinstance(number, int): return True\n",
    "        else: return False\n",
    "        \n",
    "    def __repr__(self):\n",
    "        return f\"({self.name}, {self.price}, {self.quantity})\""
   ]
  },
  {
   "cell_type": "markdown",
   "metadata": {},
   "source": [
    "* `Child Class`"
   ]
  },
  {
   "cell_type": "code",
   "execution_count": 4,
   "metadata": {},
   "outputs": [],
   "source": [
    "# Inheritance [Child Class]   \n",
    "class Phone(Item):\n",
    "    def __init__(self, name:str, price:float, quantity=0, broken_phone=0):\n",
    "        # call super() to have access parent's initialization\n",
    "        super().__init__(name, price, quantity)\n",
    "        \n",
    "        # validate received arguments\n",
    "        assert broken_phone >= 0, f\"broken phone {broken_phone} cann't be negetive!\"\n",
    "        \n",
    "        # assign to self object\n",
    "        self.broken_phone = broken_phone"
   ]
  },
  {
   "cell_type": "markdown",
   "metadata": {},
   "source": [
    "* `Main File` [Where we create objects and make use of Parent and Child class]"
   ]
  },
  {
   "cell_type": "code",
   "execution_count": 59,
   "metadata": {},
   "outputs": [
    {
     "name": "stdout",
     "output_type": "stream",
     "text": [
      "Desktop\n",
      "Desktop\n",
      "Name    : Desktop\n",
      "Price   : 70000\n",
      "Quantity: 10\n",
      "Discount: 0%\tTotal_Price: 700000.0\n"
     ]
    }
   ],
   "source": [
    "item0 = Item(\"Desktop\", 70000, 10)\n",
    "print(f\"{item0.name}\")\n",
    "item0.__name = \"Personal_computer\"    # try to override, but don't change\n",
    "print(f\"{item0.name}\")\n",
    "item0.pay_rate = 1.0\n",
    "\n",
    "print(f\"{item0.describe()}\", end='\\t')\n",
    "print(f\"Total_Price: {item0.calc_total_price()}\")"
   ]
  },
  {
   "cell_type": "markdown",
   "metadata": {},
   "source": [
    "**`Setter`**\n",
    "* Allow change read only attribute"
   ]
  },
  {
   "cell_type": "code",
   "execution_count": 2,
   "metadata": {},
   "outputs": [],
   "source": [
    "import csv\n",
    "\n",
    "class Item: # Parent Class\n",
    "    # class attribute\n",
    "    pay_rate = 0.85\n",
    "    all = []\n",
    "    \n",
    "    def __init__(self, name:str, price:float, quantity=0):\n",
    "        # validate received arguments\n",
    "        assert price >= 0, f\"price {price} cann't be negetive!\"\n",
    "        assert quantity >= 0, f\"quantity {quantity} cann't be negetive!\"\n",
    "        \n",
    "        # assign to self object\n",
    "        self.__name = name      # [__ makes it read only]\n",
    "        self.price = price\n",
    "        self.quantity = quantity\n",
    "        \n",
    "        # append all created objects\n",
    "        Item.all.append(self)\n",
    "    \n",
    "    # Encapsulate Attribuates\n",
    "    @property   # Read only attribuates\n",
    "    def name(self):\n",
    "        return self.__name\n",
    "    # Setter\n",
    "    @name.setter\n",
    "    def name(self, value):\n",
    "        self.__name = value\n",
    "    \n",
    "    def calc_total_price(self):\n",
    "        return (self.price * self.quantity) * self.pay_rate\n",
    "    \n",
    "    def describe(self):\n",
    "        description = f\"Name    : {self.name}\\nPrice   : {self.price}\\nQuantity: {self.quantity}\\nDiscount: {(1-self.pay_rate)*100:.0f}%\"\n",
    "        return description\n",
    "    \n",
    "    # class method\n",
    "    @classmethod\n",
    "    def init_from_csv(cls):\n",
    "        with open('item.csv', 'r') as file:\n",
    "            reader = csv.DictReader(file)   # reader will directly read the items in csv and make a dictionary\n",
    "            items = list(reader)    # convert reader into a list\n",
    "        \n",
    "        # clear existing instances\n",
    "        cls.all.clear()\n",
    "        \n",
    "        # init instances\n",
    "        for item in items:\n",
    "            Item(\n",
    "                name = item.get('Name'),\n",
    "                price = float(item.get('Price')),   # float also support int\n",
    "                quantity = int(item.get('Quantity')),\n",
    "            )\n",
    "    \n",
    "    # static method\n",
    "    @staticmethod\n",
    "    def is_integer(number):\n",
    "        # check the floats with point zero (i.e 10.0, 12.0 etc)\n",
    "        if isinstance(number, float):\n",
    "            # count the floats with point zero\n",
    "            return number.is_integer()\n",
    "        elif isinstance(number, int): return True\n",
    "        else: return False\n",
    "        \n",
    "    def __repr__(self):\n",
    "        return f\"({self.name}, {self.price}, {self.quantity})\""
   ]
  },
  {
   "cell_type": "code",
   "execution_count": 5,
   "metadata": {},
   "outputs": [
    {
     "name": "stdout",
     "output_type": "stream",
     "text": [
      "Desktop\n",
      "Personal_Computer\n",
      "Name    : Personal_Computer\n",
      "Price   : 70000\n",
      "Quantity: 10\n",
      "Discount: 0%\tTotal_Price: 700000.0\n"
     ]
    }
   ],
   "source": [
    "item0 = Item(\"Desktop\", 70000, 10)\n",
    "print(f\"{item0.name}\")\n",
    "item0.name = \"Personal_Computer\"    # override by setter\n",
    "print(f\"{item0.name}\")\n",
    "\n",
    "item0.pay_rate = 1.0\n",
    "print(f\"{item0.describe()}\", end='\\t')\n",
    "print(f\"Total_Price: {item0.calc_total_price()}\")"
   ]
  },
  {
   "cell_type": "markdown",
   "metadata": {},
   "source": [
    "* `set condition to setter`"
   ]
  },
  {
   "cell_type": "code",
   "execution_count": 6,
   "metadata": {},
   "outputs": [],
   "source": [
    "import csv\n",
    "\n",
    "class Item: # Parent Class\n",
    "    # class attribute\n",
    "    pay_rate = 0.85\n",
    "    all = []\n",
    "    \n",
    "    def __init__(self, name:str, price:float, quantity=0):\n",
    "        # validate received arguments\n",
    "        assert price >= 0, f\"price {price} cann't be negetive!\"\n",
    "        assert quantity >= 0, f\"quantity {quantity} cann't be negetive!\"\n",
    "        \n",
    "        # assign to self object\n",
    "        self.__name = name      # [__ makes it read only]\n",
    "        self.price = price\n",
    "        self.quantity = quantity\n",
    "        \n",
    "        # append all created objects\n",
    "        Item.all.append(self)\n",
    "    \n",
    "    # Encapsulate Attribuates\n",
    "    @property   # Read only attribuates\n",
    "    def name(self):\n",
    "        return self.__name\n",
    "    # Setter\n",
    "    @name.setter\n",
    "    def name(self, value):\n",
    "        if len(value) > 10: raise Exception(\"The name is too long, make it within 10 charecters!\")\n",
    "        else: self.__name = value\n",
    "    \n",
    "    def calc_total_price(self):\n",
    "        return (self.price * self.quantity) * self.pay_rate\n",
    "    \n",
    "    def describe(self):\n",
    "        description = f\"Name    : {self.name}\\nPrice   : {self.price}\\nQuantity: {self.quantity}\\nDiscount: {(1-self.pay_rate)*100:.0f}%\"\n",
    "        return description\n",
    "    \n",
    "    # class method\n",
    "    @classmethod\n",
    "    def init_from_csv(cls):\n",
    "        with open('item.csv', 'r') as file:\n",
    "            reader = csv.DictReader(file)   # reader will directly read the items in csv and make a dictionary\n",
    "            items = list(reader)    # convert reader into a list\n",
    "        \n",
    "        # clear existing instances\n",
    "        cls.all.clear()\n",
    "        \n",
    "        # init instances\n",
    "        for item in items:\n",
    "            Item(\n",
    "                name = item.get('Name'),\n",
    "                price = float(item.get('Price')),   # float also support int\n",
    "                quantity = int(item.get('Quantity')),\n",
    "            )\n",
    "    \n",
    "    # static method\n",
    "    @staticmethod\n",
    "    def is_integer(number):\n",
    "        # check the floats with point zero (i.e 10.0, 12.0 etc)\n",
    "        if isinstance(number, float):\n",
    "            # count the floats with point zero\n",
    "            return number.is_integer()\n",
    "        elif isinstance(number, int): return True\n",
    "        else: return False\n",
    "        \n",
    "    def __repr__(self):\n",
    "        return f\"({self.name}, {self.price}, {self.quantity})\""
   ]
  },
  {
   "cell_type": "code",
   "execution_count": 7,
   "metadata": {},
   "outputs": [
    {
     "name": "stdout",
     "output_type": "stream",
     "text": [
      "Desktop\n"
     ]
    },
    {
     "ename": "Exception",
     "evalue": "The name is too long, make it within 10 charecters!",
     "output_type": "error",
     "traceback": [
      "\u001b[1;31m---------------------------------------------------------------------------\u001b[0m",
      "\u001b[1;31mException\u001b[0m                                 Traceback (most recent call last)",
      "Cell \u001b[1;32mIn[7], line 3\u001b[0m\n\u001b[0;32m      1\u001b[0m item0 \u001b[38;5;241m=\u001b[39m Item(\u001b[38;5;124m\"\u001b[39m\u001b[38;5;124mDesktop\u001b[39m\u001b[38;5;124m\"\u001b[39m, \u001b[38;5;241m70000\u001b[39m, \u001b[38;5;241m10\u001b[39m)\n\u001b[0;32m      2\u001b[0m \u001b[38;5;28mprint\u001b[39m(\u001b[38;5;124mf\u001b[39m\u001b[38;5;124m\"\u001b[39m\u001b[38;5;132;01m{\u001b[39;00mitem0\u001b[38;5;241m.\u001b[39mname\u001b[38;5;132;01m}\u001b[39;00m\u001b[38;5;124m\"\u001b[39m)\n\u001b[1;32m----> 3\u001b[0m \u001b[43mitem0\u001b[49m\u001b[38;5;241;43m.\u001b[39;49m\u001b[43mname\u001b[49m \u001b[38;5;241m=\u001b[39m \u001b[38;5;124m\"\u001b[39m\u001b[38;5;124mPersonal_Computer\u001b[39m\u001b[38;5;124m\"\u001b[39m    \u001b[38;5;66;03m# override by setter\u001b[39;00m\n\u001b[0;32m      4\u001b[0m \u001b[38;5;28mprint\u001b[39m(\u001b[38;5;124mf\u001b[39m\u001b[38;5;124m\"\u001b[39m\u001b[38;5;132;01m{\u001b[39;00mitem0\u001b[38;5;241m.\u001b[39mname\u001b[38;5;132;01m}\u001b[39;00m\u001b[38;5;124m\"\u001b[39m)\n\u001b[0;32m      6\u001b[0m item0\u001b[38;5;241m.\u001b[39mpay_rate \u001b[38;5;241m=\u001b[39m \u001b[38;5;241m1.0\u001b[39m\n",
      "Cell \u001b[1;32mIn[6], line 28\u001b[0m, in \u001b[0;36mItem.name\u001b[1;34m(self, value)\u001b[0m\n\u001b[0;32m     26\u001b[0m \u001b[38;5;129m@name\u001b[39m\u001b[38;5;241m.\u001b[39msetter\n\u001b[0;32m     27\u001b[0m \u001b[38;5;28;01mdef\u001b[39;00m \u001b[38;5;21mname\u001b[39m(\u001b[38;5;28mself\u001b[39m, value):\n\u001b[1;32m---> 28\u001b[0m     \u001b[38;5;28;01mif\u001b[39;00m \u001b[38;5;28mlen\u001b[39m(value) \u001b[38;5;241m>\u001b[39m \u001b[38;5;241m10\u001b[39m: \u001b[38;5;28;01mraise\u001b[39;00m \u001b[38;5;167;01mException\u001b[39;00m(\u001b[38;5;124m\"\u001b[39m\u001b[38;5;124mThe name is too long, make it within 10 charecters!\u001b[39m\u001b[38;5;124m\"\u001b[39m)\n\u001b[0;32m     29\u001b[0m     \u001b[38;5;28;01melse\u001b[39;00m: \u001b[38;5;28mself\u001b[39m\u001b[38;5;241m.\u001b[39m__name \u001b[38;5;241m=\u001b[39m value\n",
      "\u001b[1;31mException\u001b[0m: The name is too long, make it within 10 charecters!"
     ]
    }
   ],
   "source": [
    "item0 = Item(\"Desktop\", 70000, 10)\n",
    "print(f\"{item0.name}\")\n",
    "item0.name = \"Personal_Computer\"    # override by setter\n",
    "print(f\"{item0.name}\")\n",
    "\n",
    "item0.pay_rate = 1.0\n",
    "print(f\"{item0.describe()}\", end='\\t')\n",
    "print(f\"Total_Price: {item0.calc_total_price()}\")"
   ]
  },
  {
   "cell_type": "markdown",
   "metadata": {},
   "source": [
    "**4 Principles of OOP**\n",
    "* **`Encapsulation`:** Mechanism of restricting the direct access to some of the attributes in a program.\n",
    "* **`Abstraction`:** Concept of showing only necessary attributes hiding the unnecessary information.\n",
    "* **`Inheritance`:** Mechanism that allows us to reuse code across classes.\n",
    "* **`Polymorphism`:** [Many forms] Refers to use of a single type entity to represent different types in different scenarios."
   ]
  },
  {
   "cell_type": "markdown",
   "metadata": {},
   "source": [
    "**`Encapsulation`:** [Let's encapeulate the price attribuate]"
   ]
  },
  {
   "cell_type": "code",
   "execution_count": 9,
   "metadata": {},
   "outputs": [],
   "source": [
    "import csv\n",
    "\n",
    "class Item: # Parent Class\n",
    "    # class attribute\n",
    "    pay_rate = 0.85\n",
    "    all = []\n",
    "    \n",
    "    def __init__(self, name:str, price:float, quantity=0):\n",
    "        # validate received arguments\n",
    "        assert price >= 0, f\"price {price} cann't be negetive!\"\n",
    "        assert quantity >= 0, f\"quantity {quantity} cann't be negetive!\"\n",
    "        \n",
    "        # assign to self object\n",
    "        self.__name = name      # [__ makes it read only]\n",
    "        self.__price = price\n",
    "        self.quantity = quantity\n",
    "        \n",
    "        # append all created objects\n",
    "        Item.all.append(self)\n",
    "    \n",
    "    # Encapsulate Attribuates\n",
    "    @property   # Read only attribuates\n",
    "    def name(self):\n",
    "        return self.__name\n",
    "    # Setter\n",
    "    @name.setter\n",
    "    def name(self, value):\n",
    "        if len(value) > 10: raise Exception(\"The name is too long, make it within 10 charecters!\")\n",
    "        else: self.__name = value\n",
    "    \n",
    "    @property   # Read only attribuates\n",
    "    def price(self):\n",
    "        return self.__price\n",
    "    \n",
    "    def calc_total_price(self):\n",
    "        return (self.__price * self.quantity) * self.pay_rate\n",
    "    \n",
    "    def describe(self):\n",
    "        description = f\"Name    : {self.name}\\nPrice   : {self.__price}\\nQuantity: {self.quantity}\\nDiscount: {(1-self.pay_rate)*100:.0f}%\"\n",
    "        return description\n",
    "    \n",
    "    # class method\n",
    "    @classmethod\n",
    "    def init_from_csv(cls):\n",
    "        with open('item.csv', 'r') as file:\n",
    "            reader = csv.DictReader(file)   # reader will directly read the items in csv and make a dictionary\n",
    "            items = list(reader)    # convert reader into a list\n",
    "        \n",
    "        # clear existing instances\n",
    "        cls.all.clear()\n",
    "        \n",
    "        # init instances\n",
    "        for item in items:\n",
    "            Item(\n",
    "                name = item.get('Name'),\n",
    "                price = float(item.get('Price')),   # float also support int\n",
    "                quantity = int(item.get('Quantity')),\n",
    "            )\n",
    "    \n",
    "    # static method\n",
    "    @staticmethod\n",
    "    def is_integer(number):\n",
    "        # check the floats with point zero (i.e 10.0, 12.0 etc)\n",
    "        if isinstance(number, float):\n",
    "            # count the floats with point zero\n",
    "            return number.is_integer()\n",
    "        elif isinstance(number, int): return True\n",
    "        else: return False\n",
    "        \n",
    "    def __repr__(self):\n",
    "        return f\"({self.name}, {self.__price}, {self.quantity})\""
   ]
  },
  {
   "cell_type": "code",
   "execution_count": 10,
   "metadata": {},
   "outputs": [
    {
     "name": "stdout",
     "output_type": "stream",
     "text": [
      "Desktop\n",
      "PC\n"
     ]
    },
    {
     "ename": "AttributeError",
     "evalue": "property 'price' of 'Item' object has no setter",
     "output_type": "error",
     "traceback": [
      "\u001b[1;31m---------------------------------------------------------------------------\u001b[0m",
      "\u001b[1;31mAttributeError\u001b[0m                            Traceback (most recent call last)",
      "Cell \u001b[1;32mIn[10], line 5\u001b[0m\n\u001b[0;32m      3\u001b[0m item0\u001b[38;5;241m.\u001b[39mname \u001b[38;5;241m=\u001b[39m \u001b[38;5;124m\"\u001b[39m\u001b[38;5;124mPC\u001b[39m\u001b[38;5;124m\"\u001b[39m    \u001b[38;5;66;03m# override by setter\u001b[39;00m\n\u001b[0;32m      4\u001b[0m \u001b[38;5;28mprint\u001b[39m(\u001b[38;5;124mf\u001b[39m\u001b[38;5;124m\"\u001b[39m\u001b[38;5;132;01m{\u001b[39;00mitem0\u001b[38;5;241m.\u001b[39mname\u001b[38;5;132;01m}\u001b[39;00m\u001b[38;5;124m\"\u001b[39m)\n\u001b[1;32m----> 5\u001b[0m \u001b[43mitem0\u001b[49m\u001b[38;5;241;43m.\u001b[39;49m\u001b[43mprice\u001b[49m \u001b[38;5;241m=\u001b[39m \u001b[38;5;241m75000\u001b[39m\n\u001b[0;32m      7\u001b[0m item0\u001b[38;5;241m.\u001b[39mpay_rate \u001b[38;5;241m=\u001b[39m \u001b[38;5;241m1.0\u001b[39m\n\u001b[0;32m      8\u001b[0m \u001b[38;5;28mprint\u001b[39m(\u001b[38;5;124mf\u001b[39m\u001b[38;5;124m\"\u001b[39m\u001b[38;5;132;01m{\u001b[39;00mitem0\u001b[38;5;241m.\u001b[39mdescribe()\u001b[38;5;132;01m}\u001b[39;00m\u001b[38;5;124m\"\u001b[39m, end\u001b[38;5;241m=\u001b[39m\u001b[38;5;124m'\u001b[39m\u001b[38;5;130;01m\\t\u001b[39;00m\u001b[38;5;124m'\u001b[39m)\n",
      "\u001b[1;31mAttributeError\u001b[0m: property 'price' of 'Item' object has no setter"
     ]
    }
   ],
   "source": [
    "item0 = Item(\"Desktop\", 70000, 10)\n",
    "print(f\"{item0.name}\")\n",
    "item0.name = \"PC\"    # override by setter\n",
    "print(f\"{item0.name}\")\n",
    "item0.price = 75000\n",
    "\n",
    "item0.pay_rate = 1.0\n",
    "print(f\"{item0.describe()}\", end='\\t')\n",
    "print(f\"Total_Price: {item0.calc_total_price()}\")"
   ]
  },
  {
   "cell_type": "markdown",
   "metadata": {},
   "source": [
    "**`Abstraction`:**\n",
    "* The main purpose of abstruction is hiding unnecessary details from the users. User means those who use class to create class objects.\n",
    "* For example, if we want to send mail, it might have multiple actions to do, but we will hide all the complex actions from the user."
   ]
  },
  {
   "cell_type": "code",
   "execution_count": 16,
   "metadata": {},
   "outputs": [],
   "source": [
    "import csv\n",
    "\n",
    "class Item: # Parent Class\n",
    "    # class attribute\n",
    "    pay_rate = 0.85\n",
    "    all = []\n",
    "    \n",
    "    def __init__(self, name:str, price:float, quantity=0):\n",
    "        # validate received arguments\n",
    "        assert price >= 0, f\"price {price} cann't be negetive!\"\n",
    "        assert quantity >= 0, f\"quantity {quantity} cann't be negetive!\"\n",
    "        \n",
    "        # assign to self object\n",
    "        self.__name = name      # [__ makes it read only]\n",
    "        self.__price = price\n",
    "        self.quantity = quantity\n",
    "        \n",
    "        # append all created objects\n",
    "        Item.all.append(self)\n",
    "    \n",
    "    # Encapsulate Attribuates\n",
    "    @property   # Read only attribuates\n",
    "    def name(self):\n",
    "        return self.__name\n",
    "    # Setter\n",
    "    @name.setter\n",
    "    def name(self, value):\n",
    "        if len(value) > 10: raise Exception(\"The name is too long, make it within 10 charecters!\")\n",
    "        else: self.__name = value\n",
    "    \n",
    "    @property   # Read only attribuates\n",
    "    def price(self):\n",
    "        return self.__price\n",
    "    \n",
    "    def calc_total_price(self):\n",
    "        return (self.__price * self.quantity) * self.pay_rate\n",
    "    \n",
    "    def describe(self):\n",
    "        description = f\"Name    : {self.name}\\nPrice   : {self.__price}\\nQuantity: {self.quantity}\\nDiscount: {(1-self.pay_rate)*100:.0f}%\"\n",
    "        return description\n",
    "    \n",
    "    def __connect_smtp(self, smtp_server:str): pass\n",
    "    def __prepare_email_body(self):\n",
    "        return \"\"\"\n",
    "        Hello Authority, We have sold {self.name} {self.quantity} times.\n",
    "        Buying Price: 100000\n",
    "        Selling Price: 110000\n",
    "        Profit: 10000\n",
    "        Regards: Abs Sayem\n",
    "    \"\"\"\n",
    "    def __send(self): pass\n",
    "    def send_email(self):\n",
    "        self.__connect_smtp('')\n",
    "        self.__prepare_email_body()\n",
    "        self.__send()\n",
    "        return \"Email sent successfully!\"\n",
    "    \n",
    "    # class method\n",
    "    @classmethod\n",
    "    def init_from_csv(cls):\n",
    "        with open('item.csv', 'r') as file:\n",
    "            reader = csv.DictReader(file)   # reader will directly read the items in csv and make a dictionary\n",
    "            items = list(reader)    # convert reader into a list\n",
    "        \n",
    "        # clear existing instances\n",
    "        cls.all.clear()\n",
    "        \n",
    "        # init instances\n",
    "        for item in items:\n",
    "            Item(\n",
    "                name = item.get('Name'),\n",
    "                price = float(item.get('Price')),   # float also support int\n",
    "                quantity = int(item.get('Quantity')),\n",
    "            )\n",
    "    \n",
    "    # static method\n",
    "    @staticmethod\n",
    "    def is_integer(number):\n",
    "        # check the floats with point zero (i.e 10.0, 12.0 etc)\n",
    "        if isinstance(number, float):\n",
    "            # count the floats with point zero\n",
    "            return number.is_integer()\n",
    "        elif isinstance(number, int): return True\n",
    "        else: return False\n",
    "        \n",
    "    def __repr__(self):\n",
    "        return f\"({self.name}, {self.__price}, {self.quantity})\""
   ]
  },
  {
   "cell_type": "code",
   "execution_count": 17,
   "metadata": {},
   "outputs": [
    {
     "name": "stdout",
     "output_type": "stream",
     "text": [
      "1800.0\n"
     ]
    },
    {
     "data": {
      "text/plain": [
       "'Email sent successfully!'"
      ]
     },
     "execution_count": 17,
     "metadata": {},
     "output_type": "execute_result"
    }
   ],
   "source": [
    "item0 = Item(\"Bottle\", 150, 12)\n",
    "item0.pay_rate = 1.0\n",
    "print(item0.calc_total_price())\n",
    "item0.send_email()"
   ]
  },
  {
   "cell_type": "markdown",
   "metadata": {},
   "source": [
    "**`Inheritance`:**"
   ]
  },
  {
   "cell_type": "markdown",
   "metadata": {},
   "source": [
    "* `Parent Class`"
   ]
  },
  {
   "cell_type": "code",
   "execution_count": 18,
   "metadata": {},
   "outputs": [],
   "source": [
    "import csv\n",
    "\n",
    "class Item: # Parent Class\n",
    "    # class attribute\n",
    "    pay_rate = 0.85\n",
    "    all = []\n",
    "    \n",
    "    def __init__(self, name:str, price:float, quantity=0):\n",
    "        # validate received arguments\n",
    "        assert price >= 0, f\"price {price} cann't be negetive!\"\n",
    "        assert quantity >= 0, f\"quantity {quantity} cann't be negetive!\"\n",
    "        \n",
    "        # assign to self object\n",
    "        self.__name = name      # [__ makes it read only]\n",
    "        self.__price = price\n",
    "        self.quantity = quantity\n",
    "        \n",
    "        # append all created objects\n",
    "        Item.all.append(self)\n",
    "    \n",
    "    # Encapsulate Attribuates\n",
    "    @property   # Read only attribuates\n",
    "    def name(self):\n",
    "        return self.__name\n",
    "    # Setter\n",
    "    @name.setter\n",
    "    def name(self, value):\n",
    "        if len(value) > 10: raise Exception(\"The name is too long, make it within 10 charecters!\")\n",
    "        else: self.__name = value\n",
    "    \n",
    "    @property   # Read only attribuates\n",
    "    def price(self):\n",
    "        return self.__price\n",
    "    \n",
    "    def calc_total_price(self):\n",
    "        return (self.__price * self.quantity) * self.pay_rate\n",
    "    \n",
    "    def describe(self):\n",
    "        description = f\"Name    : {self.name}\\nPrice   : {self.__price}\\nQuantity: {self.quantity}\\nDiscount: {(1-self.pay_rate)*100:.0f}%\"\n",
    "        return description\n",
    "    \n",
    "    def __connect_smtp(self, smtp_server:str): pass\n",
    "    def __prepare_email_body(self):\n",
    "        return \"\"\"\n",
    "        Hello Authority, We have sold {self.name} {self.quantity} times.\n",
    "        Buying Price: 100000\n",
    "        Selling Price: 110000\n",
    "        Profit: 10000\n",
    "        Regards: Abs Sayem\n",
    "    \"\"\"\n",
    "    def __send(self): pass\n",
    "    def send_email(self):\n",
    "        self.__connect_smtp('')\n",
    "        self.__prepare_email_body()\n",
    "        self.__send()\n",
    "        return \"Email sent successfully!\"\n",
    "    \n",
    "    # class method\n",
    "    @classmethod\n",
    "    def init_from_csv(cls):\n",
    "        with open('item.csv', 'r') as file:\n",
    "            reader = csv.DictReader(file)   # reader will directly read the items in csv and make a dictionary\n",
    "            items = list(reader)    # convert reader into a list\n",
    "        \n",
    "        # clear existing instances\n",
    "        cls.all.clear()\n",
    "        \n",
    "        # init instances\n",
    "        for item in items:\n",
    "            Item(\n",
    "                name = item.get('Name'),\n",
    "                price = float(item.get('Price')),   # float also support int\n",
    "                quantity = int(item.get('Quantity')),\n",
    "            )\n",
    "    \n",
    "    # static method\n",
    "    @staticmethod\n",
    "    def is_integer(number):\n",
    "        # check the floats with point zero (i.e 10.0, 12.0 etc)\n",
    "        if isinstance(number, float):\n",
    "            # count the floats with point zero\n",
    "            return number.is_integer()\n",
    "        elif isinstance(number, int): return True\n",
    "        else: return False\n",
    "        \n",
    "    def __repr__(self):\n",
    "        return f\"({self.name}, {self.__price}, {self.quantity})\""
   ]
  },
  {
   "cell_type": "markdown",
   "metadata": {},
   "source": [
    "* `Child Class`"
   ]
  },
  {
   "cell_type": "code",
   "execution_count": 19,
   "metadata": {},
   "outputs": [],
   "source": [
    "# Inheritance [Child Class]   \n",
    "class Phone(Item):\n",
    "    def __init__(self, name:str, price:float, quantity=0, broken_phone=0):\n",
    "        # call super() to have access parent's initialization\n",
    "        super().__init__(name, price, quantity)\n",
    "        \n",
    "        # validate received arguments\n",
    "        assert broken_phone >= 0, f\"broken phone {broken_phone} cann't be negetive!\"\n",
    "        \n",
    "        # assign to self object\n",
    "        self.broken_phone = broken_phone"
   ]
  },
  {
   "cell_type": "code",
   "execution_count": 22,
   "metadata": {},
   "outputs": [
    {
     "name": "stdout",
     "output_type": "stream",
     "text": [
      "15725.0\n"
     ]
    },
    {
     "data": {
      "text/plain": [
       "'Email sent successfully!'"
      ]
     },
     "execution_count": 22,
     "metadata": {},
     "output_type": "execute_result"
    }
   ],
   "source": [
    "item0 = Phone(\"Galaxy A05s\", 18500, 1)\n",
    "item0.pay_rate = 0.85\n",
    "print(item0.calc_total_price())\n",
    "item0.send_email()"
   ]
  },
  {
   "cell_type": "markdown",
   "metadata": {},
   "source": [
    "**`Polymorphism`**\n",
    "* It refers to use of a single type entity to represent different objects in different scenarios.\n",
    "* If our program has ability of different scenarios, we can apply polymorphism. Call the exact same entity for different need.\n",
    "* Entity could be a function, or a attribute.\n",
    "* Polymorphism isn't something that is specifically applied to how we create our classes, that actually refers globally to our entire project."
   ]
  },
  {
   "cell_type": "code",
   "execution_count": null,
   "metadata": {},
   "outputs": [],
   "source": [
    "# Bad practices where polymorphism isn't apply\n"
   ]
  },
  {
   "cell_type": "code",
   "execution_count": 23,
   "metadata": {},
   "outputs": [
    {
     "name": "stdout",
     "output_type": "stream",
     "text": [
      "9\n",
      "2\n"
     ]
    }
   ],
   "source": [
    "# Good Pratices where polymorphism is appied\n",
    "\n",
    "name = \"Abs Sayem\"\n",
    "print(len(name))    # Here, we will receive the length of the string\n",
    "\n",
    "names = [\"Abs Sayem\", \"Sadman Sakib\"]\n",
    "print(len(names))   # Here, we will receive the number of elements in the list\n",
    "\n",
    "# len() function in python is smart enough to handle different kinds of objects effectively."
   ]
  },
  {
   "cell_type": "code",
   "execution_count": 34,
   "metadata": {},
   "outputs": [],
   "source": [
    "import csv\n",
    "\n",
    "class Item: # Parent Class\n",
    "    # class attribute\n",
    "    pay_rate = 0.85\n",
    "    all = []\n",
    "    \n",
    "    def __init__(self, name:str, price:float, quantity=0):\n",
    "        # validate received arguments\n",
    "        assert price >= 0, f\"price {price} cann't be negetive!\"\n",
    "        assert quantity >= 0, f\"quantity {quantity} cann't be negetive!\"\n",
    "        \n",
    "        # assign to self object\n",
    "        self.__name = name      # [__ makes it read only]\n",
    "        self.__price = price\n",
    "        self.quantity = quantity\n",
    "        \n",
    "        # append all created objects\n",
    "        Item.all.append(self)\n",
    "    \n",
    "    # Encapsulate Attribuates\n",
    "    @property   # Read only attribuates\n",
    "    def name(self):\n",
    "        return self.__name\n",
    "    # Setter\n",
    "    @name.setter\n",
    "    def name(self, value):\n",
    "        if len(value) > 10: raise Exception(\"The name is too long, make it within 10 charecters!\")\n",
    "        else: self.__name = value\n",
    "    \n",
    "    @property   # Read only attribuates\n",
    "    def price(self):\n",
    "        return self.__price\n",
    "    \n",
    "    def calc_total_price(self):\n",
    "        return (self.__price * self.quantity) * self.pay_rate\n",
    "    \n",
    "    def describe(self):\n",
    "        description = f\"Name    : {self.name}\\nPrice   : {self.__price}\\nQuantity: {self.quantity}\\nDiscount: {(1-self.pay_rate)*100:.0f}%\"\n",
    "        return description\n",
    "    \n",
    "    def __connect_smtp(self, smtp_server:str): pass\n",
    "    def __prepare_email_body(self):\n",
    "        return \"\"\"\n",
    "        Hello Authority, We have sold {self.name} {self.quantity} times.\n",
    "        Buying Price: 100000\n",
    "        Selling Price: 110000\n",
    "        Profit: 10000\n",
    "        Regards: Abs Sayem\n",
    "    \"\"\"\n",
    "    def __send(self): pass\n",
    "    def send_email(self):\n",
    "        self.__connect_smtp('')\n",
    "        self.__prepare_email_body()\n",
    "        self.__send()\n",
    "        return \"Email sent successfully!\"\n",
    "    \n",
    "    # class method\n",
    "    @classmethod\n",
    "    def init_from_csv(cls):\n",
    "        with open('item.csv', 'r') as file:\n",
    "            reader = csv.DictReader(file)   # reader will directly read the items in csv and make a dictionary\n",
    "            items = list(reader)    # convert reader into a list\n",
    "        \n",
    "        # clear existing instances\n",
    "        cls.all.clear()\n",
    "        \n",
    "        # init instances\n",
    "        for item in items:\n",
    "            Item(\n",
    "                name = item.get('Name'),\n",
    "                price = float(item.get('Price')),   # float also support int\n",
    "                quantity = int(item.get('Quantity')),\n",
    "            )\n",
    "    \n",
    "    # static method\n",
    "    @staticmethod\n",
    "    def is_integer(number):\n",
    "        # check the floats with point zero (i.e 10.0, 12.0 etc)\n",
    "        if isinstance(number, float):\n",
    "            # count the floats with point zero\n",
    "            return number.is_integer()\n",
    "        elif isinstance(number, int): return True\n",
    "        else: return False\n",
    "        \n",
    "    def __repr__(self):\n",
    "        return f\"({self.name}, {self.__price}, {self.quantity})\""
   ]
  },
  {
   "cell_type": "code",
   "execution_count": 35,
   "metadata": {},
   "outputs": [],
   "source": [
    "# Inheritance [Child Class]   \n",
    "class Phone(Item):\n",
    "    def __init__(self, name:str, price:float, quantity=0, broken_phone=0):\n",
    "        # call super() to have access parent's initialization\n",
    "        super().__init__(name, price, quantity)\n",
    "        \n",
    "        # validate received arguments\n",
    "        assert broken_phone >= 0, f\"broken phone {broken_phone} cann't be negetive!\"\n",
    "        \n",
    "        # assign to self object\n",
    "        self.broken_phone = broken_phone"
   ]
  },
  {
   "cell_type": "code",
   "execution_count": 36,
   "metadata": {},
   "outputs": [],
   "source": [
    "# Inheritance [Child Class]   \n",
    "class Laptop(Item):\n",
    "    pay_rate = 1.0\n",
    "    def __init__(self, name:str, price:float, quantity=0, broken_laptop=0):\n",
    "        # call super() to have access parent's initialization\n",
    "        super().__init__(name, price, quantity)"
   ]
  },
  {
   "cell_type": "code",
   "execution_count": 39,
   "metadata": {},
   "outputs": [
    {
     "name": "stdout",
     "output_type": "stream",
     "text": [
      "Name    : Galaxy S23\n",
      "Price   : 75000\n",
      "Quantity: 1\n",
      "Discount: 15%\tTotal Price: 63750.0\n",
      "\n",
      "Name    : Macbook Air M1\n",
      "Price   : 110000\n",
      "Quantity: 1\n",
      "Discount: 0%\tTotal Price: 110000.0\n"
     ]
    }
   ],
   "source": [
    "item0 = Phone(\"Galaxy S23\", 75000, 1)\n",
    "print(item0.describe(), end='\\t')\n",
    "print(f\"Total Price: {item0.calc_total_price()}\")\n",
    "print()\n",
    "item1 = Laptop(\"Macbook Air M1\", 110000, 1)\n",
    "print(item1.describe(), end='\\t')\n",
    "print(f\"Total Price: {item1.calc_total_price()}\")"
   ]
  }
 ],
 "metadata": {
  "kernelspec": {
   "display_name": "Python 3",
   "language": "python",
   "name": "python3"
  },
  "language_info": {
   "codemirror_mode": {
    "name": "ipython",
    "version": 3
   },
   "file_extension": ".py",
   "mimetype": "text/x-python",
   "name": "python",
   "nbconvert_exporter": "python",
   "pygments_lexer": "ipython3",
   "version": "3.11.4"
  },
  "orig_nbformat": 4
 },
 "nbformat": 4,
 "nbformat_minor": 2
}
