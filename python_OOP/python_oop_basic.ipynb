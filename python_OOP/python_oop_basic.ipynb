{
 "cells": [
  {
   "cell_type": "code",
   "execution_count": 11,
   "metadata": {},
   "outputs": [
    {
     "name": "stdout",
     "output_type": "stream",
     "text": [
      "Name: Abs Sayem, Date of Birth: Nov 12, 1994 and Blood Group: B+.\n",
      "Name: Someone, Date of Birth: Jan 01, 2000 and Blood Group: A+.\n"
     ]
    }
   ],
   "source": [
    "class Person:\n",
    "    def __init__(self, person_name, date_of_birth, blood_group):\n",
    "        self.name = person_name\n",
    "        self.dob = date_of_birth\n",
    "        self.bg = blood_group\n",
    "    def get_info(self):\n",
    "        return(self.name, self.dob, self.bg)\n",
    "    def get_summery(self):\n",
    "        return(f\"Name: {self.name}, Date of Birth: {self.dob} and Blood Group: {self.bg}.\")\n",
    "\n",
    "first_person = Person(\"Abs Sayem\", \"Nov 12, 1994\", \"B+\")\n",
    "second_person = Person(\"Someone\", \"Jan 01, 2000\", \"A+\")\n",
    "\n",
    "print(first_person.get_summery())\n",
    "print(second_person.get_summery())"
   ]
  },
  {
   "cell_type": "markdown",
   "metadata": {},
   "source": [
    "##### Initialization"
   ]
  },
  {
   "cell_type": "markdown",
   "metadata": {},
   "source": [
    "*In this above code, we create a class and define some modules of it. The __init__() function is a constructor- created by-default with a class declaration.* Then we create two objects of this class and added values to the parameters. After that we call the modules using the object.\n",
    "\n",
    "*Now, a change anything explicitly, we define a module *****change_name()***** to change the name from outside of the class. To do so, we call the module and give the updated name to it. And it changes the name explicitly.*"
   ]
  },
  {
   "cell_type": "code",
   "execution_count": 12,
   "metadata": {},
   "outputs": [
    {
     "name": "stdout",
     "output_type": "stream",
     "text": [
      "Name: Abs Sayem, Date of Birth: Nov 12, 1994 and Blood Group: B+.\n",
      "Name: Someone, Date of Birth: Jan 01, 2000 and Blood Group: A+.\n",
      "Name: No one, Date of Birth: Jan 01, 2000 and Blood Group: A+.\n"
     ]
    }
   ],
   "source": [
    "class Person:\n",
    "    def __init__(self, person_name, date_of_birth, blood_group):\n",
    "        self.name = person_name\n",
    "        self.dob = date_of_birth\n",
    "        self.bg = blood_group\n",
    "    def get_info(self):\n",
    "        return(self.name, self.dob, self.bg)\n",
    "    def get_summery(self):\n",
    "        return(f\"Name: {self.name}, Date of Birth: {self.dob} and Blood Group: {self.bg}.\")\n",
    "    # Cahnge Explicitly\n",
    "    def change_name(self, changed_name):\n",
    "        self.name = changed_name\n",
    "\n",
    "first_person = Person(\"Abs Sayem\", \"Nov 12, 1994\", \"B+\")\n",
    "second_person = Person(\"Someone\", \"Jan 01, 2000\", \"A+\")\n",
    "\n",
    "print(first_person.get_summery())\n",
    "print(second_person.get_summery())\n",
    "\n",
    "second_person.change_name(\"No one\")\n",
    "print(second_person.get_summery())"
   ]
  },
  {
   "cell_type": "markdown",
   "metadata": {},
   "source": [
    "*We can access the variables directly without calling the module. For this, we will call the variable name with the corresponding object. Here, we call the first_person's date_of_birth.*"
   ]
  },
  {
   "cell_type": "code",
   "execution_count": 15,
   "metadata": {},
   "outputs": [
    {
     "name": "stdout",
     "output_type": "stream",
     "text": [
      "Nov 12, 1994\n",
      "A+\n"
     ]
    }
   ],
   "source": [
    "class Person:\n",
    "    def __init__(self, person_name, date_of_birth, blood_group):\n",
    "        self.name = person_name\n",
    "        self.dob = date_of_birth\n",
    "        self.bg = blood_group\n",
    "    def get_info(self):\n",
    "        return(self.name, self.dob, self.bg)\n",
    "    def get_summery(self):\n",
    "        return(f\"Name: {self.name}, Date of Birth: {self.dob} and Blood Group: {self.bg}.\")\n",
    "    # Cahnge Explicitly\n",
    "    def change_name(self, changed_name):\n",
    "        self.name = changed_name\n",
    "\n",
    "first_person = Person(\"Abs Sayem\", \"Nov 12, 1994\", \"B+\")\n",
    "second_person = Person(\"Someone\", \"Jan 01, 2000\", \"A+\")\n",
    "\n",
    "print(first_person.dob)\n",
    "print(second_person.bg)"
   ]
  },
  {
   "cell_type": "markdown",
   "metadata": {},
   "source": [
    "###### If we can access the variables directly, why we need modules??\n",
    "*One problem is- if we can access the variable directly, we can change the value of it anytime. We can not varify the change is valid or not. But module gives us the opportunity of varifying.*\n",
    "\n",
    "*For example, we can set varification for name using the set_name() module. Here for simplicity we will check whether the name start with o or not. If anyone try to set a name with 0, we can prevent it. You can set any varification criteria.*"
   ]
  },
  {
   "cell_type": "code",
   "execution_count": 22,
   "metadata": {},
   "outputs": [
    {
     "name": "stdout",
     "output_type": "stream",
     "text": [
      "Sorry!! Name cannot contain number.\n",
      "Someone\n"
     ]
    }
   ],
   "source": [
    "class Person:\n",
    "    def __init__(self, person_name, date_of_birth, blood_group):\n",
    "        self.name = person_name\n",
    "        self.dob = date_of_birth\n",
    "        self.bg = blood_group\n",
    "    def get_info(self):\n",
    "        return(self.name, self.dob, self.bg)\n",
    "    def get_summery(self):\n",
    "        return(f\"Name: {self.name}, Date of Birth: {self.dob} and Blood Group: {self.bg}.\")\n",
    "    # Cahnge Explicitly\n",
    "    def set_name(self, changed_name):\n",
    "        if(self.has_any_number(changed_name)):\n",
    "            print(\"Sorry!! Name cannot contain number.\")\n",
    "            return\n",
    "        self.name = changed_name\n",
    "    # Create a module for checking number\n",
    "    def has_any_number(self, string):\n",
    "        return(\"0\" in string)   # It will return true if there is 0 in name\n",
    "\n",
    "first_person = Person(\"Abs Sayem\", \"Nov 12, 1994\", \"B+\")\n",
    "second_person = Person(\"Someone\", \"Jan 01, 2000\", \"A+\")\n",
    "\n",
    "second_person.set_name(\"0Hasan\")\n",
    "print(second_person.name)"
   ]
  },
  {
   "cell_type": "markdown",
   "metadata": {},
   "source": [
    "##### Encapsulation"
   ]
  },
  {
   "cell_type": "markdown",
   "metadata": {},
   "source": [
    "*But there has another problem. We can varify te name through a module but still anyone can access the variables and can change them. So, we have to make the variables (or any modules) unaccessable. To do so, just add two underscore(__) before variable or module name. By doing this we can make any variables or modules unaccessable. You can encapsulate anything if you think it for one time use only or for very personal use.*"
   ]
  },
  {
   "cell_type": "code",
   "execution_count": 32,
   "metadata": {},
   "outputs": [
    {
     "name": "stdout",
     "output_type": "stream",
     "text": [
      "Sorry!! Name cannot contain number.\n"
     ]
    }
   ],
   "source": [
    "class Person:\n",
    "    def __init__(self, person_name, date_of_birth, blood_group):\n",
    "        self.__name = person_name\n",
    "        self.__dob = date_of_birth\n",
    "        self.__bg = blood_group\n",
    "    def get_info(self):\n",
    "        return(self.__name, self.__dob, self.__bg)\n",
    "    def get_summery(self):\n",
    "        return(f\"Name: {self.__name}, Date of Birth: {self.__dob} and Blood Group: {self.__bg}.\")\n",
    "    # Cahnge Explicitly\n",
    "    def set_name(self, changed_name):\n",
    "        if(self.__has_any_number(changed_name)):\n",
    "            print(\"Sorry!! Name cannot contain number.\")\n",
    "            return\n",
    "        self.__name = changed_name\n",
    "    # Create a module for checking number\n",
    "    def __has_any_number(self, string):\n",
    "        return(\"0\" in string)   # It will return true if there is 0 in name\n",
    "\n",
    "first_person = Person(\"Abs Sayem\", \"Nov 12, 1994\", \"B+\")\n",
    "second_person = Person(\"Someone\", \"Jan 01, 2000\", \"A+\")\n",
    "\n",
    "second_person.set_name(\"0Hasan\")\n",
    "# print(second_person.__name)   # It wil cause an AttributeError"
   ]
  },
  {
   "cell_type": "markdown",
   "metadata": {},
   "source": [
    "*We also can set the variable type (Python doesn't require set the variable type, it can dynamicly set the type). When we have a large program, we tend to forget the datatype. Setting datatype will help then out.*\n",
    "\n",
    "*We can create objects as list. To do so, make an empty list first and then append objects to the list with their corresponding values.*"
   ]
  },
  {
   "cell_type": "code",
   "execution_count": 4,
   "metadata": {},
   "outputs": [
    {
     "name": "stdout",
     "output_type": "stream",
     "text": [
      "Name: Md Tushar, Date of Birth: Mar 28, 1996 and Blood Group: B-.\n",
      "Name: Faisal, Date of Birth: Jan 01, 1995 and Blood Group: O+.\n",
      "Name: Nowshad, Date of Birth: Jan 01, 1994 and Blood Group: AB+.\n"
     ]
    }
   ],
   "source": [
    "class Person:\n",
    "    def __init__(self, person_name: str, date_of_birth: str, blood_group: str):\n",
    "        self.__name = person_name\n",
    "        self.__dob = date_of_birth\n",
    "        self.__bg = blood_group\n",
    "    def get_info(self):\n",
    "        return(self.__name, self.__dob, self.__bg)\n",
    "    def get_summery(self):\n",
    "        return(f\"Name: {self.__name}, Date of Birth: {self.__dob} and Blood Group: {self.__bg}.\")\n",
    "    def get_dob(self):\n",
    "        return(self.__dob)\n",
    "    # Cahnge Explicitly\n",
    "    def set_name(self, changed_name):\n",
    "        if(self.__has_any_number(changed_name)):\n",
    "            print(\"Sorry!! Name cannot contain number.\")\n",
    "            return\n",
    "        self.__name = changed_name\n",
    "    # Create a module for checking number\n",
    "    def __has_any_number(self, string):\n",
    "        return(\"0\" in string)   # It will return true if there is 0 in name\n",
    "\n",
    "person_list = []\n",
    "person_list.append(Person(\"Md Hasan\", \"Jan 01, 1990\", \"A-\"))\n",
    "person_list.append(Person(\"Inan\",\"Dec 12, 1992\", \"A-\"))\n",
    "person_list.append(Person(\"Md Tushar\", \"Mar 28, 1996\", \"B-\"))\n",
    "person_list.append(Person(\"Faisal\", \"Jan 01, 1995\", \"O+\"))\n",
    "person_list.append(Person(\"Nowshad\", \"Jan 01, 1994\", \"AB+\"))\n",
    "\n",
    "# We can also initialize the objects with creating the list at the same time.\n",
    "#person_list = [Person(\"Md Hasan\", \"Jan 01, 1990\", \"A-\"),\n",
    "#               Person(\"Inan\", \"A-\"),\n",
    "#               Person(\"Md Tushar\", \"Mar 28, 1996\"),\n",
    "#               Person(\"Faisal\", \"Jan 01, 1995\"),\n",
    "#               Person(\"Nowshad\", \"Jan 01, 1994\", \"AB+\")]\n",
    "\n",
    "# Iterating from the list\n",
    "# Suppose, we want to retrive something specific from the list, say get information of those who was born after a \n",
    "# specific year. To do that, we need a module to access the date_of_birth since we cannot directly access the \n",
    "# variable date_of_birth.\n",
    "for person in person_list:\n",
    "    if(person.get_dob()>= \"Jan 01, 1994\"):\n",
    "        print(person.get_summery())"
   ]
  },
  {
   "cell_type": "markdown",
   "metadata": {},
   "source": [
    "*We can also make a list value *****None*****. That means- we do not pass any value to the variable.*"
   ]
  },
  {
   "cell_type": "code",
   "execution_count": 14,
   "metadata": {},
   "outputs": [
    {
     "name": "stdout",
     "output_type": "stream",
     "text": [
      "Abs Sayem\n",
      "Md Hasan\n"
     ]
    }
   ],
   "source": [
    "class Person:\n",
    "    def __init__(self, person_name: str, age: int=None):\n",
    "        self.__name = person_name\n",
    "        self.__age = age\n",
    "    def get_info(self):\n",
    "        return(self.__name, self.__age)\n",
    "    def get_summery(self):\n",
    "        pass\n",
    "        #return(f\"Name: {self.__name}, Age: {self.__age if self.__age is not None else 'Invalid'}.\")\n",
    "    def get_age(self):\n",
    "        return(self.__age)\n",
    "    def get_name(self):\n",
    "        return(self.__name)\n",
    "    # Cahnge Explicitly\n",
    "    def set_name(self, changed_name):\n",
    "        if(self.__has_any_number(changed_name)):\n",
    "            print(\"Sorry!! Name cannot contain number.\")\n",
    "            return\n",
    "        self.__name = changed_name\n",
    "    # Create a module for checking number\n",
    "    def __has_any_number(self, string):\n",
    "        return(\"0\" in string)   # It will return true if there is 0 in name\n",
    "\n",
    "# Create object and Initialize with value\n",
    "person_list = [Person(\"Abs Sayem\", 27),\n",
    "               Person(\"Md Hasan\", 30),\n",
    "               Person(\"Md Tushar\", 25),\n",
    "               Person(\"Md Faisal\")]\n",
    "\n",
    "# Iterating through the list\n",
    "# for person in person_list:\n",
    "#     print(person.get_summery())\n",
    "\n",
    "for person in person_list:\n",
    "    if(person.get_age() is not None and person.get_age()>25):\n",
    "        print(person.get_name())\n"
   ]
  },
  {
   "cell_type": "markdown",
   "metadata": {},
   "source": [
    "##### Inheritance and Polimorphism"
   ]
  },
  {
   "cell_type": "markdown",
   "metadata": {},
   "source": [
    "*If we want something and all the attributrs of a class to inherit from another class, we can do that. Inheritance helps in such situation where we need a seperate class and it has some attributes that already contains another class.* "
   ]
  },
  {
   "cell_type": "code",
   "execution_count": 15,
   "metadata": {},
   "outputs": [
    {
     "name": "stdout",
     "output_type": "stream",
     "text": [
      "Student Id: MC201103, Student Name: Abs sayem, Contact Number: 01825507837.\n",
      "Student Id: MC201103, Student Name: Md Hasan, Contact Number: 01825507837.\n"
     ]
    }
   ],
   "source": [
    "# Lets define a class and inherit\n",
    "class Student(Person):  # Here, Student is sub-class and Person is its superclass\n",
    "    def __init__(self, person_name: str, student_id: str, contact_number: str, age: int=None):\n",
    "        super().__init__(person_name, age)\n",
    "        # Now we have to assign the new variables, we can also encapsulate them.\n",
    "        self.std_id = student_id\n",
    "        self.contact_info = contact_number\n",
    "    def get_id(self):\n",
    "        return(self.std_id)\n",
    "    \n",
    "    # Now we can define new module or overwrite our superclass(Person) modules. Lets overwrite a module..\n",
    "    def get_summery(self):\n",
    "        return(f\"Student Id: {self.get_id()}, Student Name: {self.get_name()}, Contact Number: {self.contact_info}.\")\n",
    "    \n",
    "# Create object of student class\n",
    "student1 = Student(\"Abs sayem\", \"MC201103\", \"01825507837\", \"27\")\n",
    "print(student1.get_summery())\n",
    "# We can also change explicitly anything. For example, lets change the name\n",
    "student1.set_name(\"Md Hasan\")\n",
    "print(student1.get_summery())"
   ]
  },
  {
   "cell_type": "markdown",
   "metadata": {},
   "source": [
    "*Python has a built-in string method for every class. We can override it if we wish. Where ir works?- Suppose, you need to convert any variable to string(typecast), this __str__() method can help. Whatever we define in __str__() method we can access it by only using object without calling method. For about typecasting - if we do not define the __str__() method, the str typecasting won't work.*\n",
    "\n",
    "*Besides str, python also has a representation method- '__repr_()' of each class. While debugging any line the method represents the line details.*"
   ]
  },
  {
   "cell_type": "code",
   "execution_count": 16,
   "metadata": {},
   "outputs": [
    {
     "name": "stdout",
     "output_type": "stream",
     "text": [
      "Student Id: MC201103, Student Name: Abs sayem, Contact Number: 01825507837.\n",
      "Student Id: MC201103, Student Name: Md Hasan, Contact Number: 01825507837.\n"
     ]
    }
   ],
   "source": [
    "# Lets define a class and inherit\n",
    "class Student(Person):  # Here, Student is sub-class and Person is its superclass\n",
    "    def __init__(self, person_name: str, student_id: str, contact_number: str, age: int=None):\n",
    "        super().__init__(person_name, age)\n",
    "        # Now we have to assign the new variables, we can also encapsulate them.\n",
    "        self.std_id = student_id\n",
    "        self.contact_info = contact_number\n",
    "    def __str__(self):\n",
    "        # We can override it. Suppose we want to print the summery in it. We also can use the get_summery method here instead\n",
    "        return(self.get_summery())\n",
    "        #return(f\"Student Id: {self.get_id()}, Student Name: {str(self.get_name())}, Contact Number: {self.contact_info}.\")\n",
    "    def __repr__(self):\n",
    "        return(f\"Student Id: {self.get_id()}, Student Name: {str(self.get_name())}, Contact Number: {self.contact_info}.\")\n",
    "    \n",
    "    def get_id(self):\n",
    "        return(self.std_id)\n",
    "    \n",
    "    # Now we can define new module or overwrite our superclass(Person) modules. Lets overwrite a module..\n",
    "    def get_summery(self):\n",
    "        return(f\"Student Id: {self.get_id()}, Student Name: {str(self.get_name())}, Contact Number: {self.contact_info}.\")\n",
    "    \n",
    "# Create object of student class. Since we define the __str__() method, we will try to access it by only object.\n",
    "student1 = Student(\"Abs sayem\", \"MC201103\", \"01825507837\", \"27\")\n",
    "print(student1)\n",
    "# We can also change explicitly anything. For example, lets change the name\n",
    "student1.set_name(\"Md Hasan\")\n",
    "print(student1)"
   ]
  },
  {
   "cell_type": "markdown",
   "metadata": {},
   "source": [
    "*We can also inherit a class from multiple sub-class. Suppose, we have a Teacher sub class that also inherit Person Class.*"
   ]
  },
  {
   "cell_type": "code",
   "execution_count": 17,
   "metadata": {},
   "outputs": [
    {
     "name": "stdout",
     "output_type": "stream",
     "text": [
      "None\n",
      "Student Id: EMC200121, Student Name: Md Hasan, Contact Number: 01313406616.\n",
      "None\n"
     ]
    }
   ],
   "source": [
    "# Define Teacher class and inherit The Person class\n",
    "class Teacher(Person):\n",
    "    def __init__(self, person_name: str, department: str, salary: int, age: int=None):\n",
    "        super().__init__(person_name, age)\n",
    "        self.__salary = salary\n",
    "        self.department = department\n",
    "\n",
    "# Make objects\n",
    "person_list1 = [Person(\"Abs sayem\", 27),\n",
    "                Student(\"Md Hasan\", \"EMC200121\", \"01313406616\", 29),\n",
    "                Teacher(\"Md Khaliluzzaman\", 45, \"CSE\", 80000)]\n",
    "\n",
    "# Iterate through the object\n",
    "for persons in person_list1:\n",
    "    print(persons.get_summery())"
   ]
  }
 ],
 "metadata": {
  "interpreter": {
   "hash": "703b2bc398e15cd74c7a93565a102b3060db76bb218c5bf5b3619260b8a02446"
  },
  "kernelspec": {
   "display_name": "Python 3.9.5 64-bit",
   "language": "python",
   "name": "python3"
  },
  "language_info": {
   "codemirror_mode": {
    "name": "ipython",
    "version": 3
   },
   "file_extension": ".py",
   "mimetype": "text/x-python",
   "name": "python",
   "nbconvert_exporter": "python",
   "pygments_lexer": "ipython3",
   "version": "3.9.5"
  },
  "orig_nbformat": 4
 },
 "nbformat": 4,
 "nbformat_minor": 2
}
