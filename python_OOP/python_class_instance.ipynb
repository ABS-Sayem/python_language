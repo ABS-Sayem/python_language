{
 "cells": [
  {
   "cell_type": "code",
   "execution_count": 26,
   "metadata": {},
   "outputs": [],
   "source": [
    "# Define a class\n",
    "class SoftwareEngineer:\n",
    "    \n",
    "    # Class attributes\n",
    "    alias = \"One-Man-Army\"\n",
    "    \n",
    "    def __init__(self, name, age, level, salary):\n",
    "        # all the parameters (name, age, lvel, salary) are pass from the outside of the class.\n",
    "        # and (self.name, self.age, self.level, self.salary) that can be used inside the class. They are called instance attributes.\n",
    "        self.name = name\n",
    "        self.age = age\n",
    "        self.level = level\n",
    "        self.salary = salary\n",
    "\n",
    "\n"
   ]
  },
  {
   "cell_type": "code",
   "execution_count": 30,
   "metadata": {},
   "outputs": [
    {
     "name": "stdout",
     "output_type": "stream",
     "text": [
      "Hasan Mojumder $20000\n",
      "One-Man-Army\n",
      "One-Man-Army\n"
     ]
    }
   ],
   "source": [
    "# Make an instance of SoftwareEngineer Class\n",
    "se1 = SoftwareEngineer(\"Hasan Mojumder\", \"27\", \"Senior Engineer\", \"$20000\")\n",
    "print(se1.name, se1.salary)\n",
    "#print(SoftwareEngineer.name) #It is not valid, because 'name' attribute ties with only a specific instance not in the whole class.\n",
    "# But a class attributes is valid for every instance.\n",
    "print(se1.alias)\n",
    "print(SoftwareEngineer.alias)\n",
    "\n",
    "# Lets make another instance\n",
    "se2 = SoftwareEngineer(\"Saifa Shahid\", \"25\", \"Semi-Senior Engineer\", \"$15000\")"
   ]
  },
  {
   "cell_type": "markdown",
   "metadata": {},
   "source": [
    "# -------Recap--------\n",
    "> Create a class\n",
    "\n",
    "> Create a instance of class (instance)\n",
    "\n",
    "> Instance attibutes: define in __init__(self) function. Accessable not for the specific instance\n",
    "\n",
    "> Class attribute: accessable for every instance of class and the class itself"
   ]
  }
 ],
 "metadata": {
  "interpreter": {
   "hash": "3fc75ea62eebc3216c0664ee4cec7d1232448df008cea4a1d103b412cd05756b"
  },
  "kernelspec": {
   "display_name": "Python 3.10.0 64-bit",
   "language": "python",
   "name": "python3"
  },
  "language_info": {
   "codemirror_mode": {
    "name": "ipython",
    "version": 3
   },
   "file_extension": ".py",
   "mimetype": "text/x-python",
   "name": "python",
   "nbconvert_exporter": "python",
   "pygments_lexer": "ipython3",
   "version": "3.10.0"
  },
  "orig_nbformat": 4
 },
 "nbformat": 4,
 "nbformat_minor": 2
}
