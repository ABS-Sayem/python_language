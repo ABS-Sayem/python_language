{
 "cells": [
  {
   "cell_type": "code",
   "execution_count": 3,
   "metadata": {},
   "outputs": [
    {
     "name": "stdout",
     "output_type": "stream",
     "text": [
      "30000\n",
      "asl001@asl-bd.com\n"
     ]
    }
   ],
   "source": [
    "# Class, Object and Attibutes\n",
    "class Employee():\n",
    "    pass\n",
    "\n",
    "# Objects and their Attributes\n",
    "employee1 = Employee()\n",
    "employee1.id = \"ASL001\"\n",
    "employee1.email = \"asl001@asl-bd.com\"\n",
    "employee1.phone = \"01313406601\"\n",
    "employee1.employment_year = 5\n",
    "employee1.salary = 30000\n",
    "\n",
    "employee2 = Employee()\n",
    "employee2.id = \"ASL001\"\n",
    "employee2.email = \"asl001@asl-bd.com\"\n",
    "employee2.phone = \"01313406601\"\n",
    "employee2.employment_year = 4\n",
    "employee2.salary = 25000\n",
    "\n",
    "print(employee1.salary)\n",
    "print(employee2.email)"
   ]
  },
  {
   "cell_type": "code",
   "execution_count": 9,
   "metadata": {},
   "outputs": [
    {
     "name": "stdout",
     "output_type": "stream",
     "text": [
      "1800000\n",
      "1200000\n"
     ]
    }
   ],
   "source": [
    "# Define a module in the class\n",
    "class Employee():\n",
    "    pass\n",
    "    def calculate_invastement(self, x, y):\n",
    "        return (x*12)*y\n",
    "\n",
    "# Objects and their Attributes\n",
    "employee1 = Employee()\n",
    "employee1.id = \"ASL001\"\n",
    "employee1.email = \"asl001@asl-bd.com\"\n",
    "employee1.phone = \"01313406601\"\n",
    "employee1.employment_year = 5\n",
    "employee1.salary = 30000\n",
    "\n",
    "employee2 = Employee()\n",
    "employee2.id = \"ASL001\"\n",
    "employee2.email = \"asl001@asl-bd.com\"\n",
    "employee2.phone = \"01313406601\"\n",
    "employee2.employment_year = 4\n",
    "employee2.salary = 25000\n",
    "\n",
    "print(employee1.calculate_invastement(employee1.employment_year, employee1.salary))\n",
    "print(employee2.calculate_invastement(employee2.employment_year, employee2.salary))"
   ]
  },
  {
   "cell_type": "markdown",
   "metadata": {},
   "source": [
    "**`__init__()`**\n",
    "* when we create an object of any class it automatically pass the object to the class as its default parameter along with the attributes we define for the object. Now, we can pass the attributes while creating the object.\n",
    "* we can access the attributes with the default constructor `__init__()` of the class."
   ]
  },
  {
   "cell_type": "code",
   "execution_count": 10,
   "metadata": {},
   "outputs": [
    {
     "name": "stdout",
     "output_type": "stream",
     "text": [
      "Id: ASL003 => Total Investment: 1104000\n",
      "Id: ASL004 => Total Investment: 1056000\n"
     ]
    }
   ],
   "source": [
    "class Employee():\n",
    "    def __init__(self,id,email,phone,employment_year,salary):\n",
    "        self.id = id\n",
    "        self.email = email\n",
    "        self.phone = phone\n",
    "        self.employment_year = employment_year\n",
    "        self.salary = salary\n",
    "        print(f\"Id: {self.id} => Total Investment: {(self.employment_year*12)*self.salary}\")\n",
    "\n",
    "employee3 = Employee(\"ASL003\", \"asl003@asl-bd.com\", \"01313406603\", 4, 23000)\n",
    "employee4 = Employee(\"ASL004\", \"asl004@asl-bd.com\", \"01313406604\", 4, 22000)"
   ]
  },
  {
   "cell_type": "markdown",
   "metadata": {},
   "source": [
    "#### **FCC 2 Hours**"
   ]
  },
  {
   "cell_type": "markdown",
   "metadata": {},
   "source": [
    "`create class and it's objects`"
   ]
  },
  {
   "cell_type": "code",
   "execution_count": 33,
   "metadata": {},
   "outputs": [
    {
     "name": "stdout",
     "output_type": "stream",
     "text": [
      "Item1: 50000\n",
      "Item2: 150000\n"
     ]
    }
   ],
   "source": [
    "class Item:\n",
    "    def calc_total_price(self, price, quantity):\n",
    "        return price*quantity\n",
    "\n",
    "\n",
    "item1 = Item()\n",
    "item1.name = \"Phone\"\n",
    "item1.price = 10000\n",
    "item1.quantity = 5\n",
    "print(f\"Item1: {item1.calc_total_price(item1.price, item1.quantity)}\")\n",
    "\n",
    "item2 = Item()\n",
    "item2.name = \"Smart Phone\"\n",
    "item2.price = 50000\n",
    "item2.quantity = 3\n",
    "print(f\"Item2: {item2.calc_total_price(item2.price, item2.quantity)}\")"
   ]
  },
  {
   "cell_type": "markdown",
   "metadata": {},
   "source": [
    "`initialization (constructor)`"
   ]
  },
  {
   "cell_type": "code",
   "execution_count": 34,
   "metadata": {},
   "outputs": [
    {
     "name": "stdout",
     "output_type": "stream",
     "text": [
      "Item1: Phone, 10000, 0 | Total_Price: 0\n",
      "Item2: Laptop, 50000, 3 | Total_Price: 150000\n",
      "Item3: Monitor, 5000, 13 | Total_Price: 5000500050005000500050005000500050005000500050005000\n"
     ]
    }
   ],
   "source": [
    "class Item:\n",
    "    def __init__(self, name, price=0, quantity=0):\n",
    "        self.name = name\n",
    "        self.price = price\n",
    "        self.quantity = quantity\n",
    "    \n",
    "    def calc_total_price(self):\n",
    "        return self.price * self.quantity\n",
    "\n",
    "\n",
    "item1 = Item(\"Phone\", 10000)\n",
    "item1.has_keyboard = False\n",
    "print(f\"Item1: {item1.name}, {item1.price}, {item1.quantity}\", end=' | ')\n",
    "print(f\"Total_Price: {item1.calc_total_price()}\")\n",
    "\n",
    "item2 = Item(\"Laptop\", 50000, 3)\n",
    "item2.has_keyboard = True\n",
    "print(f\"Item2: {item2.name}, {item2.price}, {item2.quantity}\", end=' | ')\n",
    "print(f\"Total_Price: {item2.calc_total_price()}\")\n",
    "\n",
    "item3 = Item(\"Monitor\", \"5000\", 13)\n",
    "item3.has_keyboard = False\n",
    "print(f\"Item3: {item3.name}, {item3.price}, {item3.quantity}\", end=' | ')\n",
    "print(f\"Total_Price: {item3.calc_total_price()}\")"
   ]
  },
  {
   "cell_type": "markdown",
   "metadata": {},
   "source": [
    "`validate datatype`"
   ]
  },
  {
   "cell_type": "markdown",
   "metadata": {},
   "source": [
    "* `define datatype / assign value`"
   ]
  },
  {
   "cell_type": "code",
   "execution_count": 38,
   "metadata": {},
   "outputs": [
    {
     "name": "stdout",
     "output_type": "stream",
     "text": [
      "Item4: Watch, 3000, 5 | Total_Price: 15000\n"
     ]
    }
   ],
   "source": [
    "class Item:\n",
    "    def __init__(self, name:str, price:float, quantity=0):\n",
    "        self.name = name\n",
    "        self.price = price\n",
    "        self.quantity = quantity\n",
    "    \n",
    "    def calc_total_price(self):\n",
    "        return self.price * self.quantity\n",
    "\n",
    "\n",
    "item4 = Item(\"Watch\", 3000, 5)\n",
    "item4.has_keyboard = False\n",
    "print(f\"Item4: {item4.name}, {item4.price}, {item4.quantity}\", end=' | ')\n",
    "print(f\"Total_Price: {item4.calc_total_price()}\")"
   ]
  },
  {
   "cell_type": "markdown",
   "metadata": {},
   "source": [
    "* `assertion`"
   ]
  },
  {
   "cell_type": "code",
   "execution_count": 48,
   "metadata": {},
   "outputs": [
    {
     "name": "stdout",
     "output_type": "stream",
     "text": [
      "Item5: Mouse, 450, 8 | Total_Price: 3600\n"
     ]
    }
   ],
   "source": [
    "class Item:\n",
    "    def __init__(self, name:str, price:float, quantity=0):\n",
    "        # validate received arguments\n",
    "        assert price >= 0, f\"price {price} cann't be negetive!\"\n",
    "        assert quantity >= 0, f\"quantity {quantity} cann't be negetive!\"\n",
    "        \n",
    "        self.name = name\n",
    "        self.price = price\n",
    "        self.quantity = quantity\n",
    "    \n",
    "    def calc_total_price(self):\n",
    "        return self.price * self.quantity\n",
    "\n",
    "\n",
    "item5 = Item(\"Mouse\", 450, 8)\n",
    "item5.has_keyboard = False\n",
    "print(f\"Item5: {item5.name}, {item5.price}, {item5.quantity}\", end=' | ')\n",
    "print(f\"Total_Price: {item5.calc_total_price()}\")"
   ]
  }
 ],
 "metadata": {
  "kernelspec": {
   "display_name": "Python 3",
   "language": "python",
   "name": "python3"
  },
  "language_info": {
   "codemirror_mode": {
    "name": "ipython",
    "version": 3
   },
   "file_extension": ".py",
   "mimetype": "text/x-python",
   "name": "python",
   "nbconvert_exporter": "python",
   "pygments_lexer": "ipython3",
   "version": "3.11.4"
  },
  "orig_nbformat": 4
 },
 "nbformat": 4,
 "nbformat_minor": 2
}
