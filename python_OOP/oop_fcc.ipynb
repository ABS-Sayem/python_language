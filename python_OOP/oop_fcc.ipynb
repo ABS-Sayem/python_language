{
 "cells": [
  {
   "cell_type": "code",
   "execution_count": 3,
   "metadata": {},
   "outputs": [
    {
     "name": "stdout",
     "output_type": "stream",
     "text": [
      "30000\n",
      "asl001@asl-bd.com\n"
     ]
    }
   ],
   "source": [
    "# Class, Object and Attibutes\n",
    "class Employee():\n",
    "    pass\n",
    "\n",
    "# Objects and their Attributes\n",
    "employee1 = Employee()\n",
    "employee1.id = \"ASL001\"\n",
    "employee1.email = \"asl001@asl-bd.com\"\n",
    "employee1.phone = \"01313406601\"\n",
    "employee1.employment_year = 5\n",
    "employee1.salary = 30000\n",
    "\n",
    "employee2 = Employee()\n",
    "employee2.id = \"ASL001\"\n",
    "employee2.email = \"asl001@asl-bd.com\"\n",
    "employee2.phone = \"01313406601\"\n",
    "employee2.employment_year = 4\n",
    "employee2.salary = 25000\n",
    "\n",
    "print(employee1.salary)\n",
    "print(employee2.email)"
   ]
  },
  {
   "cell_type": "code",
   "execution_count": 49,
   "metadata": {},
   "outputs": [
    {
     "name": "stdout",
     "output_type": "stream",
     "text": [
      "1800000\n",
      "1200000\n"
     ]
    }
   ],
   "source": [
    "# Define a module in the class\n",
    "class Employee():\n",
    "    pass\n",
    "    def calculate_invastement(self, year, salary):\n",
    "        return (year*12)*salary\n",
    "\n",
    "# Objects and their Attributes\n",
    "employee1 = Employee()\n",
    "employee1.id = \"ASL001\"\n",
    "employee1.email = \"asl001@asl-bd.com\"\n",
    "employee1.phone = \"01313406601\"\n",
    "employee1.employment_year = 5\n",
    "employee1.salary = 30000\n",
    "\n",
    "employee2 = Employee()\n",
    "employee2.id = \"ASL001\"\n",
    "employee2.email = \"asl001@asl-bd.com\"\n",
    "employee2.phone = \"01313406601\"\n",
    "employee2.employment_year = 4\n",
    "employee2.salary = 25000\n",
    "\n",
    "print(employee1.calculate_invastement(employee1.employment_year, employee1.salary))\n",
    "print(employee2.calculate_invastement(employee2.employment_year, employee2.salary))"
   ]
  },
  {
   "cell_type": "markdown",
   "metadata": {},
   "source": [
    "**`__init__()`**\n",
    "* when we create an object of any class it automatically pass the object to the class as its default parameter along with the attributes we define for the object. Now, we can pass the attributes while creating the object.\n",
    "* we can access the attributes with the default constructor `__init__()` of the class."
   ]
  },
  {
   "cell_type": "code",
   "execution_count": 10,
   "metadata": {},
   "outputs": [
    {
     "name": "stdout",
     "output_type": "stream",
     "text": [
      "Id: ASL003 => Total Investment: 1104000\n",
      "Id: ASL004 => Total Investment: 1056000\n"
     ]
    }
   ],
   "source": [
    "class Employee():\n",
    "    def __init__(self,id,email,phone,employment_year,salary):\n",
    "        self.id = id\n",
    "        self.email = email\n",
    "        self.phone = phone\n",
    "        self.employment_year = employment_year\n",
    "        self.salary = salary\n",
    "        print(f\"Id: {self.id} => Total Investment: {(self.employment_year*12)*self.salary}\")\n",
    "\n",
    "employee3 = Employee(\"ASL003\", \"asl003@asl-bd.com\", \"01313406603\", 4, 23000)\n",
    "employee4 = Employee(\"ASL004\", \"asl004@asl-bd.com\", \"01313406604\", 4, 22000)"
   ]
  },
  {
   "cell_type": "markdown",
   "metadata": {},
   "source": [
    "#### **FCC 2 Hours**"
   ]
  },
  {
   "cell_type": "markdown",
   "metadata": {},
   "source": [
    "**`Class and Objects`**"
   ]
  },
  {
   "cell_type": "code",
   "execution_count": 33,
   "metadata": {},
   "outputs": [
    {
     "name": "stdout",
     "output_type": "stream",
     "text": [
      "Item1: 50000\n",
      "Item2: 150000\n"
     ]
    }
   ],
   "source": [
    "class Item:\n",
    "    def calc_total_price(self, price, quantity):\n",
    "        return price*quantity\n",
    "\n",
    "item1 = Item()\n",
    "item1.name = \"Phone\"\n",
    "item1.price = 10000\n",
    "item1.quantity = 5\n",
    "print(f\"Item1: {item1.calc_total_price(item1.price, item1.quantity)}\")\n",
    "\n",
    "item2 = Item()\n",
    "item2.name = \"Smart Phone\"\n",
    "item2.price = 50000\n",
    "item2.quantity = 3\n",
    "print(f\"Item2: {item2.calc_total_price(item2.price, item2.quantity)}\")"
   ]
  },
  {
   "cell_type": "markdown",
   "metadata": {},
   "source": [
    "**`Initialization (Constructor)`**"
   ]
  },
  {
   "cell_type": "code",
   "execution_count": 34,
   "metadata": {},
   "outputs": [
    {
     "name": "stdout",
     "output_type": "stream",
     "text": [
      "Item1: Phone, 10000, 0 | Total_Price: 0\n",
      "Item2: Laptop, 50000, 3 | Total_Price: 150000\n",
      "Item3: Monitor, 5000, 13 | Total_Price: 5000500050005000500050005000500050005000500050005000\n"
     ]
    }
   ],
   "source": [
    "class Item:\n",
    "    def __init__(self, name, price=0, quantity=0):\n",
    "        self.name = name\n",
    "        self.price = price\n",
    "        self.quantity = quantity\n",
    "    \n",
    "    def calc_total_price(self):\n",
    "        return self.price * self.quantity\n",
    "\n",
    "item1 = Item(\"Phone\", 10000)\n",
    "item1.has_keyboard = False\n",
    "print(f\"Item1: {item1.name}, {item1.price}, {item1.quantity}\", end=' | ')\n",
    "print(f\"Total_Price: {item1.calc_total_price()}\")\n",
    "\n",
    "item2 = Item(\"Laptop\", 50000, 3)\n",
    "item2.has_keyboard = True\n",
    "print(f\"Item2: {item2.name}, {item2.price}, {item2.quantity}\", end=' | ')\n",
    "print(f\"Total_Price: {item2.calc_total_price()}\")\n",
    "\n",
    "item3 = Item(\"Monitor\", \"5000\", 13)\n",
    "item3.has_keyboard = False\n",
    "print(f\"Item3: {item3.name}, {item3.price}, {item3.quantity}\", end=' | ')\n",
    "print(f\"Total_Price: {item3.calc_total_price()}\")"
   ]
  },
  {
   "cell_type": "markdown",
   "metadata": {},
   "source": [
    "**`Validate Datatype`**"
   ]
  },
  {
   "cell_type": "markdown",
   "metadata": {},
   "source": [
    "* `define datatype / assign value`"
   ]
  },
  {
   "cell_type": "code",
   "execution_count": 38,
   "metadata": {},
   "outputs": [
    {
     "name": "stdout",
     "output_type": "stream",
     "text": [
      "Item4: Watch, 3000, 5 | Total_Price: 15000\n"
     ]
    }
   ],
   "source": [
    "class Item:\n",
    "    def __init__(self, name:str, price:float, quantity=0):\n",
    "        self.name = name\n",
    "        self.price = price\n",
    "        self.quantity = quantity\n",
    "    \n",
    "    def calc_total_price(self):\n",
    "        return self.price * self.quantity\n",
    "\n",
    "\n",
    "item4 = Item(\"Watch\", 3000, 5)\n",
    "item4.has_keyboard = False\n",
    "print(f\"Item4: {item4.name}, {item4.price}, {item4.quantity}\", end=' | ')\n",
    "print(f\"Total_Price: {item4.calc_total_price()}\")"
   ]
  },
  {
   "cell_type": "markdown",
   "metadata": {},
   "source": [
    "* `assertion`"
   ]
  },
  {
   "cell_type": "code",
   "execution_count": 48,
   "metadata": {},
   "outputs": [
    {
     "name": "stdout",
     "output_type": "stream",
     "text": [
      "Item5: Mouse, 450, 8 | Total_Price: 3600\n"
     ]
    }
   ],
   "source": [
    "class Item:\n",
    "    def __init__(self, name:str, price:float, quantity=0):\n",
    "        # validate received arguments\n",
    "        assert price >= 0, f\"price {price} cann't be negetive!\"\n",
    "        assert quantity >= 0, f\"quantity {quantity} cann't be negetive!\"\n",
    "        \n",
    "        self.name = name\n",
    "        self.price = price\n",
    "        self.quantity = quantity\n",
    "    \n",
    "    def calc_total_price(self):\n",
    "        return self.price * self.quantity\n",
    "\n",
    "\n",
    "item5 = Item(\"Mouse\", 450, 8)\n",
    "item5.has_keyboard = False\n",
    "print(f\"Item5: {item5.name}, {item5.price}, {item5.quantity}\", end=' | ')\n",
    "print(f\"Total_Price: {item5.calc_total_price()}\")"
   ]
  },
  {
   "cell_type": "markdown",
   "metadata": {},
   "source": [
    "**`Class Attribute`**"
   ]
  },
  {
   "cell_type": "code",
   "execution_count": 60,
   "metadata": {},
   "outputs": [
    {
     "name": "stdout",
     "output_type": "stream",
     "text": [
      "Item5: Mouse, 1000, 1 | Total_Price: 850.0\n",
      "Item6: Pendrive, 1000, 1 | Total_Price: 800.0\n"
     ]
    }
   ],
   "source": [
    "class Item:\n",
    "    # class attribute\n",
    "    pay_rate = 0.85\n",
    "    \n",
    "    def __init__(self, name:str, price:float, quantity=0):\n",
    "        # validate received arguments\n",
    "        assert price >= 0, f\"price {price} cann't be negetive!\"\n",
    "        assert quantity >= 0, f\"quantity {quantity} cann't be negetive!\"\n",
    "        \n",
    "        self.name = name\n",
    "        self.price = price\n",
    "        self.quantity = quantity\n",
    "    \n",
    "    def calc_total_price(self):\n",
    "        return (self.price * self.quantity) * self.pay_rate\n",
    "        \n",
    "\n",
    "#print(Item.__dict__)    # display class attributes\n",
    "#print(item_.__dict__)   # display instance attributes\n",
    "\n",
    "item5 = Item(\"Mouse\", 1000, 1)\n",
    "item5.has_keyboard = False\n",
    "print(f\"Item5: {item5.name}, {item5.price}, {item5.quantity}\", end=' | ')\n",
    "print(f\"Total_Price: {item5.calc_total_price()}\")\n",
    "\n",
    "item6 = Item(\"Pendrive\", 1000, 1)\n",
    "item6.pay_rate = 0.8\n",
    "item6.has_keyboard = False\n",
    "print(f\"Item6: {item6.name}, {item6.price}, {item6.quantity}\", end=' | ')\n",
    "print(f\"Total_Price: {item6.calc_total_price()}\")"
   ]
  },
  {
   "cell_type": "markdown",
   "metadata": {},
   "source": [
    "**`representing all objects`**"
   ]
  },
  {
   "cell_type": "code",
   "execution_count": 11,
   "metadata": {},
   "outputs": [
    {
     "name": "stdout",
     "output_type": "stream",
     "text": [
      "Laptop, Tablet, Phone, Watch, Pendrive, Mouse, "
     ]
    }
   ],
   "source": [
    "class Item:\n",
    "    # class attribute\n",
    "    pay_rate = 0.85\n",
    "    all_instances = []\n",
    "    \n",
    "    def __init__(self, name:str, price:float, quantity=0):\n",
    "        # validate received arguments\n",
    "        assert price >= 0, f\"price {price} cann't be negetive!\"\n",
    "        assert quantity >= 0, f\"quantity {quantity} cann't be negetive!\"\n",
    "        \n",
    "        # assign to self object\n",
    "        self.name = name\n",
    "        self.price = price\n",
    "        self.quantity = quantity\n",
    "        \n",
    "        # append all created objects\n",
    "        Item.all_instances.append(self)\n",
    "    \n",
    "    def calc_total_price(self):\n",
    "        return (self.price * self.quantity) * self.pay_rate\n",
    "        \n",
    "\n",
    "#print(Item.__dict__)    # display class attributes\n",
    "#print(item_.__dict__)   # display instance attributes\n",
    "\n",
    "item0 = Item(\"Laptop\", 50000, 10)\n",
    "item1 = Item(\"Tablet\", 20000, 10)\n",
    "item2 = Item(\"Phone\", 25000, 10)\n",
    "item3 = Item(\"Watch\", 3000, 10)\n",
    "item4 = Item(\"Pendrive\", 1000, 10)\n",
    "item5 = Item(\"Mouse\", 400, 10)\n",
    "\n",
    "#print(Item.all_instances)\n",
    "for instance in Item.all_instances: print(instance.name, end=', ')"
   ]
  },
  {
   "cell_type": "markdown",
   "metadata": {},
   "source": [
    "* `__repr__()` method"
   ]
  },
  {
   "cell_type": "code",
   "execution_count": 13,
   "metadata": {},
   "outputs": [
    {
     "name": "stdout",
     "output_type": "stream",
     "text": [
      "[(Laptop, 50000, 10), (Tablet, 20000, 10), (Phone, 25000, 10), (Watch, 3000, 10), (Pendrive, 1000, 10), (Mouse, 400, 10)]\n"
     ]
    }
   ],
   "source": [
    "class Item:\n",
    "    # class attribute\n",
    "    pay_rate = 0.85\n",
    "    all_instances = []\n",
    "    \n",
    "    def __init__(self, name:str, price:float, quantity=0):\n",
    "        # validate received arguments\n",
    "        assert price >= 0, f\"price {price} cann't be negetive!\"\n",
    "        assert quantity >= 0, f\"quantity {quantity} cann't be negetive!\"\n",
    "        \n",
    "        # assign to self object\n",
    "        self.name = name\n",
    "        self.price = price\n",
    "        self.quantity = quantity\n",
    "        \n",
    "        # append all created objects\n",
    "        Item.all_instances.append(self)\n",
    "    \n",
    "    def calc_total_price(self):\n",
    "        return (self.price * self.quantity) * self.pay_rate\n",
    "    \n",
    "    def __repr__(self):\n",
    "        return f\"({self.name}, {self.price}, {self.quantity})\"\n",
    "        \n",
    "\n",
    "#print(Item.__dict__)    # display class attributes\n",
    "#print(item_.__dict__)   # display instance attributes\n",
    "\n",
    "item0 = Item(\"Laptop\", 50000, 10)\n",
    "item1 = Item(\"Tablet\", 20000, 10)\n",
    "item2 = Item(\"Phone\", 25000, 10)\n",
    "item3 = Item(\"Watch\", 3000, 10)\n",
    "item4 = Item(\"Pendrive\", 1000, 10)\n",
    "item5 = Item(\"Mouse\", 400, 10)\n",
    "\n",
    "print(Item.all_instances)"
   ]
  },
  {
   "cell_type": "markdown",
   "metadata": {},
   "source": [
    "**`Class Method`**"
   ]
  },
  {
   "cell_type": "code",
   "execution_count": 26,
   "metadata": {},
   "outputs": [
    {
     "name": "stdout",
     "output_type": "stream",
     "text": [
      "[(Laptop, 50000.0, 10), (Tablet, 20000.0, 10), (Phone, 25000.0, 10), (Watch, 3000.0, 10), (Pendrive, 1000.0, 10), (Mouse, 400.0, 10)]\n"
     ]
    }
   ],
   "source": [
    "import csv\n",
    "\n",
    "class Item:\n",
    "    # class attribute\n",
    "    pay_rate = 0.85\n",
    "    all_instances = []\n",
    "    \n",
    "    def __init__(self, name:str, price:float, quantity=0):\n",
    "        # validate received arguments\n",
    "        assert price >= 0, f\"price {price} cann't be negetive!\"\n",
    "        assert quantity >= 0, f\"quantity {quantity} cann't be negetive!\"\n",
    "        \n",
    "        # assign to self object\n",
    "        self.name = name\n",
    "        self.price = price\n",
    "        self.quantity = quantity\n",
    "        \n",
    "        # append all created objects\n",
    "        Item.all_instances.append(self)\n",
    "    \n",
    "    def calc_total_price(self):\n",
    "        return (self.price * self.quantity) * self.pay_rate\n",
    "    \n",
    "    # class method\n",
    "    @classmethod\n",
    "    def init_from_csv(cls):\n",
    "        with open('item.csv', 'r') as file:\n",
    "            reader = csv.DictReader(file)   # reader will directly read the items in csv and make a dictionary\n",
    "            items = list(reader)    # convert reader into a list\n",
    "        \n",
    "        # init instances\n",
    "        for item in items:\n",
    "            Item(\n",
    "                name = item.get('Name'),\n",
    "                price = float(item.get('Price')),   # float also support int\n",
    "                quantity = int(item.get('Quantity')),\n",
    "            )\n",
    "    \n",
    "    def __repr__(self):\n",
    "        return f\"({self.name}, {self.price}, {self.quantity})\"\n",
    "    \n",
    "\n",
    "Item.init_from_csv()\n",
    "print(Item.all_instances)"
   ]
  },
  {
   "cell_type": "markdown",
   "metadata": {},
   "source": [
    "**`Static Method`**"
   ]
  },
  {
   "cell_type": "code",
   "execution_count": 1,
   "metadata": {},
   "outputs": [
    {
     "name": "stdout",
     "output_type": "stream",
     "text": [
      "Is_Int: True\n",
      "Is_Int: False\n",
      "Is_Int: True\n"
     ]
    }
   ],
   "source": [
    "import csv\n",
    "\n",
    "class Item:\n",
    "    # class attribute\n",
    "    pay_rate = 0.85\n",
    "    all_instances = []\n",
    "    \n",
    "    def __init__(self, name:str, price:float, quantity=0):\n",
    "        # validate received arguments\n",
    "        assert price >= 0, f\"price {price} cann't be negetive!\"\n",
    "        assert quantity >= 0, f\"quantity {quantity} cann't be negetive!\"\n",
    "        \n",
    "        # assign to self object\n",
    "        self.name = name\n",
    "        self.price = price\n",
    "        self.quantity = quantity\n",
    "        \n",
    "        # append all created objects\n",
    "        Item.all_instances.append(self)\n",
    "    \n",
    "    def calc_total_price(self):\n",
    "        return (self.price * self.quantity) * self.pay_rate\n",
    "    \n",
    "    # class method\n",
    "    @classmethod\n",
    "    def init_from_csv(cls):\n",
    "        with open('item.csv', 'r') as file:\n",
    "            reader = csv.DictReader(file)   # reader will directly read the items in csv and make a dictionary\n",
    "            items = list(reader)    # convert reader into a list\n",
    "        \n",
    "        # init instances\n",
    "        for item in items:\n",
    "            Item(\n",
    "                name = item.get('Name'),\n",
    "                price = float(item.get('Price')),   # float also support int\n",
    "                quantity = int(item.get('Quantity')),\n",
    "            )\n",
    "    \n",
    "    # static method\n",
    "    @staticmethod\n",
    "    def is_integer(number):\n",
    "        # check the floats with point zero (i.e 10.0, 12.0 etc)\n",
    "        if isinstance(number, float):\n",
    "            # count the floats with point zero\n",
    "            return number.is_integer()\n",
    "        elif isinstance(number, int): return True\n",
    "        else: return False\n",
    "        \n",
    "    def __repr__(self):\n",
    "        return f\"({self.name}, {self.price}, {self.quantity})\"\n",
    "    \n",
    "\n",
    "print(f\"Is_Int: {Item.is_integer(7)}\")\n",
    "print(f\"Is_Int: {Item.is_integer(7.2)}\")\n",
    "print(f\"Is_Int: {Item.is_integer(7.0)}\")"
   ]
  },
  {
   "cell_type": "markdown",
   "metadata": {},
   "source": [
    "`usecase of class and static method`"
   ]
  },
  {
   "cell_type": "code",
   "execution_count": null,
   "metadata": {},
   "outputs": [],
   "source": [
    "class Item:\n",
    "    \n",
    "    @staticmethod\n",
    "    def is_integer(num):\n",
    "        '''\n",
    "        Where this method should do something that has a relationship with the class, \n",
    "        but not something that must be unique per instance.\n",
    "        '''\n",
    "    \n",
    "    @classmethod    \n",
    "    def init_from_something(cls):\n",
    "        '''\n",
    "        Where this method also do something that has a relationship with the class, but usually, \n",
    "        thise are used to manipulate different structures of data to instantiate objects, \n",
    "        like we have done with csv. \n",
    "        '''\n",
    "\n",
    "'''\n",
    "Main difference between static and class method: static method are not passing the object reference \n",
    "as the first argument in the background, but in class method it is mandatory to pass the object reference.\n",
    "'''"
   ]
  },
  {
   "cell_type": "markdown",
   "metadata": {},
   "source": [
    "* `call static and class method from object level`"
   ]
  },
  {
   "cell_type": "code",
   "execution_count": 37,
   "metadata": {},
   "outputs": [
    {
     "name": "stdout",
     "output_type": "stream",
     "text": [
      "False\n",
      "True\n"
     ]
    }
   ],
   "source": [
    "import csv\n",
    "\n",
    "class Item:\n",
    "    # class attribute\n",
    "    pay_rate = 0.85\n",
    "    all_instances = []\n",
    "    \n",
    "    def __init__(self, name:str, price:float, quantity=0):\n",
    "        # validate received arguments\n",
    "        assert price >= 0, f\"price {price} cann't be negetive!\"\n",
    "        assert quantity >= 0, f\"quantity {quantity} cann't be negetive!\"\n",
    "        \n",
    "        # assign to self object\n",
    "        self.name = name\n",
    "        self.price = price\n",
    "        self.quantity = quantity\n",
    "        \n",
    "        # append all created objects\n",
    "        Item.all_instances.append(self)\n",
    "    \n",
    "    def calc_total_price(self):\n",
    "        return (self.price * self.quantity) * self.pay_rate\n",
    "    \n",
    "    # class method\n",
    "    @classmethod\n",
    "    def init_from_csv(cls):\n",
    "        with open('item.csv', 'r') as file:\n",
    "            reader = csv.DictReader(file)   # reader will directly read the items in csv and make a dictionary\n",
    "            items = list(reader)    # convert reader into a list\n",
    "        \n",
    "        # init instances\n",
    "        for item in items:\n",
    "            Item(\n",
    "                name = item.get('Name'),\n",
    "                price = float(item.get('Price')),   # float also support int\n",
    "                quantity = int(item.get('Quantity')),\n",
    "            )\n",
    "    \n",
    "    # static method\n",
    "    @staticmethod\n",
    "    def is_integer(number):\n",
    "        # check the floats with point zero (i.e 10.0, 12.0 etc)\n",
    "        if isinstance(number, float):\n",
    "            # count the floats with point zero\n",
    "            return number.is_integer()\n",
    "        elif isinstance(number, int): return True\n",
    "        else: return False\n",
    "        \n",
    "    def __repr__(self):\n",
    "        return f\"({self.name}, {self.price}, {self.quantity})\"\n",
    "    \n",
    "\n",
    "item0 = Item(\"Keyboard\", 750, 1)\n",
    "item0.init_from_csv()   # call class method\n",
    "# call static method\n",
    "print(item0.is_integer(7.5))\n",
    "print(item0.is_integer(7.0))"
   ]
  },
  {
   "cell_type": "markdown",
   "metadata": {},
   "source": [
    "**`Inheritance`**"
   ]
  },
  {
   "cell_type": "code",
   "execution_count": 18,
   "metadata": {},
   "outputs": [
    {
     "name": "stdout",
     "output_type": "stream",
     "text": [
      "150000.0\n"
     ]
    }
   ],
   "source": [
    "import csv\n",
    "\n",
    "class Item: # Parent Class\n",
    "    # class attribute\n",
    "    pay_rate = 0.85\n",
    "    all_items = []\n",
    "    \n",
    "    def __init__(self, name:str, price:float, quantity=0):\n",
    "        # validate received arguments\n",
    "        assert price >= 0, f\"price {price} cann't be negetive!\"\n",
    "        assert quantity >= 0, f\"quantity {quantity} cann't be negetive!\"\n",
    "        \n",
    "        # assign to self object\n",
    "        self.name = name\n",
    "        self.price = price\n",
    "        self.quantity = quantity\n",
    "        \n",
    "        # append all created objects\n",
    "        Item.all_items.append(self)\n",
    "    \n",
    "    def calc_total_price(self):\n",
    "        return (self.price * self.quantity) * self.pay_rate\n",
    "    \n",
    "    # class method\n",
    "    @classmethod\n",
    "    def init_from_csv(cls):\n",
    "        with open('item.csv', 'r') as file:\n",
    "            reader = csv.DictReader(file)   # reader will directly read the items in csv and make a dictionary\n",
    "            items = list(reader)    # convert reader into a list\n",
    "        \n",
    "        # init instances\n",
    "        for item in items:\n",
    "            Item(\n",
    "                name = item.get('Name'),\n",
    "                price = float(item.get('Price')),   # float also support int\n",
    "                quantity = int(item.get('Quantity')),\n",
    "            )\n",
    "    \n",
    "    # static method\n",
    "    @staticmethod\n",
    "    def is_integer(number):\n",
    "        # check the floats with point zero (i.e 10.0, 12.0 etc)\n",
    "        if isinstance(number, float):\n",
    "            # count the floats with point zero\n",
    "            return number.is_integer()\n",
    "        elif isinstance(number, int): return True\n",
    "        else: return False\n",
    "        \n",
    "    def __repr__(self):\n",
    "        return f\"({self.name}, {self.price}, {self.quantity})\"\n",
    "\n",
    "# Inheritance    \n",
    "class Phone(Item):  # Child Class\n",
    "    all_phones = []\n",
    "    def __init__(self, name:str, price:float, quantity=0, broken_phone=0):\n",
    "        # validate received arguments\n",
    "        assert price >= 0, f\"price {price} cann't be negetive!\"\n",
    "        assert quantity >= 0, f\"quantity {quantity} cann't be negetive!\"\n",
    "        assert broken_phone >= 0, f\"broken phone {broken_phone} cann't be negetive!\"\n",
    "        \n",
    "        # assign to self object\n",
    "        self.name = name\n",
    "        self.price = price\n",
    "        self.quantity = quantity\n",
    "        self.broken_phone = broken_phone\n",
    "        \n",
    "        # append all created objects\n",
    "        Phone.all_phones.append(self)\n",
    "\n",
    "\n",
    "phone0 = Phone(\"Abs-0 S\", 15000, 10, 1)\n",
    "phone0.pay_rate = 1.0\n",
    "print(phone0.calc_total_price())\n",
    "phone1 = Phone(\"Abs-0 R\", 17000, 10)\n",
    "phone2 = Phone(\"Abs-0 P\", 20000, 10, 1)"
   ]
  },
  {
   "cell_type": "markdown",
   "metadata": {},
   "source": [
    "* `super()`"
   ]
  },
  {
   "cell_type": "code",
   "execution_count": 19,
   "metadata": {},
   "outputs": [
    {
     "name": "stdout",
     "output_type": "stream",
     "text": [
      "150000.0\n",
      "170000.0\n",
      "190000.0\n",
      "[(Abs-0 S, 15000, 10), (Abs-0 R, 17000, 10), (Abs-0 P, 20000, 10)]\n",
      "[(Abs-0 S, 15000, 10), (Abs-0 R, 17000, 10), (Abs-0 P, 20000, 10)]\n"
     ]
    }
   ],
   "source": [
    "import csv\n",
    "\n",
    "class Item: # Parent Class\n",
    "    # class attribute\n",
    "    pay_rate = 0.85\n",
    "    all_items = []\n",
    "    \n",
    "    def __init__(self, name:str, price:float, quantity=0):\n",
    "        # validate received arguments\n",
    "        assert price >= 0, f\"price {price} cann't be negetive!\"\n",
    "        assert quantity >= 0, f\"quantity {quantity} cann't be negetive!\"\n",
    "        \n",
    "        # assign to self object\n",
    "        self.name = name\n",
    "        self.price = price\n",
    "        self.quantity = quantity\n",
    "        \n",
    "        # append all created objects\n",
    "        Item.all_items.append(self)\n",
    "    \n",
    "    def calc_total_price(self):\n",
    "        return (self.price * self.quantity) * self.pay_rate\n",
    "    \n",
    "    # class method\n",
    "    @classmethod\n",
    "    def init_from_csv(cls):\n",
    "        with open('item.csv', 'r') as file:\n",
    "            reader = csv.DictReader(file)   # reader will directly read the items in csv and make a dictionary\n",
    "            items = list(reader)    # convert reader into a list\n",
    "        \n",
    "        # init instances\n",
    "        for item in items:\n",
    "            Item(\n",
    "                name = item.get('Name'),\n",
    "                price = float(item.get('Price')),   # float also support int\n",
    "                quantity = int(item.get('Quantity')),\n",
    "            )\n",
    "    \n",
    "    # static method\n",
    "    @staticmethod\n",
    "    def is_integer(number):\n",
    "        # check the floats with point zero (i.e 10.0, 12.0 etc)\n",
    "        if isinstance(number, float):\n",
    "            # count the floats with point zero\n",
    "            return number.is_integer()\n",
    "        elif isinstance(number, int): return True\n",
    "        else: return False\n",
    "        \n",
    "    def __repr__(self):\n",
    "        return f\"({self.name}, {self.price}, {self.quantity})\"\n",
    "\n",
    "# Inheritance    \n",
    "class Phone(Item):  # Child Class\n",
    "    all_phones = []\n",
    "    def __init__(self, name:str, price:float, quantity=0, broken_phone=0):\n",
    "        # call super() to have access parent's initialization\n",
    "        super().__init__(name, price, quantity)\n",
    "        \n",
    "        # validate received arguments\n",
    "        assert broken_phone >= 0, f\"broken phone {broken_phone} cann't be negetive!\"\n",
    "        \n",
    "        # assign to self object\n",
    "        self.broken_phone = broken_phone\n",
    "        \n",
    "        # append all created objects\n",
    "        Phone.all_phones.append(self)\n",
    "\n",
    "\n",
    "phone0 = Phone(\"Abs-0 S\", 15000, 10, 1); phone0.pay_rate = 1.00; print(phone0.calc_total_price())\n",
    "phone1 = Phone(\"Abs-0 R\", 17000, 10)   ; phone1.pay_rate = 1.00; print(phone1.calc_total_price())\n",
    "phone2 = Phone(\"Abs-0 P\", 20000, 10, 1); phone2.pay_rate = 0.95; print(phone2.calc_total_price())\n",
    "\n",
    "print(Item.all_items)\n",
    "print(Phone.all_phones)"
   ]
  },
  {
   "cell_type": "markdown",
   "metadata": {},
   "source": [
    "* `remove append all items from the child class`"
   ]
  },
  {
   "cell_type": "code",
   "execution_count": 22,
   "metadata": {},
   "outputs": [
    {
     "name": "stdout",
     "output_type": "stream",
     "text": [
      "150000.0\n",
      "170000.0\n",
      "190000.0\n",
      "[(Abs-0 S, 15000, 10), (Abs-0 R, 17000, 10), (Abs-0 P, 20000, 10)]\n",
      "[(Abs-0 S, 15000, 10), (Abs-0 R, 17000, 10), (Abs-0 P, 20000, 10)]\n"
     ]
    }
   ],
   "source": [
    "import csv\n",
    "\n",
    "class Item: # Parent Class\n",
    "    # class attribute\n",
    "    pay_rate = 0.85\n",
    "    all = []\n",
    "    \n",
    "    def __init__(self, name:str, price:float, quantity=0):\n",
    "        # validate received arguments\n",
    "        assert price >= 0, f\"price {price} cann't be negetive!\"\n",
    "        assert quantity >= 0, f\"quantity {quantity} cann't be negetive!\"\n",
    "        \n",
    "        # assign to self object\n",
    "        self.name = name\n",
    "        self.price = price\n",
    "        self.quantity = quantity\n",
    "        \n",
    "        # append all created objects\n",
    "        Item.all.append(self)\n",
    "    \n",
    "    def calc_total_price(self):\n",
    "        return (self.price * self.quantity) * self.pay_rate\n",
    "    \n",
    "    # class method\n",
    "    @classmethod\n",
    "    def init_from_csv(cls):\n",
    "        with open('item.csv', 'r') as file:\n",
    "            reader = csv.DictReader(file)   # reader will directly read the items in csv and make a dictionary\n",
    "            items = list(reader)    # convert reader into a list\n",
    "        \n",
    "        # init instances\n",
    "        for item in items:\n",
    "            Item(\n",
    "                name = item.get('Name'),\n",
    "                price = float(item.get('Price')),   # float also support int\n",
    "                quantity = int(item.get('Quantity')),\n",
    "            )\n",
    "    \n",
    "    # static method\n",
    "    @staticmethod\n",
    "    def is_integer(number):\n",
    "        # check the floats with point zero (i.e 10.0, 12.0 etc)\n",
    "        if isinstance(number, float):\n",
    "            # count the floats with point zero\n",
    "            return number.is_integer()\n",
    "        elif isinstance(number, int): return True\n",
    "        else: return False\n",
    "        \n",
    "    def __repr__(self):\n",
    "        return f\"({self.name}, {self.price}, {self.quantity})\"\n",
    "\n",
    "# Inheritance    \n",
    "class Phone(Item):  # Child Class\n",
    "    def __init__(self, name:str, price:float, quantity=0, broken_phone=0):\n",
    "        # call super() to have access parent's initialization\n",
    "        super().__init__(name, price, quantity)\n",
    "        \n",
    "        # validate received arguments\n",
    "        assert broken_phone >= 0, f\"broken phone {broken_phone} cann't be negetive!\"\n",
    "        \n",
    "        # assign to self object\n",
    "        self.broken_phone = broken_phone\n",
    "\n",
    "\n",
    "phone0 = Phone(\"Abs-0 S\", 15000, 10, 1); phone0.pay_rate = 1.00; print(phone0.calc_total_price())\n",
    "phone1 = Phone(\"Abs-0 R\", 17000, 10)   ; phone1.pay_rate = 1.00; print(phone1.calc_total_price())\n",
    "phone2 = Phone(\"Abs-0 P\", 20000, 10, 1); phone2.pay_rate = 0.95; print(phone2.calc_total_price())\n",
    "\n",
    "print(Item.all)\n",
    "print(Phone.all)"
   ]
  }
 ],
 "metadata": {
  "kernelspec": {
   "display_name": "Python 3",
   "language": "python",
   "name": "python3"
  },
  "language_info": {
   "codemirror_mode": {
    "name": "ipython",
    "version": 3
   },
   "file_extension": ".py",
   "mimetype": "text/x-python",
   "name": "python",
   "nbconvert_exporter": "python",
   "pygments_lexer": "ipython3",
   "version": "3.11.4"
  },
  "orig_nbformat": 4
 },
 "nbformat": 4,
 "nbformat_minor": 2
}
