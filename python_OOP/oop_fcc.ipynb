{
 "cells": [
  {
   "cell_type": "code",
   "execution_count": 3,
   "metadata": {},
   "outputs": [
    {
     "name": "stdout",
     "output_type": "stream",
     "text": [
      "30000\n",
      "asl001@asl-bd.com\n"
     ]
    }
   ],
   "source": [
    "# Class, Object and Attibutes\n",
    "class Employee():\n",
    "    pass\n",
    "\n",
    "# Objects and their Attributes\n",
    "employee1 = Employee()\n",
    "employee1.id = \"ASL001\"\n",
    "employee1.email = \"asl001@asl-bd.com\"\n",
    "employee1.phone = \"01313406601\"\n",
    "employee1.employment_year = 5\n",
    "employee1.salary = 30000\n",
    "\n",
    "employee2 = Employee()\n",
    "employee2.id = \"ASL001\"\n",
    "employee2.email = \"asl001@asl-bd.com\"\n",
    "employee2.phone = \"01313406601\"\n",
    "employee2.employment_year = 4\n",
    "employee2.salary = 25000\n",
    "\n",
    "print(employee1.salary)\n",
    "print(employee2.email)"
   ]
  },
  {
   "cell_type": "code",
   "execution_count": 6,
   "metadata": {},
   "outputs": [
    {
     "name": "stdout",
     "output_type": "stream",
     "text": [
      "150000\n",
      "100000\n"
     ]
    }
   ],
   "source": [
    "# Define a module in the class\n",
    "class Employee():\n",
    "    pass\n",
    "    def calculate_invastement(self, x, y):\n",
    "        return (x*12)*y\n",
    "\n",
    "# Objects and their Attributes\n",
    "employee1 = Employee()\n",
    "employee1.id = \"ASL001\"\n",
    "employee1.email = \"asl001@asl-bd.com\"\n",
    "employee1.phone = \"01313406601\"\n",
    "employee1.employment_year = 5\n",
    "employee1.salary = 30000\n",
    "\n",
    "employee2 = Employee()\n",
    "employee2.id = \"ASL001\"\n",
    "employee2.email = \"asl001@asl-bd.com\"\n",
    "employee2.phone = \"01313406601\"\n",
    "employee2.employment_year = 4\n",
    "employee2.salary = 25000\n",
    "\n",
    "print(employee1.calculate_invastement(employee1.employment_year, employee1.salary))\n",
    "print(employee2.calculate_invastement(employee2.employment_year, employee2.salary))"
   ]
  },
  {
   "cell_type": "markdown",
   "metadata": {},
   "source": [
    "**`__init__()`**\n",
    "* when we create an object of any class it automatically pass the object to the class as its default parameter along with the attributes we define for the object. Now, we can pass the attributes while creating the object.\n",
    "* we can access the attributes with the default constructor `__init__()` of the class."
   ]
  },
  {
   "cell_type": "code",
   "execution_count": 8,
   "metadata": {},
   "outputs": [
    {
     "name": "stdout",
     "output_type": "stream",
     "text": [
      "Id: ASL003 => Total Investment: 1104000\n",
      "Id: ASL004 => Total Investment: 1056000\n"
     ]
    }
   ],
   "source": [
    "class Employee():\n",
    "    def __init__(self,id,email,phone,employment_year,salary):\n",
    "        self.id = id\n",
    "        self.email = email\n",
    "        self.phone = phone\n",
    "        self.employment_year = employment_year\n",
    "        self.salary = salary\n",
    "        print(f\"Id: {self.id} => Total Investment: {(self.employment_year*12)*self.salary}\")\n",
    "\n",
    "employee3 = Employee(\"ASL003\", \"asl003@asl-bd.com\", \"01313406603\", 4, 23000)\n",
    "employee4 = Employee(\"ASL004\", \"asl004@asl-bd.com\", \"01313406604\", 4, 22000)"
   ]
  }
 ],
 "metadata": {
  "kernelspec": {
   "display_name": "Python 3",
   "language": "python",
   "name": "python3"
  },
  "language_info": {
   "codemirror_mode": {
    "name": "ipython",
    "version": 3
   },
   "file_extension": ".py",
   "mimetype": "text/x-python",
   "name": "python",
   "nbconvert_exporter": "python",
   "pygments_lexer": "ipython3",
   "version": "3.11.4"
  },
  "orig_nbformat": 4
 },
 "nbformat": 4,
 "nbformat_minor": 2
}
