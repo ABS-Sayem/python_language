{
 "cells": [
  {
   "attachments": {},
   "cell_type": "markdown",
   "metadata": {},
   "source": [
    "#### **Python Program to Convert a List to String**"
   ]
  },
  {
   "attachments": {},
   "cell_type": "markdown",
   "metadata": {},
   "source": [
    "`Input: ['List', 'To', 'String']`\n",
    "\n",
    "`Output: ListToString`"
   ]
  },
  {
   "cell_type": "code",
   "execution_count": 1,
   "metadata": {},
   "outputs": [
    {
     "name": "stdout",
     "output_type": "stream",
     "text": [
      "['List', 'To', 'String']\n",
      "ListToString\n"
     ]
    }
   ],
   "source": [
    "def listToString(the_list):\n",
    "    # initialize an empty string\n",
    "    str1 = \"\"\n",
    "    # traverse in the string\n",
    "    for ele in the_list:\n",
    "        str1 += ele\n",
    "    # return string\n",
    "    return str1\n",
    "\n",
    "my_list = ['List', 'To', 'String']\n",
    "print(my_list)\n",
    "print(listToString(my_list))"
   ]
  },
  {
   "cell_type": "code",
   "execution_count": 2,
   "metadata": {},
   "outputs": [
    {
     "name": "stdout",
     "output_type": "stream",
     "text": [
      "['List', 'To', 'String']\n",
      "List To String\n"
     ]
    }
   ],
   "source": [
    "# Function to convert \n",
    "def listToString(the_list):\n",
    "    # initialize an empty string\n",
    "    str1 = \" \"\n",
    "    # return string \n",
    "    return (str1.join(the_list))\n",
    "\n",
    "my_list = ['List', 'To', 'String']\n",
    "print(my_list)\n",
    "print(listToString(my_list))"
   ]
  },
  {
   "attachments": {},
   "cell_type": "markdown",
   "metadata": {},
   "source": [
    "`Input: ['List', 'To', 'String']`\n",
    "\n",
    "`Output: List To String`"
   ]
  },
  {
   "cell_type": "code",
   "execution_count": 12,
   "metadata": {},
   "outputs": [
    {
     "name": "stdout",
     "output_type": "stream",
     "text": [
      "['List', 'To', 'String']\n",
      "List To String\n"
     ]
    }
   ],
   "source": [
    "my_list = ['List', 'To', 'String']\n",
    "print(my_list)\n",
    "string_list = ' '.join([str(elem) for elem in my_list])\n",
    "print(string_list)"
   ]
  },
  {
   "cell_type": "code",
   "execution_count": 13,
   "metadata": {},
   "outputs": [
    {
     "name": "stdout",
     "output_type": "stream",
     "text": [
      "['List', 'To', 'String']\n",
      "List To String\n"
     ]
    }
   ],
   "source": [
    "my_list = ['List', 'To', 'String']\n",
    "print(my_list)\n",
    "string_list = ' '.join(map(str, my_list))\n",
    "print(string_list)"
   ]
  },
  {
   "cell_type": "code",
   "execution_count": 14,
   "metadata": {},
   "outputs": [
    {
     "name": "stdout",
     "output_type": "stream",
     "text": [
      "['List', 'To', 'String']\n",
      "List To String\n"
     ]
    }
   ],
   "source": [
    "my_list = ['List', 'To', 'String']\n",
    "print(my_list)\n",
    "string_list = ' '.join([str(elem) for i,elem in enumerate(my_list)])\n",
    "print(string_list)"
   ]
  },
  {
   "cell_type": "code",
   "execution_count": 16,
   "metadata": {},
   "outputs": [
    {
     "name": "stdout",
     "output_type": "stream",
     "text": [
      "['List', 'To', 'String']\n",
      "List To String "
     ]
    }
   ],
   "source": [
    "my_list = ['List', 'To', 'String']\n",
    "print(my_list)\n",
    "for i in my_list:\n",
    "  print(i,end=\" \")"
   ]
  },
  {
   "cell_type": "code",
   "execution_count": 18,
   "metadata": {},
   "outputs": [
    {
     "name": "stdout",
     "output_type": "stream",
     "text": [
      "['List', 'To', 'String']\n",
      "List To String\n"
     ]
    }
   ],
   "source": [
    "my_list = ['List', 'To', 'String']\n",
    "print(my_list)\n",
    "from functools import reduce\n",
    "string_list = reduce(lambda a, b : a+ \" \" +str(b), my_list)\n",
    "print(string_list)"
   ]
  },
  {
   "cell_type": "code",
   "execution_count": 19,
   "metadata": {},
   "outputs": [
    {
     "name": "stdout",
     "output_type": "stream",
     "text": [
      "['List', 'To', 'String']\n",
      "List To String\n"
     ]
    }
   ],
   "source": [
    "my_list = ['List', 'To', 'String']\n",
    "print(my_list)\n",
    "string_list = \"{} {} {}\".format(*my_list)\n",
    "print(string_list)"
   ]
  },
  {
   "cell_type": "code",
   "execution_count": 21,
   "metadata": {},
   "outputs": [
    {
     "name": "stdout",
     "output_type": "stream",
     "text": [
      "[1001.1, 'To', 3.5678]\n",
      "1001.10 To 3.57\n"
     ]
    }
   ],
   "source": [
    "my_list = [1001.1, 'To', 3.5678]\n",
    "print(my_list)\n",
    "string_list = \"{:.2f} {} {:.2f}\".format(*my_list)\n",
    "print(string_list)"
   ]
  },
  {
   "cell_type": "code",
   "execution_count": 22,
   "metadata": {},
   "outputs": [
    {
     "name": "stdout",
     "output_type": "stream",
     "text": [
      "['List', 'To', 'String']\n",
      "List To String \n"
     ]
    }
   ],
   "source": [
    "def list_string(start,the_list,word):\n",
    "  if start==len(the_list):return word #base condition to return string\n",
    "  word+=str(the_list[start])+' ' #concatenating element in list to word variable\n",
    "  return list_string(start+1,the_list,word)  #calling recursive function\n",
    "\n",
    "my_list = ['List', 'To', 'String']\n",
    "print(my_list)\n",
    "print(list_string(0,my_list,''))"
   ]
  }
 ],
 "metadata": {
  "kernelspec": {
   "display_name": "Python 3",
   "language": "python",
   "name": "python3"
  },
  "language_info": {
   "codemirror_mode": {
    "name": "ipython",
    "version": 3
   },
   "file_extension": ".py",
   "mimetype": "text/x-python",
   "name": "python",
   "nbconvert_exporter": "python",
   "pygments_lexer": "ipython3",
   "version": "3.9.5"
  },
  "orig_nbformat": 4,
  "vscode": {
   "interpreter": {
    "hash": "24d7359adec4ffe2916680474ceb48a86338759ffb8252cd67d6683f84078a4b"
   }
  }
 },
 "nbformat": 4,
 "nbformat_minor": 2
}
