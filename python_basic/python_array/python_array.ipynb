{
 "cells": [
  {
   "cell_type": "code",
   "execution_count": 9,
   "metadata": {},
   "outputs": [
    {
     "name": "stdout",
     "output_type": "stream",
     "text": [
      "Items in the array:\n",
      "1\n",
      "3\n",
      "5\n",
      "7\n",
      "9\n",
      "11\n",
      "13\n",
      "15\n",
      "17\n",
      "1st Number: 1\n",
      "Last Number: 17\n",
      "5th Number: 9\n"
     ]
    }
   ],
   "source": [
    "# 1.Write a Python program to create an array of 5 integers and display the array items. Access individual element through indexes.\n",
    "\n",
    "from array import *\n",
    "array_number = array('i',[1,3,5,7,9,11,13,15,17])\n",
    "# Display all the array items\n",
    "print(\"Items in the array:\")\n",
    "for numbers in array_number:\n",
    "    print(numbers)\n",
    "# Access individual elements\n",
    "print(\"1st Number:\", array_number[0])\n",
    "print(\"Last Number:\", array_number[-1])\n",
    "print(\"5th Number:\", array_number[4])"
   ]
  },
  {
   "cell_type": "code",
   "execution_count": 16,
   "metadata": {},
   "outputs": [
    {
     "name": "stdout",
     "output_type": "stream",
     "text": [
      "Original Array: array('i', [1, 3, 5, 7, 9, 11, 13, 15, 17])\n",
      "New Array: array('i', [1, 3, 5, 7, 9, 11, 13, 15, 17, 19])\n"
     ]
    }
   ],
   "source": [
    "# 2.Write a Python program to append a new item to the end of the array.\n",
    "\n",
    "from array import *\n",
    "array_number = array('i',[1,3,5,7,9,11,13,15,17])\n",
    "# Display the original array\n",
    "print(\"Original Array: \"+str(array_number))\n",
    "\n",
    "# Append 19 at the end of the array\n",
    "array_number.append(19)     #append(x) added x at the last of an array\n",
    "print(\"New Array: \"+str(array_number))"
   ]
  },
  {
   "cell_type": "code",
   "execution_count": 23,
   "metadata": {},
   "outputs": [
    {
     "name": "stdout",
     "output_type": "stream",
     "text": [
      "Original Array: array('i', [1, 3, 5, 7, 9, 11, 13, 15, 17, 19])\n",
      "Reversed Array: array('i', [19, 17, 15, 13, 11, 9, 7, 5, 3, 1])\n"
     ]
    }
   ],
   "source": [
    "# 3.Write a Python program to reverse the order of the items in the array.\n",
    "\n",
    "from array import *\n",
    "array_number = array('i',[1,3,5,7,9,11,13,15,17,19])\n",
    "# Display the original array\n",
    "print(\"Original Array: \"+str(array_number))\n",
    "\n",
    "# Reverse the order of the array\n",
    "array_number.reverse()\n",
    "print(\"Reversed Array: \"+str(array_number))"
   ]
  },
  {
   "cell_type": "code",
   "execution_count": 25,
   "metadata": {},
   "outputs": [
    {
     "name": "stdout",
     "output_type": "stream",
     "text": [
      "Original Array: array('i', [1, 3, 5, 7, 9, 11, 13, 15, 17, 19])\n",
      "Byte length of the array:4\n"
     ]
    }
   ],
   "source": [
    "# 4.Write a Python program to get the length in bytes of one array item in the internal representation.\n",
    "\n",
    "from array import *\n",
    "array_number = array('i',[1,3,5,7,9,11,13,15,17,19])\n",
    "# Display the original array\n",
    "print(\"Original Array: \"+str(array_number))\n",
    "\n",
    "# Getting length in bytes\n",
    "print(\"Byte length of the array:\"+str(array_number.itemsize))"
   ]
  },
  {
   "cell_type": "code",
   "execution_count": 29,
   "metadata": {},
   "outputs": [
    {
     "name": "stdout",
     "output_type": "stream",
     "text": [
      "Original Array: array('i', [1, 3, 5, 7, 9, 11, 13, 15, 17, 19])\n",
      "Current memory addredd and Buffer size(1814577507136, 10)\n",
      "Buffer size(in Bytes):40\n"
     ]
    }
   ],
   "source": [
    "# 5.Write a Python program to get the current memory address and the length in elements of the buffer used to hold an array's contents and\n",
    "# also find the size of the memory buffer in bytes.\n",
    "\n",
    "from array import *\n",
    "array_number = array('i',[1,3,5,7,9,11,13,15,17,19])\n",
    "# Display the original array\n",
    "print(\"Original Array: \"+str(array_number))\n",
    "\n",
    "print(\"Current memory addredd and Buffer size\"+str(array_number.buffer_info()))\n",
    "print(\"Buffer size(in Bytes):\"+str(array_number.buffer_info()[1] * array_number.itemsize))"
   ]
  },
  {
   "cell_type": "code",
   "execution_count": 1,
   "metadata": {},
   "outputs": [
    {
     "name": "stdout",
     "output_type": "stream",
     "text": [
      "Original Array: array('i', [3, 1, 3, 5, 7, 9, 11, 3, 15, 17, 3, 19, 21, 3, 25, 27, 3, 29, 31, 3, 35, 37, 39])\n",
      "Number of Occurence of 3: 7\n"
     ]
    }
   ],
   "source": [
    "# 6.Write a Python program to get the number of occurrences of a specified element in an array.\n",
    "\n",
    "from array import *\n",
    "array_number = array('i',[3,1,3,5,7,9,11,3,15,17,3,19,21,3,25,27,3,29,31,3,35,37,39])\n",
    "# Display the original array\n",
    "print(\"Original Array: \"+str(array_number))\n",
    "\n",
    "# Finding number of occurence of 3\n",
    "print(\"Number of Occurence of 3: \"+str(array_number.count(3)))"
   ]
  },
  {
   "cell_type": "code",
   "execution_count": 3,
   "metadata": {},
   "outputs": [
    {
     "name": "stdout",
     "output_type": "stream",
     "text": [
      "Original Array: array('i', [1, 3, 5, 7, 9, 11, 13, 15, 17, 19])\n",
      "Extended Array: array('i', [1, 3, 5, 7, 9, 11, 13, 15, 17, 19, 1, 3, 5, 7, 9, 11, 13, 15, 17, 19])\n"
     ]
    }
   ],
   "source": [
    "# 7.Write a Python program to append items from inerrable to the end of the array.\n",
    "\n",
    "from array import *\n",
    "array_number = array('i',[1,3,5,7,9,11,13,15,17,19])\n",
    "# Display the original array\n",
    "print(\"Original Array: \"+str(array_number))\n",
    "\n",
    "# Extand the array with inerrable items\n",
    "array_number.extend(array_number)\n",
    "print(\"Extended Array: \"+str(array_number))"
   ]
  },
  {
   "cell_type": "code",
   "execution_count": 10,
   "metadata": {},
   "outputs": [
    {
     "name": "stdout",
     "output_type": "stream",
     "text": [
      "Original Array: array('b', [111, 113, 115, 107, 19, 101, 13, 105, 17, 109])\n",
      "String Array: b'oqsk\\x13e\\ri\\x11m'\n"
     ]
    }
   ],
   "source": [
    "# 8.Write a Python program to convert an array to an array of machine values and return the bytes representation.\n",
    "\n",
    "from array import *\n",
    "array_bytes = array('b', [111,113,115,107,19,101,13,105,17,109])       # bytes doesn't support greater than ......\n",
    "# Display the original array\n",
    "print(\"Original Array: \"+str(array_bytes))\n",
    "\n",
    "# Convert bytes to string\n",
    "byte_to_string = array_bytes.tobytes()\n",
    "print(\"String Array:\", byte_to_string)"
   ]
  },
  {
   "cell_type": "code",
   "execution_count": 13,
   "metadata": {},
   "outputs": [
    {
     "name": "stdout",
     "output_type": "stream",
     "text": [
      "Items in the list:[111, 113, 115, 107, 19, 101, 13, 105, 17, 109]\n",
      "Items in the array:array('i', [111, 113, 115, 107, 19, 101, 13, 105, 17, 109])\n"
     ]
    }
   ],
   "source": [
    "# 9.Write a Python program to append items from a specified list.\n",
    "from array import *\n",
    "number_list = [111,113,115,107,19,101,13,105,17,109]\n",
    "print(\"Items in the list:\"+str(number_list))\n",
    "\n",
    "# Append from a specific list\n",
    "number_array = array('i',[])\n",
    "number_array.fromlist(number_list)\n",
    "print(\"Items in the array:\"+str(number_array))"
   ]
  },
  {
   "cell_type": "code",
   "execution_count": 15,
   "metadata": {},
   "outputs": [
    {
     "name": "stdout",
     "output_type": "stream",
     "text": [
      "Original Array: array('i', [1, 3, 5, 7, 9, 11, 13, 15, 17, 19])\n",
      "New Array: array('i', [1, 2, 3, 5, 7, 9, 11, 13, 15, 17, 19])\n"
     ]
    }
   ],
   "source": [
    "# 10.Write a Python program to insert a new item before the second element in an existing array.\n",
    "\n",
    "from array import *\n",
    "array_number = array('i',[1,3,5,7,9,11,13,15,17,19])\n",
    "# Display the original array\n",
    "print(\"Original Array: \"+str(array_number))\n",
    "\n",
    "# Insert new values\n",
    "array_number.insert(1,2)    #insert(position,value)\n",
    "print(\"New Array: \"+str(array_number))"
   ]
  },
  {
   "cell_type": "code",
   "execution_count": 16,
   "metadata": {},
   "outputs": [
    {
     "name": "stdout",
     "output_type": "stream",
     "text": [
      "Original Array: array('i', [1, 3, 5, 7, 9, 11, 13, 15, 17, 19])\n",
      "New Array: array('i', [1, 3, 5, 7, 11, 13, 15, 17, 19])\n"
     ]
    }
   ],
   "source": [
    "# 11.Write a Python program to remove a specified item using the index from an array.\n",
    "\n",
    "from array import *\n",
    "array_number = array('i',[1,3,5,7,9,11,13,15,17,19])\n",
    "# Display the original array\n",
    "print(\"Original Array: \"+str(array_number))\n",
    "\n",
    "# Remove an item\n",
    "array_number.pop(4)    #pop(position)\n",
    "print(\"New Array: \"+str(array_number))"
   ]
  },
  {
   "cell_type": "code",
   "execution_count": 17,
   "metadata": {},
   "outputs": [
    {
     "name": "stdout",
     "output_type": "stream",
     "text": [
      "Original Array: array('i', [1, 3, 5, 7, 3, 11, 13, 3, 3, 19])\n",
      "New Array: array('i', [1, 5, 7, 3, 11, 13, 3, 3, 19])\n"
     ]
    }
   ],
   "source": [
    "# 12.Write a Python program to remove the first occurrence of a specified element from an array.\n",
    "\n",
    "from array import *\n",
    "array_number = array('i',[1,3,5,7,3,11,13,3,3,19])\n",
    "# Display the original array\n",
    "print(\"Original Array: \"+str(array_number))\n",
    "\n",
    "# Remove an item's first occurance\n",
    "array_number.remove(3)    #remove(value)- removes the first occurance of the value\n",
    "print(\"New Array: \"+str(array_number))"
   ]
  },
  {
   "cell_type": "code",
   "execution_count": 20,
   "metadata": {},
   "outputs": [
    {
     "name": "stdout",
     "output_type": "stream",
     "text": [
      "Original Array: array('i', [1, 3, 5, 7, 3, 11, 13, 3, 3, 19])\n",
      "Converted List:  [1, 3, 5, 7, 3, 11, 13, 3, 3, 19]\n"
     ]
    }
   ],
   "source": [
    "# 13.Write a Python program to convert an array to an ordinary list with the same items.\n",
    "\n",
    "from array import *\n",
    "array_number = array('i',[1,3,5,7,3,11,13,3,3,19])\n",
    "# Display the original array\n",
    "print(\"Original Array: \"+str(array_number))\n",
    "\n",
    "# Convert array to list\n",
    "number_list = array_number.tolist()\n",
    "print(\"Converted List: \",number_list)"
   ]
  },
  {
   "cell_type": "code",
   "execution_count": 24,
   "metadata": {},
   "outputs": [
    {
     "name": "stdout",
     "output_type": "stream",
     "text": [
      "Original Array1: array('i', [1, 3, 5, 7, 3, 11, 13, 3, 3, 19])\n",
      "Original Array2: array('i', [1, 3, 5, 7, 9, 11, 13, 15, 17, 19])\n",
      "True\n",
      "False\n"
     ]
    }
   ],
   "source": [
    "# 14.Write a Python program to find whether a given array of integers contains any duplicate element. \n",
    "# Return true if any value appears at least twice in the said array and return false if every element is distinct.\n",
    "\n",
    "from array import *\n",
    "array_number1 = array('i',[1,3,5,7,3,11,13,3,3,19])\n",
    "array_number2 = array('i',[1,3,5,7,9,11,13,15,17,19])\n",
    "# Display the original array\n",
    "print(\"Original Array1: \"+str(array_number1))\n",
    "print(\"Original Array2: \"+str(array_number2))\n",
    "\n",
    "# Test duplication\n",
    "def test_duplicate(my_array):\n",
    "    number_set = set(my_array)\n",
    "    return(len(my_array) != len(number_set))\n",
    "\n",
    "print(test_duplicate(array_number1))\n",
    "print(test_duplicate(array_number2))"
   ]
  },
  {
   "cell_type": "code",
   "execution_count": 2,
   "metadata": {},
   "outputs": [
    {
     "name": "stdout",
     "output_type": "stream",
     "text": [
      "Original Array1: array('i', [1, 3, 5, 7, 3, 11, 13, 3, 3, 19])\n",
      "Original Array2: array('i', [1, 3, 5, 7, 9, 11, 13, 15, 17, 19])\n",
      "3\n",
      "No duplicate item\n"
     ]
    }
   ],
   "source": [
    "# 15.Write a Python program to find the first duplicate element in a given array of integers. Return -1(no duplicate item) if there are no such elements.\n",
    "\n",
    "from array import *\n",
    "array_number1 = array('i',[1,3,5,7,3,11,13,3,3,19])\n",
    "array_number2 = array('i',[1,3,5,7,9,11,13,15,17,19])\n",
    "# Display the original array\n",
    "print(\"Original Array1: \"+str(array_number1))\n",
    "print(\"Original Array2: \"+str(array_number2))\n",
    "\n",
    "# Check the first duplicate item\n",
    "def find_first_duplicate(my_array):\n",
    "    number_set = set()\n",
    "    no_duplicate = \"No duplicate item\"\n",
    "\n",
    "    for i in range(len(my_array)):\n",
    "        if(my_array[i] in number_set):\n",
    "            return(my_array[i])\n",
    "        else:\n",
    "            number_set.add(my_array[i])\n",
    "    return(no_duplicate)\n",
    "\n",
    "print(find_first_duplicate(array_number1))\n",
    "print(find_first_duplicate(array_number2))"
   ]
  },
  {
   "cell_type": "code",
   "execution_count": 20,
   "metadata": {},
   "outputs": [
    {
     "name": "stdout",
     "output_type": "stream",
     "text": [
      "For Color1: True\n",
      "For Color2: False\n"
     ]
    }
   ],
   "source": [
    "# 16.Write a Python program to check whether it follows the sequence given in the patterns array.\n",
    "# For example: color1 = [\"red\", \"green\", \"green\"] = [\"a\", \"b\", \"b\"]. The output should be samePattern(color1, patterns)=True\n",
    "#            : color2 = [\"red\", \"green\", \"greenn\"] = [\"a\", \"b\", \"b\"]. The output should be samePattern(color2, patterns)=False\n",
    "\n",
    "def issamePatterns(items):\n",
    "    colors_length = len(items[0]) #; print(colors_length)\n",
    "    patterns_length = len(items[1])\n",
    "\n",
    "    if(colors_length != patterns_length): return(False)\n",
    "    sdict = {}\n",
    "    pset = []\n",
    "    sset = []\n",
    "    for i in range(patterns_length):\n",
    "        pset.append(items[1][i])\n",
    "        sset.append(items[0][i])\n",
    "        if(items[1][i]) not in sdict.keys(): sdict[items[1][i]] = []\n",
    "        keys = sdict[items[1][i]]\n",
    "        keys.append(items[0][i])\n",
    "        sdict[items[1][i]] = keys\n",
    "    \n",
    "    if(len(pset) != len(sset)): return(False)\n",
    "\n",
    "    for values in sdict.values():\n",
    "        for i in range(len(values)-1):\n",
    "            if(values[i] != values[i+1]): return(False)\n",
    "    return(True)\n",
    "\n",
    "color1 = ([\"red\", \"green\", \"green\"],[\"c0\", \"c1\", \"c1\"])\n",
    "color2 = ([\"red\", \"green\", \"greenn\"],[\"c0\", \"c1\", \"c1\"])\n",
    "\n",
    "print(\"For Color1:\", issamePatterns(color1))\n",
    "print(\"For Color2:\", issamePatterns(color2))"
   ]
  },
  {
   "cell_type": "code",
   "execution_count": 24,
   "metadata": {},
   "outputs": [
    {
     "name": "stdout",
     "output_type": "stream",
     "text": [
      "Original Number List1: [1, 9, 3, 5, 0, 8, 6, 4, -1]\n",
      "Max Product for Num_List1: (9, 8)\n",
      "Original Number List2: [9, -5, 0, -6, -1, -4, -6]\n",
      "Max Product for Num_List2: (-6, -6)\n"
     ]
    }
   ],
   "source": [
    "# 17.Write a Python program to find a pair with highest product from a given array of integers.\n",
    "# Input: array[]={1,3,4,5,6,0,8,9}      Output: {8,9}, since 8x9 gives the highest product value\n",
    "# Input: array[]={9,-5,0,-6,1,-4}       Output: {-5,-6}\n",
    "\n",
    "def max_product(array):\n",
    "    array_length = len(array)\n",
    "    if(array_length < 2): print(\"No Pair Exists\"); return\n",
    "    #Initialize max pair product\n",
    "    x = array[0]\n",
    "    y = array[1]\n",
    "    #Traverse through every possible pairs\n",
    "    for i in range(0, array_length):\n",
    "        for j in range(i+1, array_length):\n",
    "            if(array[i]*array[j] > x*y):\n",
    "                x = array[i]\n",
    "                y = array[j]\n",
    "    return(x,y)\n",
    "\n",
    "num_list1 = [1,9,3,5,0,8,6,4,-1]\n",
    "print(\"Original Number List1:\", num_list1)\n",
    "#Call the max_product function\n",
    "print(\"Max Product for Num_List1:\", max_product(num_list1))\n",
    "\n",
    "num_list2 = [9,-5,0,-6,-1,-4,-6]\n",
    "print(\"Original Number List2:\", num_list2)\n",
    "#Call the max_product function\n",
    "print(\"Max Product for Num_List2:\", max_product(num_list2))\n"
   ]
  },
  {
   "cell_type": "code",
   "execution_count": 34,
   "metadata": {},
   "outputs": [
    {
     "name": "stdout",
     "output_type": "stream",
     "text": [
      "10\n",
      "20\n",
      "30\n",
      "40\n",
      "50\n",
      "60\n"
     ]
    }
   ],
   "source": [
    "# 18.Write a Python program to create an array contains six integers. Also print all the members of the array.\n",
    "\n",
    "from array import array\n",
    "my_array = array('i', [10,20,30,40,50,60])\n",
    "\n",
    "#Print the values \n",
    "for values in my_array: print(values)"
   ]
  },
  {
   "cell_type": "code",
   "execution_count": 41,
   "metadata": {},
   "outputs": [
    {
     "name": "stdout",
     "output_type": "stream",
     "text": [
      "Buffer Address, Elements Number: (1915226082208, 10)\n"
     ]
    }
   ],
   "source": [
    "# 19.Write a Python program to get an array buffer information.\n",
    "\n",
    "from array import array\n",
    "my_array = array('i', [10,20,30,40,50,60,70,80,90,100])\n",
    "\n",
    "# Print buffer info\n",
    "print(\"Buffer Address, Elements Number:\", my_array.buffer_info())"
   ]
  },
  {
   "cell_type": "code",
   "execution_count": 42,
   "metadata": {},
   "outputs": [
    {
     "name": "stdout",
     "output_type": "stream",
     "text": [
      "Length of the array: 10\n"
     ]
    }
   ],
   "source": [
    "# 20.Write a Python program to get the length of an array.\n",
    "\n",
    "from array import array\n",
    "my_array = array('i', [10,20,30,40,50,60,70,80,90,100])\n",
    "\n",
    "# Print length of the array\n",
    "print(\"Length of the array:\", len(my_array))"
   ]
  },
  {
   "cell_type": "code",
   "execution_count": 43,
   "metadata": {},
   "outputs": [
    {
     "name": "stdout",
     "output_type": "stream",
     "text": [
      "Array1: 4\n",
      "Array2: 4\n"
     ]
    }
   ],
   "source": [
    "# 21.Write a Python program to get the array size of types unsigned integer and float.\n",
    "\n",
    "from array import array\n",
    "my_array1 = array('I', [10,20,30,40,50,60,70,80,90,100])\n",
    "my_array2 = array('f', [10.10,20.5,30.333,40.04,50.0,60.7893,70.009,80.80,90.2301,100.0])\n",
    "\n",
    "# Print the size of unsigned integer and float array\n",
    "print(\"Array1:\", my_array1.itemsize)\n",
    "print(\"Array2:\", my_array1.itemsize)"
   ]
  },
  {
   "cell_type": "code",
   "execution_count": 45,
   "metadata": {},
   "outputs": [
    {
     "name": "stdout",
     "output_type": "stream",
     "text": [
      "Array1: array('i', [5, 6, 7, 8, 9])\n",
      "Array_as_Bytes: b'0500000006000000070000000800000009000000'\n",
      "Array2: array('i', [5, 6, 7, 8, 9])\n"
     ]
    }
   ],
   "source": [
    "# 22.Write a Python program to read a string and interpreting the string as an array of machine values.\n",
    "\n",
    "from array import array\n",
    "import binascii\n",
    "\n",
    "array1 = array('i', [5,6,7,8,9])\n",
    "print(\"Array1:\", array1)\n",
    "\n",
    "# Convert to bytes\n",
    "array_as_bytes = array1.tobytes()\n",
    "print(\"Array_as_Bytes:\", binascii.hexlify(array_as_bytes))\n",
    "\n",
    "# Return to integers\n",
    "array2 = array('i')\n",
    "array2.frombytes(array_as_bytes)\n",
    "print(\"Array2:\", array2)"
   ]
  },
  {
   "cell_type": "code",
   "execution_count": 58,
   "metadata": {},
   "outputs": [
    {
     "name": "stdout",
     "output_type": "stream",
     "text": [
      "Original Array: array('i', [10, 20, 30, 20, 50, 60, 70, 20, 90, 100])\n",
      "Elements of Array: 10 20 30 20 50 60 70 20 90 100 \n",
      "Duplicate Item Removed Array: 10 20 30 50 60 70 90 100 \n",
      "\n",
      "Original Array: array('i', [10, 20, 30, 20, 10, 10, 70, 20, 90, 10])\n",
      "Elements of Array: 10 20 30 20 10 10 70 20 90 10 \n",
      "Duplicate Item Removed Array: 10 20 30 70 90 "
     ]
    }
   ],
   "source": [
    "# 23.Write a Python program to remove all duplicate elements from a given array and returns a new array.\n",
    "\n",
    "import array as arr\n",
    "\n",
    "# Sorting function\n",
    "def sorted_set(numbers):\n",
    "    return(sorted(set(numbers), key=numbers.index))\n",
    "\n",
    "array_number1 = arr.array('i', [10,20,30,20,50,60,70,20,90,100])\n",
    "print(\"Original Array:\", array_number1)\n",
    "\n",
    "print(\"Elements of Array:\", end=' ')\n",
    "for i in range(len(array_number1)): print(array_number1[i], end=' ')\n",
    "\n",
    "# Remove duplicate values\n",
    "dremoved_result = arr.array('i', sorted_set(array_number1))\n",
    "print(\"\\nDuplicate Item Removed Array:\", end=' ')\n",
    "for i in range(len(dremoved_result)): print(dremoved_result[i], end=' ')\n",
    "#-----------------------------------------------------------------------\n",
    "# Another Example\n",
    "array_number2 = arr.array('i', [10,20,30,20,10,10,70,20,90,10])\n",
    "print(\"\\n\\nOriginal Array:\", array_number2)\n",
    "\n",
    "print(\"Elements of Array:\", end=' ')\n",
    "for i in range(len(array_number2)): print(array_number2[i], end=' ')\n",
    "\n",
    "# Remove duplicate values\n",
    "dremoved_result = arr.array('i', sorted_set(array_number2))\n",
    "print(\"\\nDuplicate Item Removed Array:\", end=' ')\n",
    "for i in range(len(dremoved_result)): print(dremoved_result[i], end=' ')"
   ]
  },
  {
   "cell_type": "code",
   "execution_count": 72,
   "metadata": {},
   "outputs": [
    {
     "name": "stdout",
     "output_type": "stream",
     "text": [
      "Original Array: 10 11 12 15 17 18 20 13 16 19 \n",
      "Missing Number in Array(10-20): 14\n"
     ]
    }
   ],
   "source": [
    "# 24.Write a Python program to find the missing number in a given array of numbers between 10 and 20.\n",
    "# Can only find one missing value of given range\n",
    "\n",
    "import array as arr\n",
    "\n",
    "# Difference function\n",
    "def missing_number(numbers):\n",
    "    return(sum(range(10,21)) - sum(list(numbers)))\n",
    "\n",
    "array_number1 = arr.array('i', [10,11,12,15,17,18,20,13,16,19])\n",
    "print(\"Original Array:\", end=' ')\n",
    "for i in range(len(array_number1)): print(array_number1[i], end=' ')\n",
    "\n",
    "print(\"\\nMissing Number in Array(10-20):\", missing_number(array_number1))"
   ]
  }
 ],
 "metadata": {
  "interpreter": {
   "hash": "88bd64abd146d54e091ff1398670d31add9e50ee4691cdc8ffb9431c01087a21"
  },
  "kernelspec": {
   "display_name": "Python 3.9.5 64-bit",
   "language": "python",
   "name": "python3"
  },
  "language_info": {
   "codemirror_mode": {
    "name": "ipython",
    "version": 3
   },
   "file_extension": ".py",
   "mimetype": "text/x-python",
   "name": "python",
   "nbconvert_exporter": "python",
   "pygments_lexer": "ipython3",
   "version": "3.9.5"
  },
  "orig_nbformat": 4
 },
 "nbformat": 4,
 "nbformat_minor": 2
}
