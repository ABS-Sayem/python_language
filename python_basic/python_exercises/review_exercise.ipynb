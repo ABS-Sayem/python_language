{
 "cells": [
  {
   "cell_type": "code",
   "execution_count": 1,
   "metadata": {},
   "outputs": [
    {
     "name": "stdout",
     "output_type": "stream",
     "text": [
      "C151124 is in CSE dept.\n",
      "C151124 has got GPA 3.75\n",
      "Science and Engineering\n",
      "Science and Engineering\n",
      "\n",
      "B151124 is in BBA dept.\n",
      "B151124 has got GPA 3.84\n",
      "Business Studies\n",
      "Science and Engineering\n"
     ]
    }
   ],
   "source": [
    "'''\n",
    "    Define a Class and its attribures and then create objects.\n",
    "'''\n",
    "\n",
    "class Student:\n",
    "    faculty = \"Science and Engineering\"\n",
    "\n",
    "    def __init__(self, id, dept) -> None:\n",
    "        self.id = id\n",
    "        self.dept = dept\n",
    "\n",
    "    def __str__(self) -> str:\n",
    "        return f\"{self.id} is in {self.dept} dept.\"\n",
    "\n",
    "    def status(self, gpa):\n",
    "        return f\"{self.id} has got GPA {gpa}\"\n",
    "\n",
    "std1 = Student(\"C151124\", \"CSE\")\n",
    "print(std1)\n",
    "print(std1.status(3.75))\n",
    "print(std1.faculty)\n",
    "print(Student.faculty)\n",
    "print(\"\\n\", end='')\n",
    "\n",
    "std2 = Student(\"B151124\", \"BBA\")\n",
    "std2.faculty = \"Business Studies\"\n",
    "print(std2)\n",
    "print(std2.status(3.84))\n",
    "print(std2.faculty)\n",
    "print(Student.faculty)"
   ]
  },
  {
   "cell_type": "code",
   "execution_count": 4,
   "metadata": {},
   "outputs": [
    {
     "name": "stdout",
     "output_type": "stream",
     "text": [
      "C101120 is in CSE dept.\n",
      "Science and Engineering\n"
     ]
    }
   ],
   "source": [
    "'''\n",
    "    Inherit the previous class to another class\n",
    "'''\n",
    "\n",
    "class Alumni(Student):\n",
    "    pass\n",
    "\n",
    "alum1 = Alumni(\"C101120\", \"CSE\")\n",
    "print(alum1)\n",
    "print(alum1.faculty)"
   ]
  },
  {
   "cell_type": "code",
   "execution_count": 10,
   "metadata": {},
   "outputs": [
    {
     "name": "stdout",
     "output_type": "stream",
     "text": [
      "C101120 is in CSE dept.\n",
      "C101120 has got GPA 4.0\n",
      "Science and Engineering\n"
     ]
    }
   ],
   "source": [
    "'''\n",
    "    Give a default attribute to Parent class method\n",
    "'''\n",
    "\n",
    "class Alumni(Student):\n",
    "    # Override the status method\n",
    "    def status(self, gpa=4.0):\n",
    "        return super().status(gpa)  # Super() here indicates the parent class\n",
    "\n",
    "alum2 = Alumni(\"C101120\", \"CSE\")\n",
    "print(alum2)\n",
    "print(alum2.status())\n",
    "print(alum2.faculty)"
   ]
  },
  {
   "cell_type": "markdown",
   "metadata": {},
   "source": [
    "**Task1: Create a Simplified Model of a Farm**\n",
    "1. You should have at least `four classes`: the parent `Animal` class and at least three child animal classes that inherit from `Animal`.\n",
    "2. Each class should have a few `attributes` and at least one `method` that models some behavior appropriate for a specific anumal or all animals- walking, running, eating, sleeping and so on.\n",
    "3. Keep it simple. Utilize `inheritance`. Make sure you output details about the animals and their behaviors.\n"
   ]
  },
  {
   "cell_type": "code",
   "execution_count": 19,
   "metadata": {},
   "outputs": [
    {
     "name": "stdout",
     "output_type": "stream",
     "text": [
      "It can Walk.\n",
      "It can Eat.\n",
      "It can Sleep.\n",
      "It can Run\n",
      "\n",
      "It can Walk.\n",
      "It can Eat.\n",
      "It can Sleep.\n",
      "It can Run\n",
      "\n",
      "It can Walk.\n",
      "It can Eat.\n",
      "It can Sleep.\n"
     ]
    }
   ],
   "source": [
    "class Animal():\n",
    "    def __init__(self) -> None:\n",
    "        pass\n",
    "    def walking(self):\n",
    "        return(f\"It can Walk.\")\n",
    "    def eating(self):\n",
    "        return(f\"It can Eat.\")\n",
    "    def sleeping(self):\n",
    "        return(f\"It can Sleep.\")\n",
    "\n",
    "class Dog(Animal):\n",
    "   special_attrib = \"It can Run\"\n",
    "   def attrib(self):\n",
    "        print(super().walking())\n",
    "        print(super().eating())\n",
    "        print(super().sleeping())\n",
    "        print(self.special_attrib)\n",
    "\n",
    "class Cat(Animal):\n",
    "    special_attrib = \"It can Run\"\n",
    "    def attrib(self):\n",
    "        print(super().walking())\n",
    "        print(super().eating())\n",
    "        print(super().sleeping())\n",
    "        print(self.special_attrib)\n",
    "\n",
    "class Tortil(Animal):\n",
    "    def attrib(self):\n",
    "        print(super().walking())\n",
    "        print(super().eating())\n",
    "        print(super().sleeping())\n",
    "\n",
    "\n",
    "dog = Dog()\n",
    "dog.attrib()\n",
    "print(\"\\n\", end='')\n",
    "\n",
    "cat = Cat()\n",
    "cat.attrib()\n",
    "print(\"\\n\", end='')\n",
    "\n",
    "tortil = Tortil()\n",
    "tortil.attrib()"
   ]
  }
 ],
 "metadata": {
  "kernelspec": {
   "display_name": "Python 3",
   "language": "python",
   "name": "python3"
  },
  "language_info": {
   "codemirror_mode": {
    "name": "ipython",
    "version": 3
   },
   "file_extension": ".py",
   "mimetype": "text/x-python",
   "name": "python",
   "nbconvert_exporter": "python",
   "pygments_lexer": "ipython3",
   "version": "3.11.4"
  }
 },
 "nbformat": 4,
 "nbformat_minor": 2
}
