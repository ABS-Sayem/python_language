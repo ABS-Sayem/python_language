{
 "cells": [
  {
   "cell_type": "markdown",
   "metadata": {},
   "source": [
    "##### Find a Pattern from Raw String"
   ]
  },
  {
   "cell_type": "code",
   "execution_count": 1,
   "metadata": {},
   "outputs": [
    {
     "name": "stdout",
     "output_type": "stream",
     "text": [
      "<re.Match object; span=(3, 6), match='abc'>\n",
      "<re.Match object; span=(12, 15), match='abc'>\n"
     ]
    }
   ],
   "source": [
    "import re\n",
    "\n",
    "test_string = \"123abc456789abc123ABC\"\n",
    "\n",
    "# Find a pattern\n",
    "#pattern = re.compile(r'abc')\n",
    "#matches = pattern.finditer(test_string)\n",
    "matches = re.finditer(r'abc', test_string)\n",
    "\n",
    "# Show the matches\n",
    "for match in matches: print(match)"
   ]
  }
 ],
 "metadata": {
  "kernelspec": {
   "display_name": "Python 3.9.5 64-bit",
   "language": "python",
   "name": "python3"
  },
  "language_info": {
   "codemirror_mode": {
    "name": "ipython",
    "version": 3
   },
   "file_extension": ".py",
   "mimetype": "text/x-python",
   "name": "python",
   "nbconvert_exporter": "python",
   "pygments_lexer": "ipython3",
   "version": "3.9.5"
  },
  "orig_nbformat": 4,
  "vscode": {
   "interpreter": {
    "hash": "4ad1a662050c36948a62a2159e528a078f0bb94ec7adadaee9eccaf8b42424e4"
   }
  }
 },
 "nbformat": 4,
 "nbformat_minor": 2
}
