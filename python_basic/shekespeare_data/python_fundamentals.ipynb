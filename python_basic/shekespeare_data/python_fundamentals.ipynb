{
 "cells": [
  {
   "cell_type": "markdown",
   "metadata": {},
   "source": [
    "##### Introduction"
   ]
  },
  {
   "cell_type": "code",
   "execution_count": 4,
   "metadata": {},
   "outputs": [
    {
     "name": "stdout",
     "output_type": "stream",
     "text": [
      "Hello Abs Sayem\n",
      "Hello Abs Sayem!\n",
      "Hello Abs Sayem.\n"
     ]
    }
   ],
   "source": [
    "# Input and Print\n",
    "username = input(\"Enter your name:\")\n",
    "print(\"Hello\", username)\n",
    "print(\"Hello {}!\".format(username))\n",
    "print(f\"Hello {username}.\")"
   ]
  },
  {
   "cell_type": "code",
   "execution_count": 13,
   "metadata": {},
   "outputs": [
    {
     "name": "stdout",
     "output_type": "stream",
     "text": [
      "Abs Sayem\n"
     ]
    }
   ],
   "source": [
    "# Concatenation (Adding String)\n",
    "def concatenate_name(first_name,last_name):\n",
    "    #print(f\"{first_name} {last_name}\")\n",
    "    return(f\"{first_name} {last_name}\")\n",
    "\n",
    "first_name = input(\"Enter your first name:\")\n",
    "last_name = input(\"Enter your last name:\")\n",
    "\n",
    "# full_name = first_name+\" \"+last_name\n",
    "# print(full_name)\n",
    "\n",
    "full_name = concatenate_name(first_name,last_name)\n",
    "print(full_name)\n"
   ]
  },
  {
   "cell_type": "code",
   "execution_count": 14,
   "metadata": {},
   "outputs": [
    {
     "name": "stdout",
     "output_type": "stream",
     "text": [
      "AbsSayem8\n"
     ]
    }
   ],
   "source": [
    "# Concatenate string with int\n",
    "person_name = \"AbsSayem\"\n",
    "last_contact_digit = 8\n",
    "\n",
    "print(person_name+str(last_contact_digit))"
   ]
  },
  {
   "cell_type": "markdown",
   "metadata": {},
   "source": [
    "##### Functions"
   ]
  },
  {
   "cell_type": "code",
   "execution_count": 8,
   "metadata": {},
   "outputs": [
    {
     "name": "stdout",
     "output_type": "stream",
     "text": [
      "124 + 12 = 136\n",
      "124 - 12 = 112\n",
      "124 * 12 = 1488\n",
      "124 / 12 = 10.333333333333334\n",
      "124 // 12 = 10\n",
      "124 % 12 = 4\n"
     ]
    }
   ],
   "source": [
    "def add(first_number, second_number):\n",
    "    print(f\"{first_number} + {second_number} = {first_number+second_number}\")\n",
    "\n",
    "def subtract(first_number, second_number):\n",
    "    print(f\"{first_number} - {second_number} = {first_number-second_number}\")\n",
    "\n",
    "def multiply(first_number, second_number):\n",
    "    print(f\"{first_number} * {second_number} = {first_number*second_number}\")\n",
    "\n",
    "def divide(first_number, second_number):\n",
    "    print(f\"{first_number} / {second_number} = {first_number/second_number}\")\n",
    "\n",
    "def divide_int(first_number, second_number): # for only Quotient\n",
    "    print(f\"{first_number} // {second_number} = {first_number//second_number}\")\n",
    "\n",
    "def modulus(first_number, second_number):   # Modulus gives remainder\n",
    "    print(f\"{first_number} % {second_number} = {first_number%second_number}\")\n",
    "\n",
    "number_1 = int(input(\"Enter the first number:\"))\n",
    "number_2 = int(input(\"Enter the second number:\"))\n",
    "\n",
    "add(number_1,number_2)\n",
    "subtract(number_1,number_2)\n",
    "multiply(number_1,number_2)\n",
    "divide(number_1,number_2)\n",
    "divide_int(number_1,number_2)\n",
    "modulus(number_1,number_2)"
   ]
  },
  {
   "cell_type": "markdown",
   "metadata": {},
   "source": [
    "##### List"
   ]
  },
  {
   "cell_type": "code",
   "execution_count": 17,
   "metadata": {},
   "outputs": [
    {
     "name": "stdout",
     "output_type": "stream",
     "text": [
      "['red', 'green', 'blue', 'white']\n",
      "['red', 'green', 'blue', 'white', 'black']\n",
      "green\n"
     ]
    }
   ],
   "source": [
    "# Create list\n",
    "list1 = [\"red\", \"green\", \"blue\", \"white\"]\n",
    "print(list1)\n",
    "\n",
    "# Add something to list\n",
    "list1.append(\"black\")   # Append add the item to the last of a list\n",
    "print(list1)\n",
    "\n",
    "# Access specipic item\n",
    "print(list1[1])"
   ]
  },
  {
   "cell_type": "markdown",
   "metadata": {},
   "source": [
    "##### Sorting"
   ]
  },
  {
   "cell_type": "code",
   "execution_count": 22,
   "metadata": {},
   "outputs": [
    {
     "name": "stdout",
     "output_type": "stream",
     "text": [
      "Color List: ['black', 'blue', 'green', 'red', 'white']\n",
      "Number List: [23, 78, 1, 45, 9, 3, 67, 100, 34, 87, 6]\n",
      "Sorted List: [1, 3, 6, 9, 23, 34, 45, 67, 78, 87, 100]\n"
     ]
    }
   ],
   "source": [
    "# Sorting\n",
    "color_list = [\"red\", \"green\", \"blue\", \"white\", \"black\"]\n",
    "color_list.sort()\n",
    "print(\"Color List:\", color_list)\n",
    "\n",
    "number_list = [23, 78,1 ,45, 9, 3, 67, 100, 34,87,6]\n",
    "#number_list.sort()\n",
    "print(\"Number List:\", number_list)\n",
    "\n",
    "# Sorting in different variable\n",
    "sorted_list = sorted(number_list)\n",
    "print(\"Sorted List:\", sorted_list)"
   ]
  },
  {
   "cell_type": "markdown",
   "metadata": {},
   "source": [
    "##### Conditional Statement"
   ]
  },
  {
   "cell_type": "code",
   "execution_count": 24,
   "metadata": {},
   "outputs": [
    {
     "name": "stdout",
     "output_type": "stream",
     "text": [
      "You got F.\n"
     ]
    }
   ],
   "source": [
    "# Conditional\n",
    "marks = int(input(\"Enter your marks:\"))\n",
    "\n",
    "def get_grade(grade):\n",
    "    print(f\"You got {grade}.\")\n",
    "\n",
    "if(marks>=80):\n",
    "    get_grade(\"A+\")\n",
    "elif(marks<80 and marks>=70):\n",
    "    get_grade(\"A\")\n",
    "elif(marks<70 and marks>=60):\n",
    "    get_grade(\"A-\")\n",
    "elif(marks<60 and marks>=50):\n",
    "    get_grade(\"B\")\n",
    "elif(marks<50 and marks>=40):\n",
    "    get_grade(\"C\")\n",
    "elif(marks<40 and marks>=33):\n",
    "    get_grade(\"D\")\n",
    "else:\n",
    "    get_grade(\"F\")"
   ]
  },
  {
   "cell_type": "markdown",
   "metadata": {},
   "source": [
    "##### Loop"
   ]
  },
  {
   "cell_type": "code",
   "execution_count": 7,
   "metadata": {},
   "outputs": [
    {
     "name": "stdout",
     "output_type": "stream",
     "text": [
      "0: non-negative\n"
     ]
    }
   ],
   "source": [
    "# Determining Even-Odd\n",
    "def is_even(number):\n",
    "    if(number % 2 == 0): return True\n",
    "    else: return False\n",
    "\n",
    "limit = int(input(\"Enter the limit value:\"))\n",
    "if(limit == 0): print(f\"{limit}: non-negative\")\n",
    "else:\n",
    "    start = 1\n",
    "    while(start<=limit):\n",
    "        if(is_even(start)==True): print(f\"{start}: even\")\n",
    "        else: print(f\"{start}: odd\")\n",
    "        start = start+1"
   ]
  },
  {
   "cell_type": "code",
   "execution_count": 37,
   "metadata": {},
   "outputs": [
    {
     "name": "stdout",
     "output_type": "stream",
     "text": [
      "0: Non-Negative Number\n",
      "Even Number: [2, 4, 6, 8, 10, 12, 14, 16, 18]\n",
      "Odd Number: [1, 3, 5, 7, 9, 11, 13, 15, 17, 19]\n"
     ]
    }
   ],
   "source": [
    "# Determining Even-Odd and make seperate list\n",
    "def is_even(number):\n",
    "    if(number % 2 == 0): return True\n",
    "    else: return False\n",
    "\n",
    "even_number_list=[]\n",
    "odd_number_list=[]\n",
    "limit = int(input(\"Enter the limit value:\"))\n",
    "for value in range(0,limit):\n",
    "    if(value==0): print(f\"{0}: Non-Negative Number\")\n",
    "    elif(is_even(value)==True): even_number_list.append(value)\n",
    "    else: odd_number_list.append(value)\n",
    "\n",
    "print(f\"Even Number: {even_number_list}\")\n",
    "print(f\"Odd Number: {odd_number_list}\")"
   ]
  },
  {
   "cell_type": "code",
   "execution_count": 42,
   "metadata": {},
   "outputs": [
    {
     "name": "stdout",
     "output_type": "stream",
     "text": [
      "['Rice', 'Tomato', 'Potato', 'Ginger', 'Termaric', 'Spice']\n",
      "['Rice', 'Tomato', 'Potato']\n"
     ]
    }
   ],
   "source": [
    "# Skip in Loop\n",
    "grocery = [\"Rice\", \"Tomato\", \"Potato\", \"Water\", \"Ginger\", \"Termaric\", \"Spice\"]\n",
    "\n",
    "# Skip one iterarion\n",
    "grocery_list1=[]\n",
    "for item in grocery:\n",
    "    if(item == \"Water\"):\n",
    "        continue\n",
    "    grocery_list1.append(item)\n",
    "print(grocery_list1)\n",
    "\n",
    "# Skip remaining iterations\n",
    "grocery_list2=[]\n",
    "for item in grocery:\n",
    "    if(item == \"Water\"):\n",
    "        break\n",
    "    grocery_list2.append(item)\n",
    "print(grocery_list2)"
   ]
  },
  {
   "cell_type": "code",
   "execution_count": 48,
   "metadata": {},
   "outputs": [
    {
     "name": "stdout",
     "output_type": "stream",
     "text": [
      "['Rice', 'Potato', 'Ginger', 'Spice']\n"
     ]
    }
   ],
   "source": [
    "# Adding step in loop\n",
    "grocery = [\"Rice\", \"Tomato\", \"Potato\", \"Water\", \"Ginger\", \"Termaric\", \"Spice\"]\n",
    "grocery_list3=[]\n",
    "for list in range(0, len(grocery), 2):\n",
    "    grocery_list3.append(grocery[list])\n",
    "print(grocery_list3)"
   ]
  },
  {
   "cell_type": "code",
   "execution_count": 6,
   "metadata": {},
   "outputs": [
    {
     "name": "stdout",
     "output_type": "stream",
     "text": [
      "Prime Numbers till 20: [1, 2, 3, 5, 7, 11, 13, 17, 19]\n"
     ]
    },
    {
     "data": {
      "text/plain": [
       "\" Didn't Understand!!!\""
      ]
     },
     "execution_count": 6,
     "metadata": {},
     "output_type": "execute_result"
    }
   ],
   "source": [
    "# Determining Prime number\n",
    "import math\n",
    "\n",
    "limit = int(input(\"Enter the limit:\"))\n",
    "prime_list = []\n",
    "def is_prime(number):\n",
    "    for i in range(2, int(math.sqrt(number)+1)):\n",
    "        if(number % i == 0):\n",
    "            return False\n",
    "    return True\n",
    "\n",
    "for i in range(1, limit+1):\n",
    "    if(is_prime(i)==True):\n",
    "        prime_list.append(i)\n",
    "\n",
    "print(f\"Prime Numbers till {limit}:\", prime_list)\n",
    "\n",
    "\"\"\" Didn't Understand!!!\"\"\""
   ]
  },
  {
   "cell_type": "markdown",
   "metadata": {},
   "source": [
    "##### File"
   ]
  },
  {
   "cell_type": "code",
   "execution_count": 82,
   "metadata": {},
   "outputs": [],
   "source": [
    "# Open a file. It's recommended to open a file with with as read\n",
    "all_words=[]\n",
    "\n",
    "with open(\"shekespeare.txt\", mode=\"r\") as shekes_file:\n",
    "    for lines in shekes_file.readlines():\n",
    "        words = lines.strip().split()\n",
    "        all_words = all_words+words\n",
    "    unique_words = set(all_words)   # Set keeps only unique values to it.\n",
    "#print(len(all_words))\n",
    "#print(len(unique_words))\n",
    "\n",
    "# Create a file of unique words\n",
    "with open(\"new_shekespeare.txt\", mode=\"w\") as new_shakes_file:\n",
    "    for words in sorted(unique_words):\n",
    "        new_shakes_file.write(words)\n",
    "        new_shakes_file.write(\" \")"
   ]
  }
 ],
 "metadata": {
  "interpreter": {
   "hash": "703b2bc398e15cd74c7a93565a102b3060db76bb218c5bf5b3619260b8a02446"
  },
  "kernelspec": {
   "display_name": "Python 3.9.5 64-bit",
   "language": "python",
   "name": "python3"
  },
  "language_info": {
   "codemirror_mode": {
    "name": "ipython",
    "version": 3
   },
   "file_extension": ".py",
   "mimetype": "text/x-python",
   "name": "python",
   "nbconvert_exporter": "python",
   "pygments_lexer": "ipython3",
   "version": "3.9.5"
  },
  "orig_nbformat": 4
 },
 "nbformat": 4,
 "nbformat_minor": 2
}
