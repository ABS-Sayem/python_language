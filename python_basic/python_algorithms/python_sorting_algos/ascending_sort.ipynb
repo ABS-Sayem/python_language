{
 "cells": [
  {
   "cell_type": "markdown",
   "metadata": {},
   "source": [
    "**Ascending Sorting - sorts ellements from lowest to highest.**"
   ]
  },
  {
   "cell_type": "code",
   "execution_count": 19,
   "metadata": {},
   "outputs": [
    {
     "name": "stdout",
     "output_type": "stream",
     "text": [
      "[1, 8, 11, 12, 34, 34, 45, 64, 67, 77, 88, 89, 90]\n"
     ]
    }
   ],
   "source": [
    "my_list1 = [12, 67, 88, 1, 64, 89, 45, 90, 34, 77, 36, 11, 8]\n",
    "my_list = [12, 19, 8]\n",
    "sorted_list = sorted(my_list1)\n",
    "print(sorted_list)\n",
    "# # Iterate over the list\n",
    "# sorted_list = []\n",
    "# for iter in range(len(my_list)):\n",
    "#     if(iter == len(my_list) - 1): break\n",
    "#     first_elem = my_list[iter]\n",
    "#     print(f\"FE: {first_elem}\")\n",
    "#     next_elem = my_list[iter+1]\n",
    "#     print(f\"NE: {next_elem}\")\n",
    "#     if first_elem > next_elem:\n",
    "#         temp_elem = first_elem\n",
    "#         print(f\"TE: {temp_elem}\")\n",
    "#         first_elem = next_elem\n",
    "#         sorted_list.append(first_elem)\n",
    "#         #print(sorted_list)\n",
    "#         next_elem = temp_elem\n",
    "#         sorted_list.append(next_elem)\n",
    "#     else:\n",
    "#         sorted_list.append(first_elem)\n",
    "#         sorted_list.append(next_elem)\n",
    "# print(sorted_list)"
   ]
  }
 ],
 "metadata": {
  "kernelspec": {
   "display_name": "Python 3",
   "language": "python",
   "name": "python3"
  },
  "language_info": {
   "codemirror_mode": {
    "name": "ipython",
    "version": 3
   },
   "file_extension": ".py",
   "mimetype": "text/x-python",
   "name": "python",
   "nbconvert_exporter": "python",
   "pygments_lexer": "ipython3",
   "version": "3.11.4"
  },
  "orig_nbformat": 4
 },
 "nbformat": 4,
 "nbformat_minor": 2
}
