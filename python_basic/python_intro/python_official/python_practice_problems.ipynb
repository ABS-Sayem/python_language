{
 "cells": [
  {
   "cell_type": "markdown",
   "metadata": {},
   "source": [
    "**Fibonacci Series:** The sum of two elements defines the next"
   ]
  },
  {
   "cell_type": "code",
   "execution_count": 4,
   "metadata": {},
   "outputs": [
    {
     "name": "stdout",
     "output_type": "stream",
     "text": [
      "0 1 1 2 3 5 8 13 21 34 55 89 144 233 377 610 987 1597 2584 4181 6765 10946  : 22\n"
     ]
    }
   ],
   "source": [
    "# Fibonacci Series using for_loop\n",
    "first, second= 0, 1\n",
    "print(first, \"\", end='')\n",
    "print(second, \"\", end='')\n",
    "count = 2\n",
    "for iter in range(20):\n",
    "    next = first+second\n",
    "    print(next, \"\", end='')\n",
    "    first = second\n",
    "    second = next\n",
    "    count += 1\n",
    "print(f\" : {count}\")"
   ]
  },
  {
   "cell_type": "code",
   "execution_count": 5,
   "metadata": {},
   "outputs": [
    {
     "name": "stdout",
     "output_type": "stream",
     "text": [
      "0 1 1 2 3 5 8 13 21 34 55 89 144 233 377 610 987 1597 2584 4181 6765 10946 17711 28657 46368 75025 121393 196418 "
     ]
    }
   ],
   "source": [
    "# Fibonacci Series using while_loop\n",
    "first, second, count = 0, 1, 0\n",
    "while first<200000:\n",
    "    count += 1\n",
    "    print(first, \"\", end=\"\")\n",
    "    first, second = second, first+second\n",
    "print(f\" : {count}\")"
   ]
  }
 ],
 "metadata": {
  "kernelspec": {
   "display_name": "Python 3",
   "language": "python",
   "name": "python3"
  },
  "language_info": {
   "codemirror_mode": {
    "name": "ipython",
    "version": 3
   },
   "file_extension": ".py",
   "mimetype": "text/x-python",
   "name": "python",
   "nbconvert_exporter": "python",
   "pygments_lexer": "ipython3",
   "version": "3.11.4"
  },
  "orig_nbformat": 4
 },
 "nbformat": 4,
 "nbformat_minor": 2
}
