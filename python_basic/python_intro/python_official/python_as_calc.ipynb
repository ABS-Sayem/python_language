{
 "cells": [
  {
   "cell_type": "markdown",
   "metadata": {},
   "source": [
    "**Numbers**"
   ]
  },
  {
   "cell_type": "code",
   "execution_count": 1,
   "metadata": {},
   "outputs": [
    {
     "name": "stdout",
     "output_type": "stream",
     "text": [
      "1.4\n"
     ]
    }
   ],
   "source": [
    "# classic division `/` always returns a float\n",
    "result = 7 / 5\n",
    "print(result) "
   ]
  },
  {
   "cell_type": "code",
   "execution_count": 2,
   "metadata": {},
   "outputs": [
    {
     "name": "stdout",
     "output_type": "stream",
     "text": [
      "1\n"
     ]
    }
   ],
   "source": [
    "# to get an integer result you can use the `//` operator, it is called floor division.\n",
    "result = 7 // 5\n",
    "print(result)"
   ]
  },
  {
   "cell_type": "markdown",
   "metadata": {},
   "source": [
    "`_ variable`"
   ]
  },
  {
   "cell_type": "code",
   "execution_count": 13,
   "metadata": {},
   "outputs": [
    {
     "data": {
      "text/plain": [
       "112.5"
      ]
     },
     "execution_count": 13,
     "metadata": {},
     "output_type": "execute_result"
    }
   ],
   "source": [
    "# In interactive mode, the last printed expression is assigned to the variable _. This means that when you are using Python \n",
    "# as a desk calculator, it is somewhat easier to continue calculations, for example:\n",
    "tax = 2.50\n",
    "item_price = 110\n",
    "item_price + tax"
   ]
  },
  {
   "cell_type": "code",
   "execution_count": 14,
   "metadata": {},
   "outputs": [
    {
     "data": {
      "text/plain": [
       "222.5"
      ]
     },
     "execution_count": 14,
     "metadata": {},
     "output_type": "execute_result"
    }
   ],
   "source": [
    "# the last calculated value can be accessed by '_' variable\n",
    "item_price + _"
   ]
  },
  {
   "cell_type": "markdown",
   "metadata": {},
   "source": [
    "**String**"
   ]
  },
  {
   "cell_type": "code",
   "execution_count": 21,
   "metadata": {},
   "outputs": [
    {
     "name": "stdout",
     "output_type": "stream",
     "text": [
      "It's a String.\n",
      "It's a String.\n",
      "They said- \"It's not them\"\n",
      "They said- \"It's not them\"\n"
     ]
    }
   ],
   "source": [
    "# Representation of String\n",
    "print('It\\'s a String.')        # Using single quets\n",
    "print(\"It's a String.\")         # Using double quets\n",
    "print('They said- \"It\\'s not them\"')\n",
    "print(\"They said- \\\"It\\'s not them\\\"\")"
   ]
  },
  {
   "cell_type": "markdown",
   "metadata": {},
   "source": [
    "`New Line (\\n)`"
   ]
  },
  {
   "cell_type": "code",
   "execution_count": 25,
   "metadata": {},
   "outputs": [
    {
     "name": "stdout",
     "output_type": "stream",
     "text": [
      "C:\\Abs_Sayem\n",
      "ew_name\n",
      "C:\\Abs_Sayem\\new_name\n"
     ]
    }
   ],
   "source": [
    "print('C:\\Abs_Sayem\\new_name')      # Here '\\n' prints a new line.\n",
    "# If you don’t want characters prefaced by '\\' to be interpreted as special characters, \n",
    "# you can use raw strings by adding an 'r' before the first quote:\n",
    "print(r'C:\\Abs_Sayem\\new_name')"
   ]
  },
  {
   "cell_type": "markdown",
   "metadata": {},
   "source": [
    "`Concatenation`: Two or more string literals (i.e. the ones enclosed between quotes) next to each other are automatically concatenated."
   ]
  },
  {
   "cell_type": "code",
   "execution_count": 6,
   "metadata": {},
   "outputs": [
    {
     "name": "stdout",
     "output_type": "stream",
     "text": [
      "TwoString\n",
      "Two String\n",
      "Read the following carefully...\n",
      "This feature is particularly useful when you want to break long strings. This only works with two literals though, not with variables or expressions.\n"
     ]
    }
   ],
   "source": [
    "print('Two' 'String')\n",
    "print('Two' ' String')\n",
    "print('Read the following carefully...')\n",
    "print('This feature is particularly useful when you want to break long strings. This only works with two literals though,'\n",
    "      ' not with variables or expressions.')"
   ]
  },
  {
   "cell_type": "code",
   "execution_count": 9,
   "metadata": {},
   "outputs": [
    {
     "name": "stdout",
     "output_type": "stream",
     "text": [
      "Basic Python\n",
      "Basic Python\n"
     ]
    }
   ],
   "source": [
    "# If you want to concatenate variables or a variable and a literal, use '+'\n",
    "first_word = 'Basic'\n",
    "full_phrase = first_word + ' Python'\n",
    "print(full_phrase)\n",
    "\n",
    "# Or\n",
    "print(first_word + ' Python')"
   ]
  }
 ],
 "metadata": {
  "kernelspec": {
   "display_name": "Python 3",
   "language": "python",
   "name": "python3"
  },
  "language_info": {
   "codemirror_mode": {
    "name": "ipython",
    "version": 3
   },
   "file_extension": ".py",
   "mimetype": "text/x-python",
   "name": "python",
   "nbconvert_exporter": "python",
   "pygments_lexer": "ipython3",
   "version": "3.9.5"
  },
  "orig_nbformat": 4
 },
 "nbformat": 4,
 "nbformat_minor": 2
}
