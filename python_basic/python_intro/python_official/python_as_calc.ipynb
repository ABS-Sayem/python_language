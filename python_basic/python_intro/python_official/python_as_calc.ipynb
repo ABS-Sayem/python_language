{
 "cells": [
  {
   "cell_type": "markdown",
   "metadata": {},
   "source": [
    "**Numbers**"
   ]
  },
  {
   "cell_type": "code",
   "execution_count": 1,
   "metadata": {},
   "outputs": [
    {
     "name": "stdout",
     "output_type": "stream",
     "text": [
      "1.4\n"
     ]
    }
   ],
   "source": [
    "# classic division `/` always returns a float\n",
    "result = 7 / 5\n",
    "print(result) "
   ]
  },
  {
   "cell_type": "code",
   "execution_count": 2,
   "metadata": {},
   "outputs": [
    {
     "name": "stdout",
     "output_type": "stream",
     "text": [
      "1\n"
     ]
    }
   ],
   "source": [
    "# to get an integer result you can use the `//` operator, it is called floor division.\n",
    "result = 7 // 5\n",
    "print(result)"
   ]
  },
  {
   "cell_type": "markdown",
   "metadata": {},
   "source": [
    "`_ variable`"
   ]
  },
  {
   "cell_type": "code",
   "execution_count": 13,
   "metadata": {},
   "outputs": [
    {
     "data": {
      "text/plain": [
       "112.5"
      ]
     },
     "execution_count": 13,
     "metadata": {},
     "output_type": "execute_result"
    }
   ],
   "source": [
    "# In interactive mode, the last printed expression is assigned to the variable _. This means that when you are using Python \n",
    "# as a desk calculator, it is somewhat easier to continue calculations, for example:\n",
    "tax = 2.50\n",
    "item_price = 110\n",
    "item_price + tax"
   ]
  },
  {
   "cell_type": "code",
   "execution_count": 14,
   "metadata": {},
   "outputs": [
    {
     "data": {
      "text/plain": [
       "222.5"
      ]
     },
     "execution_count": 14,
     "metadata": {},
     "output_type": "execute_result"
    }
   ],
   "source": [
    "# the last calculated value can be accessed by '_' variable\n",
    "item_price + _"
   ]
  },
  {
   "cell_type": "markdown",
   "metadata": {},
   "source": [
    "**String**"
   ]
  },
  {
   "cell_type": "code",
   "execution_count": 21,
   "metadata": {},
   "outputs": [
    {
     "name": "stdout",
     "output_type": "stream",
     "text": [
      "It's a String.\n",
      "It's a String.\n",
      "They said- \"It's not them\"\n",
      "They said- \"It's not them\"\n"
     ]
    }
   ],
   "source": [
    "# Representation of String\n",
    "print('It\\'s a String.')        # Using single quets\n",
    "print(\"It's a String.\")         # Using double quets\n",
    "print('They said- \"It\\'s not them\"')\n",
    "print(\"They said- \\\"It\\'s not them\\\"\")"
   ]
  },
  {
   "cell_type": "markdown",
   "metadata": {},
   "source": [
    "`New Line (\\n)`"
   ]
  },
  {
   "cell_type": "code",
   "execution_count": 25,
   "metadata": {},
   "outputs": [
    {
     "name": "stdout",
     "output_type": "stream",
     "text": [
      "C:\\Abs_Sayem\n",
      "ew_name\n",
      "C:\\Abs_Sayem\\new_name\n"
     ]
    }
   ],
   "source": [
    "print('C:\\Abs_Sayem\\new_name')      # Here '\\n' prints a new line.\n",
    "# If you don’t want characters prefaced by '\\' to be interpreted as special characters, \n",
    "# you can use raw strings by adding an 'r' before the first quote:\n",
    "print(r'C:\\Abs_Sayem\\new_name')"
   ]
  }
 ],
 "metadata": {
  "kernelspec": {
   "display_name": "Python 3",
   "language": "python",
   "name": "python3"
  },
  "language_info": {
   "codemirror_mode": {
    "name": "ipython",
    "version": 3
   },
   "file_extension": ".py",
   "mimetype": "text/x-python",
   "name": "python",
   "nbconvert_exporter": "python",
   "pygments_lexer": "ipython3",
   "version": "3.9.5"
  },
  "orig_nbformat": 4
 },
 "nbformat": 4,
 "nbformat_minor": 2
}
