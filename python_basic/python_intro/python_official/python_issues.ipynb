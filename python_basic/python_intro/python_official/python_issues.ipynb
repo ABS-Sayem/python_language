{
 "cells": [
  {
   "cell_type": "markdown",
   "metadata": {},
   "source": [
    "**in-line assignment and seperate assignment is different in some cases:**"
   ]
  },
  {
   "cell_type": "code",
   "execution_count": 1,
   "metadata": {},
   "outputs": [
    {
     "name": "stdout",
     "output_type": "stream",
     "text": [
      "[0, 1, 2, 4, 8, 16, 32, 64]\n"
     ]
    }
   ],
   "source": [
    "# Initialization\n",
    "first_element  = 0\n",
    "second_element = 1\n",
    "\n",
    "seperate_assignment = []\n",
    "# Seperate Assignment\n",
    "while(first_element < 100):\n",
    "    seperate_assignment.append(first_element)\n",
    "    first_element  = second_element\n",
    "    second_element = first_element + second_element\n",
    "print(seperate_assignment)"
   ]
  },
  {
   "cell_type": "code",
   "execution_count": 2,
   "metadata": {},
   "outputs": [
    {
     "name": "stdout",
     "output_type": "stream",
     "text": [
      "[0, 1, 1, 2, 3, 5, 8, 13, 21, 34, 55, 89]\n"
     ]
    }
   ],
   "source": [
    "# Initialization\n",
    "first_element  = 0\n",
    "second_element = 1\n",
    "\n",
    "# In-Line Assignment\n",
    "inline_assignment = []\n",
    "while(first_element < 100):\n",
    "    inline_assignment.append(first_element)\n",
    "    first_element, second_element  = second_element, first_element + second_element\n",
    "print(inline_assignment)"
   ]
  }
 ],
 "metadata": {
  "kernelspec": {
   "display_name": "Python 3",
   "language": "python",
   "name": "python3"
  },
  "language_info": {
   "codemirror_mode": {
    "name": "ipython",
    "version": 3
   },
   "file_extension": ".py",
   "mimetype": "text/x-python",
   "name": "python",
   "nbconvert_exporter": "python",
   "pygments_lexer": "ipython3",
   "version": "3.9.5"
  },
  "orig_nbformat": 4
 },
 "nbformat": 4,
 "nbformat_minor": 2
}
