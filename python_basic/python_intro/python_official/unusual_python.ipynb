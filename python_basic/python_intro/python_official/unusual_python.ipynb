{
 "cells": [
  {
   "cell_type": "markdown",
   "metadata": {},
   "source": [
    "##### **Numbers**"
   ]
  },
  {
   "cell_type": "markdown",
   "metadata": {},
   "source": [
    "**Classic Division**"
   ]
  },
  {
   "cell_type": "code",
   "execution_count": 1,
   "metadata": {},
   "outputs": [
    {
     "name": "stdout",
     "output_type": "stream",
     "text": [
      "1.4\n"
     ]
    }
   ],
   "source": [
    "# classic division `/` always returns a float\n",
    "result = 7 / 5\n",
    "print(result) "
   ]
  },
  {
   "cell_type": "markdown",
   "metadata": {},
   "source": [
    "**Floor Division**"
   ]
  },
  {
   "cell_type": "code",
   "execution_count": 2,
   "metadata": {},
   "outputs": [
    {
     "name": "stdout",
     "output_type": "stream",
     "text": [
      "1\n"
     ]
    }
   ],
   "source": [
    "# to get an integer result you can use the `//` operator, it is called floor division.\n",
    "result = 7 // 5\n",
    "print(result)"
   ]
  },
  {
   "cell_type": "markdown",
   "metadata": {},
   "source": [
    "**`_ variable`**"
   ]
  },
  {
   "cell_type": "code",
   "execution_count": 13,
   "metadata": {},
   "outputs": [
    {
     "data": {
      "text/plain": [
       "112.5"
      ]
     },
     "execution_count": 13,
     "metadata": {},
     "output_type": "execute_result"
    }
   ],
   "source": [
    "# In interactive mode, the last printed expression is assigned to the variable _. This means that when you are using Python \n",
    "# as a desk calculator, it is somewhat easier to continue calculations, for example:\n",
    "tax = 2.50\n",
    "item_price = 110\n",
    "item_price + tax"
   ]
  },
  {
   "cell_type": "code",
   "execution_count": 14,
   "metadata": {},
   "outputs": [
    {
     "data": {
      "text/plain": [
       "222.5"
      ]
     },
     "execution_count": 14,
     "metadata": {},
     "output_type": "execute_result"
    }
   ],
   "source": [
    "# the last calculated value can be accessed by '_' variable\n",
    "item_price + _"
   ]
  },
  {
   "cell_type": "markdown",
   "metadata": {},
   "source": [
    "##### **String**"
   ]
  },
  {
   "cell_type": "markdown",
   "metadata": {},
   "source": [
    "**Representation of String**"
   ]
  },
  {
   "cell_type": "code",
   "execution_count": 21,
   "metadata": {},
   "outputs": [
    {
     "name": "stdout",
     "output_type": "stream",
     "text": [
      "It's a String.\n",
      "It's a String.\n",
      "They said- \"It's not them\"\n",
      "They said- \"It's not them\"\n"
     ]
    }
   ],
   "source": [
    "# Representation of String\n",
    "print('It\\'s a String.')        # Using single quets\n",
    "print(\"It's a String.\")         # Using double quets\n",
    "print('They said- \"It\\'s not them\"')\n",
    "print(\"They said- \\\"It\\'s not them\\\"\")"
   ]
  },
  {
   "cell_type": "markdown",
   "metadata": {},
   "source": [
    "**`New Line (\\n)`**"
   ]
  },
  {
   "cell_type": "code",
   "execution_count": 25,
   "metadata": {},
   "outputs": [
    {
     "name": "stdout",
     "output_type": "stream",
     "text": [
      "C:\\Abs_Sayem\n",
      "ew_name\n",
      "C:\\Abs_Sayem\\new_name\n"
     ]
    }
   ],
   "source": [
    "print('C:\\Abs_Sayem\\new_name')      # Here '\\n' prints a new line.\n",
    "# If you don’t want characters prefaced by '\\' to be interpreted as special characters, \n",
    "# you can use raw strings by adding an 'r' before the first quote:\n",
    "print(r'C:\\Abs_Sayem\\new_name')"
   ]
  },
  {
   "cell_type": "markdown",
   "metadata": {},
   "source": [
    "**String Concatenation:**"
   ]
  },
  {
   "cell_type": "code",
   "execution_count": 1,
   "metadata": {},
   "outputs": [
    {
     "name": "stdout",
     "output_type": "stream",
     "text": [
      "TwoString\n",
      "Two String\n",
      "Read the following carefully...\n",
      "This feature is particularly useful when you want to break long strings. This only works with two literals though, not with variables or expressions.\n"
     ]
    }
   ],
   "source": [
    "# Two or more string literals (i.e. the ones enclosed between quotes) next to each other are automatically concatenated.\n",
    "print('Two' 'String')\n",
    "print('Two' ' String')\n",
    "print('Read the following carefully...')\n",
    "print('This feature is particularly useful when you want to break long strings. This only works with two literals though,'\n",
    "      ' not with variables or expressions.')"
   ]
  },
  {
   "cell_type": "code",
   "execution_count": 9,
   "metadata": {},
   "outputs": [
    {
     "name": "stdout",
     "output_type": "stream",
     "text": [
      "Basic Python\n",
      "Basic Python\n"
     ]
    }
   ],
   "source": [
    "# If you want to concatenate variables or a variable and a literal, use '+'\n",
    "first_word = 'Basic'\n",
    "full_phrase = first_word + ' Python'\n",
    "print(full_phrase)\n",
    "\n",
    "# Or\n",
    "print(first_word + ' Python')"
   ]
  },
  {
   "cell_type": "markdown",
   "metadata": {},
   "source": [
    "**String Indexing**: Strings can be indexed (subscripted), with the first character having index 0. There is no separate character type; a character is simply a string of size one. Indices may also be negative numbers, to start counting from the right, negative indices start from -1."
   ]
  },
  {
   "cell_type": "code",
   "execution_count": 2,
   "metadata": {},
   "outputs": [
    {
     "name": "stdout",
     "output_type": "stream",
     "text": [
      "  0   1   2   3   4   5  \n",
      "+---+---+---+---+---+---+\n",
      "| p | y | t | h | o | n |\n",
      "+---+---+---+---+---+---+\n",
      " -6  -5  -4  -3  -2  -1\n"
     ]
    }
   ],
   "source": [
    "print(\"  0   1   2   3   4   5  \\n+---+---+---+---+---+---+\\n| p | y | t | h | o | n |\\n+---+---+---+---+---+---+\\n -6  -5  -4  -3  -2  -1\")"
   ]
  },
  {
   "cell_type": "code",
   "execution_count": 4,
   "metadata": {},
   "outputs": [
    {
     "name": "stdout",
     "output_type": "stream",
     "text": [
      "p\n",
      "t\n",
      "n\n"
     ]
    }
   ],
   "source": [
    "# Iterate over string (by single character)\n",
    "word = \"python\"\n",
    "\n",
    "print(word[0])      # 1st Character\n",
    "print(word[2])      # 3rd Character\n",
    "print(word[-1])     # last Character"
   ]
  },
  {
   "cell_type": "markdown",
   "metadata": {},
   "source": [
    "`slicing string (obtain substring)`"
   ]
  },
  {
   "cell_type": "code",
   "execution_count": 12,
   "metadata": {},
   "outputs": [
    {
     "name": "stdout",
     "output_type": "stream",
     "text": [
      "pr\n",
      "rogr\n",
      "ammin\n",
      "pr\n",
      "ramming\n",
      "programmi\n",
      "amming\n"
     ]
    }
   ],
   "source": [
    "# Slicing String\n",
    "word = \"programming\"\n",
    "\n",
    "print(word[0:2])        # characters from position 0 (included) to 2 (excluded)\n",
    "print(word[1:5])        # characters from position 1 (included) to 5 (excluded)\n",
    "\n",
    "print(word[-6:-1])      # characters from position 6th last (included) to 1st last (excluded)\n",
    "\n",
    "print(word[:2])         # characters from position 0 (included) to 2 (excluded)\n",
    "print(word[4:])         # characters from position 4 (included) to end\n",
    "\n",
    "print(word[:-2])        # characters from position 0 (included) to 2nd last (excluded)\n",
    "print(word[-6:])        # characters from position 6th last (included) to end"
   ]
  },
  {
   "cell_type": "markdown",
   "metadata": {},
   "source": [
    "`[Note]: How the start is always included, and the end always excluded. This makes sure that s[:i] + s[i:] is always equal to s.`"
   ]
  },
  {
   "cell_type": "code",
   "execution_count": 14,
   "metadata": {},
   "outputs": [
    {
     "name": "stdout",
     "output_type": "stream",
     "text": [
      "python\n",
      "python\n"
     ]
    }
   ],
   "source": [
    "word = \"python\"\n",
    "print(word[:2] + word[2:])      # concatenate the character from position 0 to position 1 and position 2 to end\n",
    "print(word[:-4] + word[-4:])    # concatenate the character from position 0 to position 5th last and position 4th last to end"
   ]
  },
  {
   "cell_type": "markdown",
   "metadata": {},
   "source": [
    "`Out of range slice indexes are handled gracefully when used for slicing`"
   ]
  },
  {
   "cell_type": "code",
   "execution_count": 17,
   "metadata": {},
   "outputs": [
    {
     "name": "stdout",
     "output_type": "stream",
     "text": [
      "ogramming\n",
      "amming\n"
     ]
    }
   ],
   "source": [
    "# Out of Range\n",
    "word = 'programming'\n",
    "\n",
    "print(word[2:20])       # Although the indexing of the above word ends at 10, it handles the indexes that out-of-range.\n",
    "print(word[-6:len(word)])"
   ]
  },
  {
   "cell_type": "markdown",
   "metadata": {},
   "source": [
    "`Python strings cannot be changed — they are immutable. Therefore, assigning to an indexed position in the string results in an error.`"
   ]
  },
  {
   "cell_type": "code",
   "execution_count": 19,
   "metadata": {},
   "outputs": [
    {
     "ename": "TypeError",
     "evalue": "'str' object does not support item assignment",
     "output_type": "error",
     "traceback": [
      "\u001b[1;31m---------------------------------------------------------------------------\u001b[0m",
      "\u001b[1;31mTypeError\u001b[0m                                 Traceback (most recent call last)",
      "\u001b[1;32m~\\AppData\\Local\\Temp/ipykernel_12644/1984692486.py\u001b[0m in \u001b[0;36m<module>\u001b[1;34m\u001b[0m\n\u001b[0;32m      2\u001b[0m \u001b[0mword\u001b[0m \u001b[1;33m=\u001b[0m \u001b[1;34m'programming'\u001b[0m\u001b[1;33m\u001b[0m\u001b[1;33m\u001b[0m\u001b[0m\n\u001b[0;32m      3\u001b[0m \u001b[1;33m\u001b[0m\u001b[0m\n\u001b[1;32m----> 4\u001b[1;33m \u001b[0mword\u001b[0m\u001b[1;33m[\u001b[0m\u001b[1;36m2\u001b[0m\u001b[1;33m]\u001b[0m   \u001b[1;33m=\u001b[0m \u001b[1;34m'n'\u001b[0m\u001b[1;33m\u001b[0m\u001b[1;33m\u001b[0m\u001b[0m\n\u001b[0m\u001b[0;32m      5\u001b[0m \u001b[0mword\u001b[0m\u001b[1;33m[\u001b[0m\u001b[1;33m-\u001b[0m\u001b[1;36m4\u001b[0m\u001b[1;33m]\u001b[0m  \u001b[1;33m=\u001b[0m \u001b[1;34m'n'\u001b[0m\u001b[1;33m\u001b[0m\u001b[1;33m\u001b[0m\u001b[0m\n\u001b[0;32m      6\u001b[0m \u001b[0mword\u001b[0m\u001b[1;33m[\u001b[0m\u001b[1;34m'm'\u001b[0m\u001b[1;33m]\u001b[0m \u001b[1;33m=\u001b[0m \u001b[1;34m'n'\u001b[0m\u001b[1;33m\u001b[0m\u001b[1;33m\u001b[0m\u001b[0m\n",
      "\u001b[1;31mTypeError\u001b[0m: 'str' object does not support item assignment"
     ]
    }
   ],
   "source": [
    "# Try to change string element \n",
    "word = 'programming'\n",
    "\n",
    "word[2]   = 'n'\n",
    "word[-4]  = 'n'\n",
    "word['m'] = 'n'\n",
    "print(word)"
   ]
  },
  {
   "cell_type": "markdown",
   "metadata": {},
   "source": [
    "`If we need a different string, we can create a new one`"
   ]
  },
  {
   "cell_type": "code",
   "execution_count": 38,
   "metadata": {},
   "outputs": [
    {
     "name": "stdout",
     "output_type": "stream",
     "text": [
      "program\n",
      "gamming\n",
      "progamming\n",
      "gromming\n",
      "listening\n"
     ]
    }
   ],
   "source": [
    "# Creating new string from existing\n",
    "word = \"programming\"\n",
    "\n",
    "print(word[:7])\n",
    "print(word[3] + word[5] + word[-5:])\n",
    "print(word[:4] + word[-6:])\n",
    "print(word[3:5] + 'o' + word[-5:])\n",
    "print('listen' + word[-3:])"
   ]
  }
 ],
 "metadata": {
  "kernelspec": {
   "display_name": "Python 3",
   "language": "python",
   "name": "python3"
  },
  "language_info": {
   "codemirror_mode": {
    "name": "ipython",
    "version": 3
   },
   "file_extension": ".py",
   "mimetype": "text/x-python",
   "name": "python",
   "nbconvert_exporter": "python",
   "pygments_lexer": "ipython3",
   "version": "3.9.5"
  },
  "orig_nbformat": 4
 },
 "nbformat": 4,
 "nbformat_minor": 2
}
