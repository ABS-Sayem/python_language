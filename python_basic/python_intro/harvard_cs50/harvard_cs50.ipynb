{
 "cells": [
  {
   "attachments": {},
   "cell_type": "markdown",
   "metadata": {},
   "source": [
    "**Introduction to Programming with Python**"
   ]
  },
  {
   "attachments": {},
   "cell_type": "markdown",
   "metadata": {},
   "source": [
    "`Create a .py file from terminal`\n",
    "> Open the VSCode terminal and Type: \"`code program_name.py`\""
   ]
  },
  {
   "attachments": {},
   "cell_type": "markdown",
   "metadata": {},
   "source": [
    "`print(\"Something\", name)`\n",
    "> comma(,) - automatically place a whitespace before the name printed"
   ]
  },
  {
   "cell_type": "code",
   "execution_count": 1,
   "metadata": {},
   "outputs": [
    {
     "name": "stdout",
     "output_type": "stream",
     "text": [
      "Hello Abs_Sayem\n"
     ]
    }
   ],
   "source": [
    "name = \"Abs_Sayem\"\n",
    "print(\"Hello\", name)"
   ]
  },
  {
   "attachments": {},
   "cell_type": "markdown",
   "metadata": {},
   "source": [
    "> plus(+) - doesn't place any whitespace"
   ]
  },
  {
   "cell_type": "code",
   "execution_count": 2,
   "metadata": {},
   "outputs": [
    {
     "name": "stdout",
     "output_type": "stream",
     "text": [
      "HelloAbs_Sayem\n"
     ]
    }
   ],
   "source": [
    "name = \"Abs_Sayem\"\n",
    "print(\"Hello\"+ name)"
   ]
  },
  {
   "attachments": {},
   "cell_type": "markdown",
   "metadata": {},
   "source": [
    "`print() fn details`"
   ]
  },
  {
   "attachments": {},
   "cell_type": "markdown",
   "metadata": {},
   "source": [
    "> **Syntex:** `print(*objects, sep=' ', end='\\n', file=sys.stdout, flash=False)`\n",
    "* *objects  - supports any number of arguments, also 0(no argument)\n",
    "* sep=' '   - it has a bydefault whitespace when using comma(,) to seperate arguments after comma.\n",
    "* end('\\n') - it aumatically print a new-line after finishing its work\n",
    "> We can overwrite the arguments, like-\n",
    ">> end='' - no new-line | sep='' - no separation / sep='#' - separate using #"
   ]
  }
 ],
 "metadata": {
  "kernelspec": {
   "display_name": "Python 3",
   "language": "python",
   "name": "python3"
  },
  "language_info": {
   "codemirror_mode": {
    "name": "ipython",
    "version": 3
   },
   "file_extension": ".py",
   "mimetype": "text/x-python",
   "name": "python",
   "nbconvert_exporter": "python",
   "pygments_lexer": "ipython3",
   "version": "3.9.5"
  },
  "orig_nbformat": 4
 },
 "nbformat": 4,
 "nbformat_minor": 2
}
