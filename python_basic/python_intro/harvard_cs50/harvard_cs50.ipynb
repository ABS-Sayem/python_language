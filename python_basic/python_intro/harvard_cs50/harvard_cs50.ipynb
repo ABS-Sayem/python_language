{
 "cells": [
  {
   "attachments": {},
   "cell_type": "markdown",
   "metadata": {},
   "source": [
    "#### **Introduction to Programming with Python**"
   ]
  },
  {
   "attachments": {},
   "cell_type": "markdown",
   "metadata": {},
   "source": [
    "##### **Create a .py file from terminal**\n",
    "> *Open the VSCode terminal and Type: \"`code program_name.py`\"*"
   ]
  },
  {
   "attachments": {},
   "cell_type": "markdown",
   "metadata": {},
   "source": [
    "##### **print(\"Something\", name)**\n",
    "> *comma(,) - automatically place a whitespace before the name printed*"
   ]
  },
  {
   "cell_type": "code",
   "execution_count": 1,
   "metadata": {},
   "outputs": [
    {
     "name": "stdout",
     "output_type": "stream",
     "text": [
      "Hello Abs_Sayem\n"
     ]
    }
   ],
   "source": [
    "name = \"Abs_Sayem\"\n",
    "print(\"Hello\", name)"
   ]
  },
  {
   "attachments": {},
   "cell_type": "markdown",
   "metadata": {},
   "source": [
    "> *plus(+) - doesn't place any whitespace*"
   ]
  },
  {
   "cell_type": "code",
   "execution_count": 2,
   "metadata": {},
   "outputs": [
    {
     "name": "stdout",
     "output_type": "stream",
     "text": [
      "HelloAbs_Sayem\n"
     ]
    }
   ],
   "source": [
    "name = \"Abs_Sayem\"\n",
    "print(\"Hello\"+ name)"
   ]
  },
  {
   "attachments": {},
   "cell_type": "markdown",
   "metadata": {},
   "source": [
    "##### **print() fn details**"
   ]
  },
  {
   "attachments": {},
   "cell_type": "markdown",
   "metadata": {},
   "source": [
    "**Syntex:** `print(*objects, sep=' ', end='\\n', file=sys.stdout, flash=False)`\n",
    "* `*objects`  - *supports any number of arguments, also 0(no argument)*\n",
    "* `sep=' '`   - *it has a bydefault whitespace when using comma(,) to seperate arguments after comma.*\n",
    "* `end('\\n')` - *it aumatically print a new-line after finishing its work*\n",
    "\n",
    "###### **We can overwrite the arguments, like-** (`end='' - no new-line) | (sep='' - no separation) / (sep='#' - separate using #)`"
   ]
  },
  {
   "attachments": {},
   "cell_type": "markdown",
   "metadata": {},
   "source": [
    "##### **remove whitespace from string**\n",
    "> `name = name.trip()` - *If any whitespaces are being added accidentally.* "
   ]
  },
  {
   "cell_type": "code",
   "execution_count": 6,
   "metadata": {},
   "outputs": [
    {
     "name": "stdout",
     "output_type": "stream",
     "text": [
      "Abs    Sayem   \n"
     ]
    },
    {
     "ename": "AttributeError",
     "evalue": "'str' object has no attribute 'trip'",
     "output_type": "error",
     "traceback": [
      "\u001b[1;31m---------------------------------------------------------------------------\u001b[0m",
      "\u001b[1;31mAttributeError\u001b[0m                            Traceback (most recent call last)",
      "\u001b[1;32m~\\AppData\\Local\\Temp/ipykernel_15244/2919740838.py\u001b[0m in \u001b[0;36m<module>\u001b[1;34m\u001b[0m\n\u001b[0;32m      1\u001b[0m \u001b[0mname\u001b[0m \u001b[1;33m=\u001b[0m \u001b[1;34m\"Abs    Sayem   \"\u001b[0m\u001b[1;33m\u001b[0m\u001b[1;33m\u001b[0m\u001b[0m\n\u001b[0;32m      2\u001b[0m \u001b[0mprint\u001b[0m\u001b[1;33m(\u001b[0m\u001b[0mname\u001b[0m\u001b[1;33m)\u001b[0m\u001b[1;33m\u001b[0m\u001b[1;33m\u001b[0m\u001b[0m\n\u001b[1;32m----> 3\u001b[1;33m \u001b[0mprint\u001b[0m\u001b[1;33m(\u001b[0m\u001b[0mname\u001b[0m\u001b[1;33m.\u001b[0m\u001b[0mtrip\u001b[0m\u001b[1;33m(\u001b[0m\u001b[1;33m)\u001b[0m\u001b[1;33m)\u001b[0m  \u001b[1;31m# `trip()` doesn't work\u001b[0m\u001b[1;33m\u001b[0m\u001b[1;33m\u001b[0m\u001b[0m\n\u001b[0m",
      "\u001b[1;31mAttributeError\u001b[0m: 'str' object has no attribute 'trip'"
     ]
    }
   ],
   "source": [
    "name = \"Abs    Sayem   \"\n",
    "print(name)\n",
    "print(name.trip())  # trip() isn't working"
   ]
  },
  {
   "attachments": {},
   "cell_type": "markdown",
   "metadata": {},
   "source": [
    "##### **capitalize first character of any first word**\n",
    "> `name = name.capitalize()`"
   ]
  },
  {
   "cell_type": "code",
   "execution_count": 7,
   "metadata": {},
   "outputs": [
    {
     "name": "stdout",
     "output_type": "stream",
     "text": [
      "Abs sayem\n"
     ]
    }
   ],
   "source": [
    "name = \"abs sayem\"\n",
    "name = name.capitalize()\n",
    "print(name)"
   ]
  },
  {
   "attachments": {},
   "cell_type": "markdown",
   "metadata": {},
   "source": [
    "##### **capitalize first character of all the words**\n",
    "> `name = name.title()`"
   ]
  },
  {
   "cell_type": "code",
   "execution_count": 8,
   "metadata": {},
   "outputs": [
    {
     "name": "stdout",
     "output_type": "stream",
     "text": [
      "Abs Sayem\n"
     ]
    }
   ],
   "source": [
    "name = \"abs sayem\"\n",
    "name = name.title()\n",
    "print(name)"
   ]
  },
  {
   "attachments": {},
   "cell_type": "markdown",
   "metadata": {},
   "source": [
    "##### **split string**\n",
    "> `first, last = name.split(' ')`"
   ]
  },
  {
   "cell_type": "code",
   "execution_count": 15,
   "metadata": {},
   "outputs": [
    {
     "name": "stdout",
     "output_type": "stream",
     "text": [
      "First_Name: Abs\n",
      "Last_Name : Sayem\n"
     ]
    }
   ],
   "source": [
    "name = \"abs sayem\"\n",
    "name = name.title()\n",
    "first, last = name.split(' ')\n",
    "print(\"First_Name:\", first)\n",
    "print(\"Last_Name :\", last)"
   ]
  },
  {
   "attachments": {},
   "cell_type": "markdown",
   "metadata": {},
   "source": [
    "##### **round any floating value**\n",
    "> **Syntex:** `round(number[, ndigits])`\n",
    "* `z = round(x+y)`"
   ]
  },
  {
   "cell_type": "code",
   "execution_count": 17,
   "metadata": {},
   "outputs": [
    {
     "name": "stdout",
     "output_type": "stream",
     "text": [
      "Before_Round: 326.9967\n",
      "After_Round : 327\n"
     ]
    }
   ],
   "source": [
    "x = 2.9987\n",
    "y = 323.998\n",
    "z = x + y\n",
    "print(\"Before_Round:\", z)\n",
    "print(\"After_Round :\", round(z))"
   ]
  },
  {
   "attachments": {},
   "cell_type": "markdown",
   "metadata": {},
   "source": [
    "##### **seperate decimals**\n",
    "> `print(f\"{z:,}\")`"
   ]
  },
  {
   "cell_type": "code",
   "execution_count": 20,
   "metadata": {},
   "outputs": [
    {
     "name": "stdout",
     "output_type": "stream",
     "text": [
      "6,458,312,428,652,419,472,356,817,947\n"
     ]
    }
   ],
   "source": [
    "x = 6458312428652419472356817947\n",
    "print(f\"{x:,}\")"
   ]
  }
 ],
 "metadata": {
  "kernelspec": {
   "display_name": "Python 3",
   "language": "python",
   "name": "python3"
  },
  "language_info": {
   "codemirror_mode": {
    "name": "ipython",
    "version": 3
   },
   "file_extension": ".py",
   "mimetype": "text/x-python",
   "name": "python",
   "nbconvert_exporter": "python",
   "pygments_lexer": "ipython3",
   "version": "3.9.5"
  },
  "orig_nbformat": 4
 },
 "nbformat": 4,
 "nbformat_minor": 2
}
