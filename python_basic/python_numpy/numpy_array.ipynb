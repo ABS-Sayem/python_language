{
 "cells": [
  {
   "cell_type": "code",
   "execution_count": 2,
   "metadata": {},
   "outputs": [
    {
     "name": "stdout",
     "output_type": "stream",
     "text": [
      "Original List: [10.0, 20, 30, 40.04, 50, 60, 70, 80.887, 90]\n",
      "Converted 1D Numpy Array: [10.    20.    30.    40.04  50.    60.    70.    80.887 90.   ]\n"
     ]
    }
   ],
   "source": [
    "# 2.Write a NumPy program to convert a list of numeric value into a one-dimensional NumPy array.\n",
    "\n",
    "import numpy as np\n",
    "\n",
    "list1 = [10.0,20,30,40.04,50,60,70,80.887,90]\n",
    "print(\"Original List:\", list1)\n",
    "\n",
    "# Convert to array\n",
    "array1 = np.array(list1)\n",
    "print(\"Converted 1D Numpy Array:\", array1)\n"
   ]
  },
  {
   "cell_type": "code",
   "execution_count": 3,
   "metadata": {},
   "outputs": [
    {
     "name": "stdout",
     "output_type": "stream",
     "text": [
      "[[ 2  3  4]\n",
      " [ 5  6  7]\n",
      " [ 8  9 10]]\n"
     ]
    }
   ],
   "source": [
    "# 3.Write a NumPy program to create a 3x3 matrix with values ranging from 2 to 10.\n",
    "\n",
    "import numpy as np\n",
    "\n",
    "array1D = np.arange(2,11).reshape(3,3)\n",
    "print(array1D)"
   ]
  },
  {
   "cell_type": "code",
   "execution_count": 4,
   "metadata": {},
   "outputs": [
    {
     "name": "stdout",
     "output_type": "stream",
     "text": [
      "[12 13 14 15 16 17 18 19 20 21 22 23 24 25 26 27 28 29 30 31 32 33 34 35\n",
      " 36 37]\n"
     ]
    }
   ],
   "source": [
    "# 5.Write a NumPy program to create an array with values ranging from 12 to 38.\n",
    "\n",
    "import numpy as np\n",
    "\n",
    "array1 = np.arange(12,38)       # Starts from 12 and ends at 37\n",
    "print(array1)"
   ]
  },
  {
   "cell_type": "code",
   "execution_count": 6,
   "metadata": {},
   "outputs": [
    {
     "name": "stdout",
     "output_type": "stream",
     "text": [
      "Original Array: [10 11 12 13 14 15 16 17 18 19 20 21 22 23 24 25 26 27 28 29]\n",
      "Reversed Array: [29 28 27 26 25 24 23 22 21 20 19 18 17 16 15 14 13 12 11 10]\n"
     ]
    }
   ],
   "source": [
    "# 6.Write a NumPy program to reverse an array (first element becomes last).\n",
    "\n",
    "import numpy as np\n",
    "\n",
    "array1 = np.arange(10,30)\n",
    "print(\"Original Array:\", array1)\n",
    "\n",
    "# Make Reverse Array\n",
    "reversed_array = array1[::-1]\n",
    "print(\"Reversed Array:\", reversed_array)"
   ]
  },
  {
   "cell_type": "code",
   "execution_count": 8,
   "metadata": {},
   "outputs": [
    {
     "name": "stdout",
     "output_type": "stream",
     "text": [
      "Original Array: [10 11 12 13 14 15 16 17 18 19 20 21 22 23 24 25 26 27 28 29]\n",
      "Converted Array: [10. 11. 12. 13. 14. 15. 16. 17. 18. 19. 20. 21. 22. 23. 24. 25. 26. 27.\n",
      " 28. 29.]\n"
     ]
    }
   ],
   "source": [
    "# 7.Write a NumPy program to convert an array to a float type.\n",
    "\n",
    "import numpy as np\n",
    "\n",
    "array1 = np.arange(10,30)\n",
    "print(\"Original Array:\", array1)\n",
    "\n",
    "# Convert the array to float type\n",
    "float_array = np.asfarray(array1)\n",
    "print(\"Converted Array:\", float_array)"
   ]
  },
  {
   "cell_type": "code",
   "execution_count": 13,
   "metadata": {},
   "outputs": [
    {
     "name": "stdout",
     "output_type": "stream",
     "text": [
      "Original Array:\n",
      "[[1. 1. 1.]\n",
      " [1. 1. 1.]\n",
      " [1. 1. 1.]]\n",
      "0 filled array:\n",
      "[[0. 0. 0. 0. 0.]\n",
      " [0. 1. 1. 1. 0.]\n",
      " [0. 1. 1. 1. 0.]\n",
      " [0. 1. 1. 1. 0.]\n",
      " [0. 0. 0. 0. 0.]]\n"
     ]
    }
   ],
   "source": [
    "# 9.Write a NumPy program to add a border (filled with 0's) around an existing array.\n",
    "\n",
    "import numpy as np\n",
    "\n",
    "array1 = np.ones((3,3))\n",
    "print(\"Original Array:\")\n",
    "print(array1)\n",
    "\n",
    "# Add a border filled with 0's\n",
    "filled_array = np.pad(array1, pad_width=1, mode='constant', constant_values=0)\n",
    "print('0 filled array:')\n",
    "print(filled_array)"
   ]
  },
  {
   "cell_type": "code",
   "execution_count": 14,
   "metadata": {},
   "outputs": [
    {
     "name": "stdout",
     "output_type": "stream",
     "text": [
      "Checkboard Pattern\n",
      "[[0 1 0 1 0 1 0 1]\n",
      " [1 0 1 0 1 0 1 0]\n",
      " [0 1 0 1 0 1 0 1]\n",
      " [1 0 1 0 1 0 1 0]\n",
      " [0 1 0 1 0 1 0 1]\n",
      " [1 0 1 0 1 0 1 0]\n",
      " [0 1 0 1 0 1 0 1]\n",
      " [1 0 1 0 1 0 1 0]]\n"
     ]
    }
   ],
   "source": [
    "# 10.Write a NumPy program to create a 8x8 matrix and fill it with a checkerboard pattern.\n",
    "\n",
    "import numpy as np\n",
    "\n",
    "array1 = np.ones((5,5))\n",
    "array1 = np.zeros((8,8), dtype=int)\n",
    "print(\"Checkboard Pattern\")\n",
    "array1[1::2,::2] = 1\n",
    "array1[::2,1::2] = 1\n",
    "print(array1)"
   ]
  },
  {
   "cell_type": "code",
   "execution_count": 19,
   "metadata": {},
   "outputs": [
    {
     "name": "stdout",
     "output_type": "stream",
     "text": [
      "List to Array: [1 2 3 4 5 6 7]\n",
      "Tuple to Array: [list([1, 3, 5, 7]) list([2, 4, 6])]\n"
     ]
    },
    {
     "name": "stderr",
     "output_type": "stream",
     "text": [
      "C:\\Users\\AbsSayem\\AppData\\Local\\Temp/ipykernel_2628/2793778486.py:13: VisibleDeprecationWarning: Creating an ndarray from ragged nested sequences (which is a list-or-tuple of lists-or-tuples-or ndarrays with different lengths or shapes) is deprecated. If you meant to do this, you must specify 'dtype=object' when creating the ndarray.\n",
      "  print(\"Tuple to Array:\", np.asarray(my_tuple))\n"
     ]
    }
   ],
   "source": [
    "# 11.Write a NumPy program to convert a list and tuple into arrays.\n",
    "\n",
    "import numpy as np\n",
    "import warnings\n",
    "\n",
    "my_list = [1,2,3,4,5,6,7]\n",
    "my_tuple = ([1,3,5,7],[2,4,6])\n",
    "\n",
    "# Convert list to array\n",
    "print(\"List to Array:\", np.asarray(my_list))\n",
    "\n",
    "# Convert tuple to array\n",
    "print(\"Tuple to Array:\", np.asarray(my_tuple))\n",
    "ignore_warnings = True"
   ]
  },
  {
   "cell_type": "code",
   "execution_count": 30,
   "metadata": {},
   "outputs": [
    {
     "name": "stdout",
     "output_type": "stream",
     "text": [
      "Original Array: [10, 20, 30]\n",
      "After Append Values: [10 20 30 40 50 60 70 80 90]\n",
      "After Adding Values: [10 20 30 40 50 60 70 80 90 list([100, 110]) list([120, 130, 140, 150])]\n"
     ]
    }
   ],
   "source": [
    "# 12.Write a NumPy program to append values to the end of an array.\n",
    "\n",
    "import numpy as np\n",
    "\n",
    "x = [10, 20, 30]\n",
    "print(\"Original Array:\", x)\n",
    "\n",
    "# Add values to the end of the array\n",
    "x = np.append(x, [[40,50,60,70,80,90]])\n",
    "print(\"After Append Values:\", x)\n",
    "\n",
    "y = np.append(x, [[100,110],[120,130,140,150]])\n",
    "print(\"After Adding Values:\", y)"
   ]
  },
  {
   "cell_type": "code",
   "execution_count": 32,
   "metadata": {},
   "outputs": [
    {
     "name": "stdout",
     "output_type": "stream",
     "text": [
      "Values in Fahrenheit: [  0.    12.    45.    78.    33.    99.91 100.3 ]\n",
      "Values in Centigrade: [-17.77777778 -11.11111111   7.22222222  25.55555556   0.55555556\n",
      "  37.72777778  37.94444444]\n"
     ]
    }
   ],
   "source": [
    "# 14.Write a NumPy program to convert the values of Centigrade degrees into Fahrenheit degrees. \n",
    "# Centigrade values are stored into a NumPy array.\n",
    "\n",
    "import numpy as np\n",
    "\n",
    "fvalues = [0, 12, 45, 78, 33, 99.91, 100.3]\n",
    "# Convert the list into array\n",
    "f = np.array(fvalues)\n",
    "print(\"Values in Fahrenheit:\", f)\n",
    "\n",
    "c = (5*f/9 - 5*32/9)\n",
    "print(\"Values in Centigrade:\", c)"
   ]
  },
  {
   "cell_type": "code",
   "execution_count": 34,
   "metadata": {},
   "outputs": [
    {
     "name": "stdout",
     "output_type": "stream",
     "text": [
      "Original Array of X: [1.+0.j]\n",
      "Original Array of Y: [0.70710678+0.70710678j]\n",
      "Real part of X: [1.]\n",
      "Real part of Y: [0.70710678]\n",
      "Imeginary part of X: [0.]\n",
      "Imeginary part of Y: [0.70710678]\n"
     ]
    }
   ],
   "source": [
    "# 15.Write a NumPy program to find the real and imaginary parts of an array of complex numbers.\n",
    "\n",
    "import numpy as np\n",
    "\n",
    "x = np.sqrt([1+0j])\n",
    "y = np.sqrt([0+1j])\n",
    "print(\"Original Array of X:\", x)\n",
    "print(\"Original Array of Y:\", y)\n",
    "\n",
    "print(\"Real part of X:\", x.real)\n",
    "print(\"Real part of Y:\", y.real)\n",
    "\n",
    "print(\"Imeginary part of X:\", x.imag)\n",
    "print(\"Imeginary part of Y:\", y.imag)"
   ]
  },
  {
   "cell_type": "code",
   "execution_count": 3,
   "metadata": {},
   "outputs": [
    {
     "name": "stdout",
     "output_type": "stream",
     "text": [
      "Array1: [ 0 10 20 30 33]\n",
      "Array2: [11 20 30 40 50]\n",
      "Compare elements of both array:\n",
      "[False False  True  True False]\n",
      "[False  True  True False False]\n"
     ]
    }
   ],
   "source": [
    "# 17.Write a NumPy program to test whether each element of a 1-D array is also present in a second array.\n",
    "\n",
    "import numpy as np\n",
    "\n",
    "array1 = np.array([0,10,20,30,33])\n",
    "print(\"Array1:\",array1)\n",
    "array2 = np.array([11,20,30,40,50])\n",
    "print(\"Array2:\",array2)\n",
    "\n",
    "print(\"Compare elements of both array:\")\n",
    "print(np.in1d(array1,array2))\n",
    "print(np.in1d(array2,array1))"
   ]
  },
  {
   "cell_type": "code",
   "execution_count": 5,
   "metadata": {},
   "outputs": [
    {
     "name": "stdout",
     "output_type": "stream",
     "text": [
      "Array1: [ 0 10 20 30 33]\n",
      "Array2: [11 20 30 40 50]\n",
      "Common values between two arrays:\n",
      "[20 30]\n"
     ]
    }
   ],
   "source": [
    "# 18.Write a NumPy program to find common values between two arrays.\n",
    "\n",
    "import numpy as np\n",
    "\n",
    "array1 = np.array([0,10,20,30,33])\n",
    "print(\"Array1:\",array1)\n",
    "array2 = np.array([11,20,30,40,50])\n",
    "print(\"Array2:\",array2)\n",
    "\n",
    "print(\"Common values between two arrays:\")\n",
    "print(np.intersect1d(array1,array2))"
   ]
  },
  {
   "cell_type": "code",
   "execution_count": 12,
   "metadata": {},
   "outputs": [
    {
     "name": "stdout",
     "output_type": "stream",
     "text": [
      "Original Array: [10 10 20 22 30 30 44]\n",
      "Unique elements of the above array: [10 20 22 30 44]\n",
      "Original Array:\n",
      "[[1 1 2]\n",
      " [2 3 4]]\n",
      "Unique elements of the above array: [1 2 3 4]\n"
     ]
    }
   ],
   "source": [
    "# 19.Write a NumPy program to get the unique elements of an array.\n",
    "\n",
    "import numpy as np\n",
    "\n",
    "array1 = np.array([10,10,20,22,30,30,44])\n",
    "print(\"Original Array:\",array1)\n",
    "print(\"Unique elements of the above array:\",np.unique(array1))\n",
    "\n",
    "array2 = np.array([[1,1,2],[2,3,4]])\n",
    "print(\"Original Array:\")\n",
    "print(array2)\n",
    "print(\"Unique elements of the above array:\",np.unique(array2))"
   ]
  },
  {
   "cell_type": "code",
   "execution_count": 13,
   "metadata": {},
   "outputs": [
    {
     "name": "stdout",
     "output_type": "stream",
     "text": [
      "Array1: [ 0 10 20 50 80 90]\n",
      "Array2: [30 10 20 60 70 90]\n",
      "Unique values in Array1 that are not in Array2:\n",
      "[ 0 50 80]\n"
     ]
    }
   ],
   "source": [
    "# 20.Write a NumPy program to find the set difference of two arrays. \n",
    "# The set difference will return the sorted, unique values in array1 that are not in array2.\n",
    "\n",
    "import numpy as np\n",
    "\n",
    "array1 = np.array([0,10,20,50,80,90])\n",
    "print(\"Array1:\",array1)\n",
    "array2 = np.array([30,10,20,60,70,90])\n",
    "print(\"Array2:\",array2)\n",
    "\n",
    "print(\"Unique values in Array1 that are not in Array2:\")\n",
    "print(np.setdiff1d(array1,array2))"
   ]
  },
  {
   "cell_type": "code",
   "execution_count": 15,
   "metadata": {},
   "outputs": [
    {
     "name": "stdout",
     "output_type": "stream",
     "text": [
      "Array1: [ 0 10 20 50 80 90]\n",
      "Array2: [30 10 20 60 70 90]\n",
      "Unique values that are in only one array:\n",
      "[ 0 30 50 60 70 80]\n"
     ]
    }
   ],
   "source": [
    "# 21. Write a NumPy program to find the set exclusive-or of two arrays. \n",
    "# Set exclusive-or will return the sorted, unique values that are in only one (not both) of the input arrays.\n",
    "\n",
    "import numpy as np\n",
    "\n",
    "array1 = np.array([0,10,20,50,80,90])\n",
    "print(\"Array1:\",array1)\n",
    "array2 = np.array([30,10,20,60,70,90])\n",
    "print(\"Array2:\",array2)\n",
    "\n",
    "print(\"Unique values that are in only one array:\")\n",
    "print(np.setxor1d(array1, array2))"
   ]
  },
  {
   "cell_type": "code",
   "execution_count": 16,
   "metadata": {},
   "outputs": [
    {
     "name": "stdout",
     "output_type": "stream",
     "text": [
      "Array1: [ 0 10 20 50 80 90]\n",
      "Array2: [30 10 20 60 70 90]\n",
      "Union of two Arrays:\n",
      "[ 0 10 20 30 50 60 70 80 90]\n"
     ]
    }
   ],
   "source": [
    "# 22.Write a NumPy program to find the union of two arrays. \n",
    "# Union will return the unique, sorted array of values that are in either of the two input arrays.\n",
    "\n",
    "import numpy as np\n",
    "\n",
    "array1 = np.array([0,10,20,50,80,90])\n",
    "print(\"Array1:\",array1)\n",
    "array2 = np.array([30,10,20,60,70,90])\n",
    "print(\"Array2:\",array2)\n",
    "\n",
    "print(\"Union of two Arrays:\")\n",
    "print(np.union1d(array1,array2))"
   ]
  },
  {
   "cell_type": "code",
   "execution_count": 17,
   "metadata": {},
   "outputs": [
    {
     "name": "stdout",
     "output_type": "stream",
     "text": [
      "Original Array: [ 0 10 20 30 40 50]\n",
      "Repeating 2 Times:\n",
      "[ 0 10 20 30 40 50  0 10 20 30 40 50]\n",
      "Repeating 3 Times:\n",
      "[ 0 10 20 30 40 50  0 10 20 30 40 50  0 10 20 30 40 50]\n"
     ]
    }
   ],
   "source": [
    "# 25.Write a NumPy program to construct an array by repeating.\n",
    "\n",
    "import numpy as np\n",
    "\n",
    "array1 = np.array([0,10,20,30,40,50])\n",
    "print(\"Original Array:\",array1)\n",
    "\n",
    "print(\"Repeating 2 Times:\")\n",
    "print(np.tile(array1,2))\n",
    "print(\"Repeating 3 Times:\")\n",
    "print(np.tile(array1,3))"
   ]
  },
  {
   "cell_type": "code",
   "execution_count": 20,
   "metadata": {},
   "outputs": [
    {
     "name": "stdout",
     "output_type": "stream",
     "text": [
      "Array1: [3 3 3 3]\n",
      "Repeated Array: [2 2 3 3 3 3 4 4]\n"
     ]
    }
   ],
   "source": [
    "# 26.Write a NumPy program to repeat elements of an array.\n",
    "\n",
    "import numpy as np\n",
    "\n",
    "array1 = np.repeat(3,4)\n",
    "print(\"Array1:\",array1)\n",
    "\n",
    "array2 = np.array([[2,3],[3,4]])\n",
    "print(\"Repeated Array:\", np.repeat(array2,2))"
   ]
  },
  {
   "cell_type": "code",
   "execution_count": 2,
   "metadata": {},
   "outputs": [
    {
     "name": "stdout",
     "output_type": "stream",
     "text": [
      "Original Array: [10  0 20 30 40 50]\n",
      "Index of Maximum Value: 5\n",
      "Index of Minimum Value: 1\n"
     ]
    }
   ],
   "source": [
    "# 27.Write a NumPy program to find the indices of the maximum and minimum values along the given axis of an array.\n",
    "\n",
    "import numpy as np\n",
    "\n",
    "array1 = np.array([10,0,20,30,40,50])\n",
    "print(\"Original Array:\", array1)\n",
    "\n",
    "print(\"Index of Maximum Value:\", np.argmax(array1))\n",
    "print(\"Index of Minimum Value:\", np.argmin(array1))"
   ]
  },
  {
   "cell_type": "code",
   "execution_count": 7,
   "metadata": {},
   "outputs": [
    {
     "name": "stdout",
     "output_type": "stream",
     "text": [
      "Array1: [1 3]\n",
      "Array2: [2 4]\n",
      "--Is array1 > array2--\n",
      "[False False]\n",
      "--Is array1 >= array2--\n",
      "[False False]\n",
      "--Is array1 < array2--\n",
      "[ True  True]\n",
      "--Is array1 <= array2--\n",
      "[ True  True]\n"
     ]
    }
   ],
   "source": [
    "# 28.Write a NumPy program compare two given arrays.\n",
    "\n",
    "import numpy as np\n",
    "\n",
    "array1 = np.array([1,3])\n",
    "print(\"Array1:\", array1)\n",
    "array2 = np.array([2,4])\n",
    "print(\"Array2:\", array2)\n",
    "\n",
    "print(\"--Is array1 > array2--\")\n",
    "print(np.greater(array1,array2))\n",
    "\n",
    "print(\"--Is array1 >= array2--\")\n",
    "print(np.greater_equal(array1,array2))\n",
    "\n",
    "print(\"--Is array1 < array2--\")\n",
    "print(np.less(array1,array2))\n",
    "\n",
    "print(\"--Is array1 <= array2--\")\n",
    "print(np.less_equal(array1,array2))"
   ]
  },
  {
   "cell_type": "code",
   "execution_count": 11,
   "metadata": {},
   "outputs": [
    {
     "name": "stdout",
     "output_type": "stream",
     "text": [
      "Original Array: [100  80  10  20  30  40  50]\n",
      "Values bigger than 10: [100  80  20  30  40  50]\n",
      "Their indices are: (array([0, 1, 3, 4, 5, 6], dtype=int64),)\n"
     ]
    }
   ],
   "source": [
    "# 31.Write a NumPy program to get the values and indices of the elements that are bigger than 10 in a given array.\n",
    "\n",
    "import numpy as np\n",
    "\n",
    "array1 = np.array([100,80,10,20,30,40,50])\n",
    "print(\"Original Array:\", array1)\n",
    "\n",
    "print(\"Values bigger than 10:\", array1[array1>10])\n",
    "print(\"Their indices are:\", np.nonzero(array1>10))"
   ]
  },
  {
   "cell_type": "code",
   "execution_count": 12,
   "metadata": {},
   "outputs": [],
   "source": [
    "# 32.Write a NumPy program to save a NumPy array to a text file.\n",
    "\n",
    "import numpy as np\n",
    "\n",
    "array1 = np.array([1.0,2.9,56.35,0.9,20])\n",
    "np.savetxt('file.txt',array1,delimiter=',')"
   ]
  },
  {
   "cell_type": "code",
   "execution_count": 10,
   "metadata": {},
   "outputs": [
    {
     "name": "stdout",
     "output_type": "stream",
     "text": [
      "Original Array(6R,0C):\n",
      "(6,)\n",
      "Original Array(3R,3C):\n",
      "[[1 2 3]\n",
      " [4 5 6]\n",
      " [7 8 9]]\n",
      "Changing 1D array1 to the shape(3x2)->3R,2C:\n",
      "[[1 2]\n",
      " [3 4]\n",
      " [5 6]]\n"
     ]
    }
   ],
   "source": [
    "# 35.Write a NumPy program to change the dimension of an array.\n",
    "\n",
    "import numpy as np\n",
    "\n",
    "array1 = np.array([1,2,3,4,5,6])\n",
    "print(\"Original Array(6R,0C):\")\n",
    "print(array1.shape)\n",
    "\n",
    "array2 = np.array([[1,2,3],[4,5,6],[7,8,9]])\n",
    "print(\"Original Array(3R,3C):\")\n",
    "print(array2)\n",
    "\n",
    "# Change the dimension\n",
    "print(\"Changing 1D array1 to the shape(3x2)->3R,2C:\")\n",
    "array1.shape=(3,2)\n",
    "print(array1)\n"
   ]
  },
  {
   "cell_type": "code",
   "execution_count": 13,
   "metadata": {},
   "outputs": [
    {
     "name": "stdout",
     "output_type": "stream",
     "text": [
      "Original Array(3R,3C):\n",
      "[[1 2 3]\n",
      " [4 5 6]\n",
      " [7 8 9]]\n",
      "Flattened Array:\n",
      "[1 2 3 4 5 6 7 8 9]\n"
     ]
    }
   ],
   "source": [
    "# 36.Write a NumPy program to create a contiguous flattened array.\n",
    "\n",
    "import numpy as np\n",
    "\n",
    "array1 = np.array([[1,2,3],[4,5,6],[7,8,9]])\n",
    "print(\"Original Array(3R,3C):\")\n",
    "print(array1)\n",
    "\n",
    "# Make flatten\n",
    "flattened_array = np.ravel(array1)\n",
    "print(\"Flattened Array:\")\n",
    "print(flattened_array)"
   ]
  },
  {
   "cell_type": "code",
   "execution_count": 16,
   "metadata": {},
   "outputs": [
    {
     "name": "stdout",
     "output_type": "stream",
     "text": [
      "Original Array(3R,3C):\n",
      "[[ 1  2  3]\n",
      " [ 4  5  6]\n",
      " [ 7  8  9]\n",
      " [10 11 12]]\n",
      "Reshaping 3x4 array into 6x2:\n",
      "[[ 1  2  3  4  5  6]\n",
      " [ 7  8  9 10 11 12]]\n"
     ]
    }
   ],
   "source": [
    "# 38.Write a NumPy program to create a new shape to an array without changing its data.\n",
    "\n",
    "import numpy as np\n",
    "\n",
    "array1 = np.array([[1,2,3],[4,5,6],[7,8,9],[10,11,12]])\n",
    "print(\"Original Array(3R,3C):\")\n",
    "print(array1)\n",
    "\n",
    "# Reshape the array\n",
    "print(\"Reshaping 3x4 array into 6x2:\")\n",
    "reshaped_array = np.reshape(array1,(2,6))\n",
    "print(reshaped_array)"
   ]
  },
  {
   "cell_type": "code",
   "execution_count": 20,
   "metadata": {},
   "outputs": [
    {
     "name": "stdout",
     "output_type": "stream",
     "text": [
      "Array1: [[2 2 2 2 2]\n",
      " [2 2 2 2 2]\n",
      " [2 2 2 2 2]\n",
      " [2 2 2 2 2]\n",
      " [2 2 2 2 2]]\n",
      "Array2: [[2 2 2 2 2]\n",
      " [2 2 2 2 2]\n",
      " [2 2 2 2 2]\n",
      " [2 2 2 2 2]\n",
      " [2 2 2 2 2]]\n",
      "Array3: [[2 2 2 2 2]\n",
      " [2 2 2 2 2]\n",
      " [2 2 2 2 2]\n",
      " [2 2 2 2 2]\n",
      " [2 2 2 2 2]]\n"
     ]
    }
   ],
   "source": [
    "# 40.Write a NumPy program to create a new array of 3*5, filled with 2.\n",
    "\n",
    "import numpy as np\n",
    "\n",
    "# Using np.full\n",
    "array1 = np.full((5,5), 2, dtype=np.uint)\n",
    "print(\"Array1:\", array1)\n",
    "\n",
    "# Using np.ones\n",
    "array2 = np.ones([5,5], dtype=np.uint)*2\n",
    "print(\"Array2:\", array2)\n",
    "\n",
    "# Using np.zeros\n",
    "array3 = np.zeros([5,5], dtype=np.uint)+2\n",
    "print(\"Array3:\", array3)"
   ]
  },
  {
   "cell_type": "code",
   "execution_count": null,
   "metadata": {},
   "outputs": [],
   "source": []
  }
 ],
 "metadata": {
  "interpreter": {
   "hash": "88bd64abd146d54e091ff1398670d31add9e50ee4691cdc8ffb9431c01087a21"
  },
  "kernelspec": {
   "display_name": "Python 3.9.5 64-bit",
   "language": "python",
   "name": "python3"
  },
  "language_info": {
   "codemirror_mode": {
    "name": "ipython",
    "version": 3
   },
   "file_extension": ".py",
   "mimetype": "text/x-python",
   "name": "python",
   "nbconvert_exporter": "python",
   "pygments_lexer": "ipython3",
   "version": "3.9.5"
  },
  "orig_nbformat": 4
 },
 "nbformat": 4,
 "nbformat_minor": 2
}
