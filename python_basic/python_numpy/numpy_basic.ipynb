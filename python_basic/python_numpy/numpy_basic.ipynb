{
 "cells": [
  {
   "cell_type": "code",
   "execution_count": 3,
   "metadata": {},
   "outputs": [],
   "source": [
    "# 1.Write a NumPy program to get the numpy version and show numpy build configuration.\n",
    "\n",
    "import numpy as np\n",
    "#print(\"Numpy Version:\", np.__version__)\n",
    "#print(\"Numpy Config:\", np.show_config())"
   ]
  },
  {
   "cell_type": "code",
   "execution_count": 9,
   "metadata": {},
   "outputs": [
    {
     "name": "stdout",
     "output_type": "stream",
     "text": [
      "Original Array: [1 2 3]\n",
      "If None of the element is zero? True\n",
      "Original Array: [0 1 3 5 7]\n",
      "If None of the element is zero? False\n"
     ]
    }
   ],
   "source": [
    "# 3.Write a NumPy program to test whether none of the elements of a given array is zero.\n",
    "\n",
    "import numpy as np\n",
    "\n",
    "x = np.array([1,2,3])\n",
    "print(\"Original Array:\", x)\n",
    "print(\"If None of the element is zero?\", np.all(x))     # all() checks only zero\n",
    "\n",
    "y = np.array([0,1,3,5,7])\n",
    "print(\"Original Array:\", y)\n",
    "print(\"If None of the element is zero?\", np.all(y))"
   ]
  },
  {
   "cell_type": "code",
   "execution_count": 10,
   "metadata": {},
   "outputs": [
    {
     "name": "stdout",
     "output_type": "stream",
     "text": [
      "Original Array: [0 2 0 0 0]\n",
      "If any of the element is non-zero? True\n",
      "Original Array: [0 0 0 0 0 0]\n",
      "If any of the element is non-zero? False\n"
     ]
    }
   ],
   "source": [
    "# 4.Write a NumPy program to test whether any of the elements of a given array is non-zero.\n",
    "\n",
    "x = np.array([0,2,0,0,0])\n",
    "print(\"Original Array:\", x)\n",
    "print(\"If any of the element is non-zero?\", np.any(x))     # any() checks non-zero items\n",
    "\n",
    "y = np.array([0,0,0,0,0,0])\n",
    "print(\"Original Array:\", y)\n",
    "print(\"If any of the element is non-zero?\", np.any(y))"
   ]
  },
  {
   "cell_type": "code",
   "execution_count": 12,
   "metadata": {},
   "outputs": [
    {
     "name": "stdout",
     "output_type": "stream",
     "text": [
      "Original Array: [ 0.  1. nan inf]\n",
      "If given items is finite or non-number? [ True  True False False]\n"
     ]
    }
   ],
   "source": [
    "# 5.Write a NumPy program to test a given array element-wise for finiteness (not infinity or not a Number).\n",
    "\n",
    "import numpy as np\n",
    "\n",
    "a = np.array([0,1,np.nan,np.inf])\n",
    "print(\"Original Array:\", a)\n",
    "print(\"If given items is finite or not-a-number?\", np.isfinite(a))"
   ]
  },
  {
   "cell_type": "code",
   "execution_count": 14,
   "metadata": {},
   "outputs": [
    {
     "name": "stdout",
     "output_type": "stream",
     "text": [
      "Original Array: [ 0.  1. nan inf]\n",
      "If given items is infinite? [False False False  True]\n"
     ]
    }
   ],
   "source": [
    "# 6.Write a NumPy program to test element-wise for positive or negative infinity.\n",
    "\n",
    "import numpy as np\n",
    "\n",
    "a = np.array([0,1,np.nan,np.inf])\n",
    "print(\"Original Array:\", a)\n",
    "print(\"If given items is infinite?\", np.isinf(a))"
   ]
  },
  {
   "cell_type": "code",
   "execution_count": 15,
   "metadata": {},
   "outputs": [
    {
     "name": "stdout",
     "output_type": "stream",
     "text": [
      "Original Array: [ 0.  1. nan inf]\n",
      "If given items is not-a-number? [False False  True False]\n"
     ]
    }
   ],
   "source": [
    "# 7.Write a NumPy program to test element-wise for NaN of a given array.\n",
    "\n",
    "import numpy as np\n",
    "\n",
    "a = np.array([0,1,np.nan,np.inf])\n",
    "print(\"Original Array:\", a)\n",
    "print(\"If given items is not-a-number?\", np.isnan(a))"
   ]
  },
  {
   "cell_type": "code",
   "execution_count": 18,
   "metadata": {},
   "outputs": [
    {
     "name": "stdout",
     "output_type": "stream",
     "text": [
      " False\n",
      " True\n",
      " False\n",
      " False\n",
      " True\n"
     ]
    }
   ],
   "source": [
    "# 9.Write a NumPy program to test whether two arrays are element-wise equal within a tolerance.\n",
    "\n",
    "import numpy as np\n",
    "\n",
    "print(\"\", np.allclose([1e10,1e-7],[1.00001e10,1e-8]))\n",
    "print(\"\", np.allclose([1e10,1e-8],[1.00001e10,1e-9]))\n",
    "print(\"\", np.allclose([1e10,1e-8],[1.0001e10,1e-9]))\n",
    "print(\"\", np.allclose([1.0,np.nan],[1.0,np.nan]))\n",
    "print(\"\", np.allclose([1.0,np.nan],[1.0,np.nan], equal_nan=True))"
   ]
  }
 ],
 "metadata": {
  "interpreter": {
   "hash": "88bd64abd146d54e091ff1398670d31add9e50ee4691cdc8ffb9431c01087a21"
  },
  "kernelspec": {
   "display_name": "Python 3.9.5 64-bit",
   "language": "python",
   "name": "python3"
  },
  "language_info": {
   "codemirror_mode": {
    "name": "ipython",
    "version": 3
   },
   "file_extension": ".py",
   "mimetype": "text/x-python",
   "name": "python",
   "nbconvert_exporter": "python",
   "pygments_lexer": "ipython3",
   "version": "3.9.5"
  },
  "orig_nbformat": 4
 },
 "nbformat": 4,
 "nbformat_minor": 2
}
