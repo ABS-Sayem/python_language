{
 "cells": [
  {
   "cell_type": "code",
   "execution_count": 1,
   "metadata": {},
   "outputs": [],
   "source": [
    "# Import Regular Expression\n",
    "import re"
   ]
  },
  {
   "cell_type": "markdown",
   "metadata": {},
   "source": [
    "#### **RegEx Functions**"
   ]
  },
  {
   "cell_type": "markdown",
   "metadata": {},
   "source": [
    "**`findall()`**- returns a list containing all matches"
   ]
  },
  {
   "cell_type": "code",
   "execution_count": 2,
   "metadata": {},
   "outputs": [
    {
     "name": "stdout",
     "output_type": "stream",
     "text": [
      "['ing', 'ing', 'ing']\n"
     ]
    }
   ],
   "source": [
    "text = \"returing all containing all matchings\"\n",
    "reg = re.findall(\"ing\", text)\n",
    "print(reg)"
   ]
  },
  {
   "cell_type": "code",
   "execution_count": 3,
   "metadata": {},
   "outputs": [
    {
     "name": "stdout",
     "output_type": "stream",
     "text": [
      "['ain']\n"
     ]
    }
   ],
   "source": [
    "text = \"returing all containing all matchings\"\n",
    "reg = re.findall(\"ain\", text)\n",
    "print(reg)"
   ]
  },
  {
   "cell_type": "code",
   "execution_count": 5,
   "metadata": {},
   "outputs": [
    {
     "name": "stdout",
     "output_type": "stream",
     "text": [
      "[]\n"
     ]
    }
   ],
   "source": [
    "text = \"returing all the containing of all matchings\"\n",
    "reg = re.findall(\"dev\", text)\n",
    "print(reg)"
   ]
  },
  {
   "cell_type": "markdown",
   "metadata": {},
   "source": [
    "**`search()`**- returns a match object if there is a match. If there is more than one match, only the first occurrence of the match will be returned."
   ]
  },
  {
   "cell_type": "code",
   "execution_count": 15,
   "metadata": {},
   "outputs": [
    {
     "name": "stdout",
     "output_type": "stream",
     "text": [
      "The first occurrence of 'ing' in position 5-8\n"
     ]
    }
   ],
   "source": [
    "text = \"returing all the containing of all matchings\"\n",
    "reg = re.search(\"ing\", text)\n",
    "print(f\"The first occurrence of 'ing' in position {reg.start()}-{reg.end()}\")"
   ]
  },
  {
   "cell_type": "code",
   "execution_count": 17,
   "metadata": {},
   "outputs": [
    {
     "name": "stdout",
     "output_type": "stream",
     "text": [
      "None\n"
     ]
    }
   ],
   "source": [
    "text = \"returing all the containing of all matchings\"\n",
    "reg = re.search(\"aap\", text)\n",
    "print(reg)"
   ]
  },
  {
   "cell_type": "markdown",
   "metadata": {},
   "source": [
    "**`split()`**- returns a list where the string has been split at each match"
   ]
  },
  {
   "cell_type": "code",
   "execution_count": 19,
   "metadata": {},
   "outputs": [
    {
     "name": "stdout",
     "output_type": "stream",
     "text": [
      "['returing', 'all', 'the', 'cotaining', 'of', 'all', 'matchings']\n"
     ]
    }
   ],
   "source": [
    "text = \"returing all the containing of all matchings\"\n",
    "reg = re.split(\"\\s\", text)      # [\"\\s\"- white space] Split at each white-space character\n",
    "print(reg)"
   ]
  },
  {
   "cell_type": "code",
   "execution_count": 22,
   "metadata": {},
   "outputs": [
    {
     "name": "stdout",
     "output_type": "stream",
     "text": [
      "['returing', 'all the cotaining of all matchings']\n"
     ]
    }
   ],
   "source": [
    "# We can also control the number of occurrences by specifying the `maxsplit` parameter\n",
    "text = \"returing all the containing of all matchings\"\n",
    "reg = re.split(\"\\s\", text, 1)      # Here, 1 = maxsplit\n",
    "print(reg)"
   ]
  },
  {
   "cell_type": "markdown",
   "metadata": {},
   "source": [
    "**`sub()`**- replaces the matches with the text of your choice"
   ]
  },
  {
   "cell_type": "code",
   "execution_count": 24,
   "metadata": {},
   "outputs": [
    {
     "name": "stdout",
     "output_type": "stream",
     "text": [
      "returing-all-the-cotaining-of-all-matchings\n"
     ]
    }
   ],
   "source": [
    "text = \"returing all the containing of all matchings\"\n",
    "reg = re.sub(\"\\s\", \"-\", text)       # Replacing all the white-space character with the \"-\"(desh)\n",
    "print(reg)"
   ]
  },
  {
   "cell_type": "markdown",
   "metadata": {},
   "source": [
    "#### **RegEx Special Sequences**\n",
    "*A special sequence is a `\\` followed by one of the characters(english alphabet), has a special meaning.*"
   ]
  },
  {
   "cell_type": "code",
   "execution_count": 6,
   "metadata": {},
   "outputs": [
    {
     "name": "stdout",
     "output_type": "stream",
     "text": [
      "_uring all the containing of all matchings\n"
     ]
    }
   ],
   "source": [
    "# `\\A` - Returns a match if the specified characters are at the beginning of the string. (\"\\Axxx\")\n",
    "text = \"returing all the containing of all matchings\"\n",
    "reg = re.sub(\"\\Aret\", \"_\", text)\n",
    "print(reg)"
   ]
  },
  {
   "cell_type": "code",
   "execution_count": 8,
   "metadata": {},
   "outputs": [
    {
     "name": "stdout",
     "output_type": "stream",
     "text": [
      "_uring all the containing of all matchings\n"
     ]
    }
   ],
   "source": [
    "# `\\b` - Returns a match where the specified characters are at the beginning or at the end of a word. (r\"\\bxxx\" or r\"xxx\\b\")\n",
    "# 'r' in the beginning makes sure that the string is being trated as araw string.\n",
    "text = \"returing all the containing of all matchings\"\n",
    "reg = re.sub(r\"\\bret\", \"_\", text)       # Beginning of the string\n",
    "print(reg)"
   ]
  },
  {
   "cell_type": "code",
   "execution_count": 10,
   "metadata": {},
   "outputs": [
    {
     "name": "stdout",
     "output_type": "stream",
     "text": [
      "returing all the containing of all matchi_\n"
     ]
    }
   ],
   "source": [
    "text = \"returing all the containing of all matchings\"\n",
    "reg = re.sub(r\"ngs\\b\", \"_\", text)       # At the end of the string\n",
    "print(reg)"
   ]
  },
  {
   "cell_type": "code",
   "execution_count": 12,
   "metadata": {},
   "outputs": [
    {
     "name": "stdout",
     "output_type": "stream",
     "text": [
      "retur_ all the contain_ of all match_s\n"
     ]
    }
   ],
   "source": [
    "# '\\B' - Returns a match where the specified characters are present, but not at he beginning or at the end of a word. (r\"\\Bxxx\" or r\"xxx\\B\").\n",
    "text = \"returing all the containing of all matchings\"\n",
    "reg = re.sub(r\"\\Bing\", \"_\", text)       # At the end of the string\n",
    "print(reg)"
   ]
  },
  {
   "cell_type": "code",
   "execution_count": 14,
   "metadata": {},
   "outputs": [
    {
     "name": "stdout",
     "output_type": "stream",
     "text": [
      "returing all the containing of all match_s\n"
     ]
    }
   ],
   "source": [
    "text = \"returing all the containing of all matchings\"\n",
    "reg = re.sub(r\"ing\\B\", \"_\", text)       # At the end of the string\n",
    "print(reg)"
   ]
  },
  {
   "cell_type": "code",
   "execution_count": 15,
   "metadata": {},
   "outputs": [
    {
     "name": "stdout",
     "output_type": "stream",
     "text": [
      "Excel will change numbers like __________ to _________.\n"
     ]
    }
   ],
   "source": [
    "# '\\d' - Returns a match where the string contains digits (numbers from 0-9) ()\"\\d\"\n",
    "text = \"Excel will change numbers like 0784367998 to 784367998.\"\n",
    "reg = re.sub(\"\\d\", \"_\", text)       # At the end of the string\n",
    "print(reg)"
   ]
  },
  {
   "cell_type": "code",
   "execution_count": 16,
   "metadata": {},
   "outputs": [
    {
     "name": "stdout",
     "output_type": "stream",
     "text": [
      "_______________________________0784367998____784367998_\n"
     ]
    }
   ],
   "source": [
    "# '\\D' - Returns a match where the string doesnot contain digits (\"\\D\")\n",
    "text = \"Excel will change numbers like 0784367998 to 784367998.\"\n",
    "reg = re.sub(\"\\D\", \"_\", text)       # At the end of the string\n",
    "print(reg)"
   ]
  },
  {
   "cell_type": "code",
   "execution_count": 17,
   "metadata": {},
   "outputs": [
    {
     "name": "stdout",
     "output_type": "stream",
     "text": [
      "Excel_will_change_numbers_like_0784367998_to_784367998.\n"
     ]
    }
   ],
   "source": [
    "# '\\s' - Return a match where the string contain a white space character (\"\\s\")\n",
    "text = \"Excel will change numbers like 0784367998 to 784367998.\"\n",
    "reg = re.sub(\"\\s\", \"_\", text)       # At the end of the string\n",
    "print(reg)"
   ]
  },
  {
   "cell_type": "code",
   "execution_count": 18,
   "metadata": {},
   "outputs": [
    {
     "name": "stdout",
     "output_type": "stream",
     "text": [
      "_____ ____ ______ _______ ____ __________ __ __________\n"
     ]
    }
   ],
   "source": [
    "# '\\S' - Return a match where the string doesnot contain a white space character (\"\\S\")\n",
    "text = \"Excel will change numbers like 0784367998 to 784367998.\"\n",
    "reg = re.sub(\"\\S\", \"_\", text)       # At the end of the string\n",
    "print(reg)"
   ]
  },
  {
   "cell_type": "code",
   "execution_count": 19,
   "metadata": {},
   "outputs": [
    {
     "name": "stdout",
     "output_type": "stream",
     "text": [
      "_____ ____ ______ _______ ____ __________ __ _________.\n"
     ]
    }
   ],
   "source": [
    "# '\\w' - Return a match where the string contains any word characters (characters from a-z, digits from 0-9, and the underscore _ character). (\"\\w\")\n",
    "text = \"Excel will change numbers like 0784367998 to 784367998.\"\n",
    "reg = re.sub(\"\\w\", \"_\", text)       # At the end of the string\n",
    "print(reg)"
   ]
  },
  {
   "cell_type": "code",
   "execution_count": 20,
   "metadata": {},
   "outputs": [
    {
     "name": "stdout",
     "output_type": "stream",
     "text": [
      "Excel_will_change_numbers_like_0784367998_to_784367998_\n"
     ]
    }
   ],
   "source": [
    "# '\\W' - Return a match where the string doesnot contain any word characters. (\"\\W\")\n",
    "text = \"Excel will change numbers like 0784367998 to 784367998.\"\n",
    "reg = re.sub(\"\\W\", \"_\", text)       # At the end of the string\n",
    "print(reg)"
   ]
  },
  {
   "cell_type": "code",
   "execution_count": 22,
   "metadata": {},
   "outputs": [
    {
     "name": "stdout",
     "output_type": "stream",
     "text": [
      "Excel will change numbers like 0784367998 to 784367_\n"
     ]
    }
   ],
   "source": [
    "# '\\Z' - Returns a match if the specified characters are at the end of the string. (\"xxx\\Z\")\n",
    "text = \"Excel will change numbers like 0784367998 to 784367998.\"\n",
    "reg = re.sub(\"998.\\Z\", \"_\", text)       # At the end of the string\n",
    "print(reg)"
   ]
  },
  {
   "cell_type": "markdown",
   "metadata": {},
   "source": [
    "#### **RegEx Metacharacters**\n",
    "###### **Metacharacters are characters with a special meaning.**"
   ]
  },
  {
   "cell_type": "markdown",
   "metadata": {},
   "source": [
    "**`\"[]\" A set of characters`**"
   ]
  },
  {
   "cell_type": "code",
   "execution_count": 37,
   "metadata": {},
   "outputs": [
    {
     "name": "stdout",
     "output_type": "stream",
     "text": [
      "_e___ing all _he con_aining of all ma_ching_\n"
     ]
    }
   ],
   "source": [
    "# [] - A set of characters \"[a-m]\"\n",
    "text = \"returing all the containing of all matchings\"\n",
    "reg = re.sub(\"[r-z]\", \"_\", text)    # Follows the alphabetic order\n",
    "print(reg)"
   ]
  },
  {
   "cell_type": "code",
   "execution_count": 38,
   "metadata": {},
   "outputs": [
    {
     "name": "stdout",
     "output_type": "stream",
     "text": [
      "Excel will change numbers like 0__436 ____ to __436____.\n"
     ]
    }
   ],
   "source": [
    "# [] - A set of characters \"[7-9]\"\n",
    "text = \"Excel will change numbers like 078436 7998 to 784367998.\"\n",
    "reg = re.sub(\"[7-9]\", \"_\", text)    # Follows the alphabetic order\n",
    "print(reg)"
   ]
  },
  {
   "cell_type": "code",
   "execution_count": 8,
   "metadata": {},
   "outputs": [
    {
     "name": "stdout",
     "output_type": "stream",
     "text": [
      "Excel will change a lot of numbers like 0784367998 to 784367998    where meta characters includes     a b c d z e   f g h    i j k l m  n o p q r \\ s t u v w x y \n"
     ]
    }
   ],
   "source": [
    "# [] - A set of characters \"[+=-_,:;'\"./!@#$%&*()^{}[]`~\\|]\"\n",
    "text = \"Excel will change a-lot-of numbers like 0784367998 to 784367998[], where meta_characters includes: '(+a=b-c_d)z\\\"e(){f*g&h}{}^i%j$k#l@m[!n~o`p,q.r]\\/s?t;u:v'w/x|y.\"\n",
    "reg = re.sub(\"[+=,-.;:`~'\\\"(){}\\[\\]*&^%$#@!?/|_]\", \" \", text)\n",
    "print(reg)"
   ]
  },
  {
   "cell_type": "markdown",
   "metadata": {},
   "source": [
    "***`[NB]`backward_slash(`\\`) cannot be removed with all other special_characters. It has to be replaced seperately.***"
   ]
  },
  {
   "cell_type": "code",
   "execution_count": 16,
   "metadata": {},
   "outputs": [
    {
     "name": "stdout",
     "output_type": "stream",
     "text": [
      "Excel will change a lot of numbers like 0784367998 to 784367998    where meta characters includes     a b c d z e   f g h    i j k l m  n o p q r   s t u v w x y \n"
     ]
    }
   ],
   "source": [
    "reg = reg.replace(\"\\\\\", \" \")\n",
    "print(reg)"
   ]
  },
  {
   "cell_type": "markdown",
   "metadata": {},
   "source": [
    "**`\"\\\" Special sequence or Escape special characters`**"
   ]
  },
  {
   "cell_type": "code",
   "execution_count": 17,
   "metadata": {},
   "outputs": [
    {
     "name": "stdout",
     "output_type": "stream",
     "text": [
      "Excel will change numbers like ______ ____ to _________.\n"
     ]
    }
   ],
   "source": [
    "# \\ - Signals a special sequence, can also be used to escape special characters. (\"\\d\") d=digit\n",
    "text = \"Excel will change numbers like 078436 7998 to 784367998.\"\n",
    "reg = re.sub(\"\\d\", \"_\", text)       # Removed the digits\n",
    "print(reg)"
   ]
  },
  {
   "cell_type": "code",
   "execution_count": 18,
   "metadata": {},
   "outputs": [
    {
     "name": "stdout",
     "output_type": "stream",
     "text": [
      "Excel will change numbers like 078436 7998 to 784367998_\n"
     ]
    }
   ],
   "source": [
    "text = \"Excel will change numbers like 078436 7998 to 784367998.\"\n",
    "reg = re.sub(\"\\.\", \"_\", text)       # Removed the digits\n",
    "print(reg)"
   ]
  },
  {
   "cell_type": "markdown",
   "metadata": {},
   "source": [
    "**`\".\" Any character but newline`**"
   ]
  },
  {
   "cell_type": "code",
   "execution_count": 22,
   "metadata": {},
   "outputs": [
    {
     "name": "stdout",
     "output_type": "stream",
     "text": [
      "_ will change numbers like 078436 7998 to 784367998.\n"
     ]
    }
   ],
   "source": [
    "# . - Any character except newline character (\"xxx..x\")\n",
    "text = \"Excel will change numbers like 078436 7998 to 784367998.\"\n",
    "reg = re.sub(\"E...l\", \"_\", text)    # It finds for a sequence that starts with `E`, followed by any three characters, and ends with `l`\n",
    "print(reg)"
   ]
  },
  {
   "cell_type": "markdown",
   "metadata": {},
   "source": [
    "**`\"^\" Starts with`**"
   ]
  },
  {
   "cell_type": "code",
   "execution_count": 29,
   "metadata": {},
   "outputs": [
    {
     "name": "stdout",
     "output_type": "stream",
     "text": [
      "_ will change numbers like 078436 7998 to 784367998. And there is no other numbers.\n"
     ]
    }
   ],
   "source": [
    "# ^ - Starts with (\"^xxx\")\n",
    "text = \"Excel will change numbers like 078436 7998 to 784367998. And there is no other numbers.\"\n",
    "reg = re.sub(\"^Excel\", \"_\", text)\n",
    "print(reg)"
   ]
  },
  {
   "cell_type": "code",
   "execution_count": 30,
   "metadata": {},
   "outputs": [
    {
     "name": "stdout",
     "output_type": "stream",
     "text": [
      "_will change numbers like 078436 7998 to 784367998. And there is no other numbers.\n"
     ]
    }
   ],
   "source": [
    "text = \"Excel will change numbers like 078436 7998 to 784367998. And there is no other numbers.\"\n",
    "reg = re.sub(\"^Excel \", \"_\", text)\n",
    "print(reg)"
   ]
  },
  {
   "cell_type": "code",
   "execution_count": 31,
   "metadata": {},
   "outputs": [
    {
     "name": "stdout",
     "output_type": "stream",
     "text": [
      "_xcel will change numbers like 078436 7998 to 784367998. And there is no other numbers.\n"
     ]
    }
   ],
   "source": [
    "text = \"Excel will change numbers like 078436 7998 to 784367998. And there is no other numbers.\"\n",
    "reg = re.sub(\"^E\", \"_\", text)\n",
    "print(reg)"
   ]
  },
  {
   "cell_type": "markdown",
   "metadata": {},
   "source": [
    "**`\"$\" Ends with`**"
   ]
  },
  {
   "cell_type": "code",
   "execution_count": 36,
   "metadata": {},
   "outputs": [
    {
     "name": "stdout",
     "output_type": "stream",
     "text": [
      "Excel will change numbers like 078436 7998 to 784367998. And there is no other _\n"
     ]
    }
   ],
   "source": [
    "# $ - Ends with (\"xxxx$\")\n",
    "text = \"Excel will change numbers like 078436 7998 to 784367998. And there is no other numbers.\"\n",
    "reg = re.sub(\"numbers.$\", \"_\", text)\n",
    "print(reg)"
   ]
  },
  {
   "cell_type": "code",
   "execution_count": 38,
   "metadata": {},
   "outputs": [
    {
     "name": "stdout",
     "output_type": "stream",
     "text": [
      "Excel will change numbers like 078436 7998 to 784367998. And there is no other num_\n"
     ]
    }
   ],
   "source": [
    "text = \"Excel will change numbers like 078436 7998 to 784367998. And there is no other numbers.\"\n",
    "reg = re.sub(\"bers.$\", \"_\", text)    # It deals only with the endings\n",
    "print(reg)"
   ]
  },
  {
   "cell_type": "code",
   "execution_count": 40,
   "metadata": {},
   "outputs": [
    {
     "name": "stdout",
     "output_type": "stream",
     "text": [
      "Excel will change numbers like 078436 7998 to 784367998. And there is _\n"
     ]
    }
   ],
   "source": [
    "text = \"Excel will change numbers like 078436 7998 to 784367998. And there is no other numbers.\"\n",
    "reg = re.sub(\"no.......numbers.$\", \"_\", text)    # It deals only with the endings\n",
    "print(reg)"
   ]
  },
  {
   "cell_type": "markdown",
   "metadata": {},
   "source": [
    "**`\"*\" Zero or more occurances`**"
   ]
  },
  {
   "cell_type": "code",
   "execution_count": 6,
   "metadata": {},
   "outputs": [
    {
     "name": "stdout",
     "output_type": "stream",
     "text": [
      "_cel will change numbers like 078436 7998 to 784367998, and there is no other numbers\n"
     ]
    }
   ],
   "source": [
    "# * - Zero or more occurances (\"xx.*x\")\n",
    "text = \"Excel will change numbers like 078436 7998 to 784367998, and there is no other numbers\"\n",
    "reg = re.sub(\"Ex*\", \"_\", text)\n",
    "print(reg)"
   ]
  },
  {
   "cell_type": "code",
   "execution_count": 35,
   "metadata": {},
   "outputs": [
    {
     "name": "stdout",
     "output_type": "stream",
     "text": [
      "__\n"
     ]
    }
   ],
   "source": [
    "text = \"Excel will change numbers like 078436 7998 to 784367998, and there is no other numbers\"\n",
    "reg = re.sub(\".*\", \"_\", text)\n",
    "print(reg)"
   ]
  },
  {
   "cell_type": "code",
   "execution_count": 58,
   "metadata": {},
   "outputs": [
    {
     "name": "stdout",
     "output_type": "stream",
     "text": [
      "_E_x_c_e_l_ _w_i_l_l_ _c_h_a_n_g_e_ _n_u_m_b_e_r_s_ _l_i_k_e_ _0_7_8_4_3_6_ _7_9_9_8_ _t_o_ _7_8_4_3_6_7_9_9_8_,_ _a_n_d_ _t_h_e_r_e_ _i_s_ _n_o_ _o_t_h_e_r_ _n_u_m_b_e_r_s_\n"
     ]
    }
   ],
   "source": [
    "text = \"Excel will change numbers like 078436 7998 to 784367998, and there is no other numbers\"\n",
    "reg = re.sub(\"[.]*\", \"_\", text)\n",
    "print(reg)"
   ]
  },
  {
   "cell_type": "code",
   "execution_count": 43,
   "metadata": {},
   "outputs": [
    {
     "name": "stdout",
     "output_type": "stream",
     "text": [
      "Exce_ wi_ change numbers _ike 078436 7998 to 784367998. And there is no other numbers.\n"
     ]
    }
   ],
   "source": [
    "text = \"Excel will change numbers like 078436 7998 to 784367998. And there is no other numbers.\"\n",
    "reg = re.sub(\"ll*\", \"_\", text)\n",
    "print(reg)"
   ]
  },
  {
   "cell_type": "code",
   "execution_count": 48,
   "metadata": {},
   "outputs": [
    {
     "name": "stdout",
     "output_type": "stream",
     "text": [
      "Exce_ wi_ change numbers _ike 078436 7998 to 784367998. And there is no other numbers.\n"
     ]
    }
   ],
   "source": [
    "text = \"Excel will change numbers like 078436 7998 to 784367998. And there is no other numbers.\"\n",
    "reg = re.sub(\"ll*\", \"_\", text)\n",
    "print(reg)"
   ]
  },
  {
   "cell_type": "markdown",
   "metadata": {},
   "source": [
    "**`\"+\" One or more occurances`**"
   ]
  },
  {
   "cell_type": "code",
   "execution_count": 49,
   "metadata": {},
   "outputs": [
    {
     "name": "stdout",
     "output_type": "stream",
     "text": [
      "_\n"
     ]
    }
   ],
   "source": [
    "# + - One or more occurances (\"xx.+x\")\n",
    "text = \"Excel will change numbers like 078436 7998 to 784367998. And there is no other numbers.\"\n",
    "reg = re.sub(\".+\", \"_\", text)\n",
    "print(reg)"
   ]
  },
  {
   "cell_type": "markdown",
   "metadata": {},
   "source": [
    "**`\"?\" Zero or one ocurance`**"
   ]
  },
  {
   "cell_type": "code",
   "execution_count": 66,
   "metadata": {},
   "outputs": [
    {
     "name": "stdout",
     "output_type": "stream",
     "text": [
      "Excel _ change numbers like 078436 7998 to 784367998. And there is no other numbers.\n"
     ]
    }
   ],
   "source": [
    "# ? - Zero or one occurance (\"xx.?X\")\n",
    "text = \"Excel will change numbers like 078436 7998 to 784367998. And there is no other numbers.\"\n",
    "reg = re.sub(\"wi.?l\", \"_\", text)\n",
    "print(reg)"
   ]
  },
  {
   "cell_type": "markdown",
   "metadata": {},
   "source": [
    "**`\"{}\" Specified number of occurances`**"
   ]
  },
  {
   "cell_type": "code",
   "execution_count": 67,
   "metadata": {},
   "outputs": [
    {
     "name": "stdout",
     "output_type": "stream",
     "text": [
      "Excel _ change numbers like 078436 7998 to 784367998. And there is no other numbers.\n"
     ]
    }
   ],
   "source": [
    "# {} - Exactly the specified number of occurances (\"xx.{2}x\")\n",
    "text = \"Excel will change numbers like 078436 7998 to 784367998. And there is no other numbers.\"\n",
    "reg = re.sub(\"wi.{2}\", \"_\", text)\n",
    "print(reg)"
   ]
  },
  {
   "cell_type": "code",
   "execution_count": 70,
   "metadata": {},
   "outputs": [
    {
     "name": "stdout",
     "output_type": "stream",
     "text": [
      "Excel will change numbers like 078436 7_8 to 784367_8. And there is no other numbers.\n"
     ]
    }
   ],
   "source": [
    "text = \"Excel will change numbers like 078436 7998 to 784367998. And there is no other numbers.\"\n",
    "reg = re.sub(\"9{2}\", \"_\", text)\n",
    "print(reg)"
   ]
  },
  {
   "cell_type": "markdown",
   "metadata": {},
   "source": [
    "**`\"|\" Either or`**"
   ]
  },
  {
   "cell_type": "code",
   "execution_count": 72,
   "metadata": {},
   "outputs": [
    {
     "name": "stdout",
     "output_type": "stream",
     "text": [
      "Excel will change numbers like _8436 79_ to 7843679_. And there is no other numbers.\n"
     ]
    }
   ],
   "source": [
    "# | - Either or (xxx|xxx)\n",
    "text = \"Excel will change numbers like 078436 7998 to 784367998. And there is no other numbers.\"\n",
    "reg = re.sub(\"07|98\", \"_\", text)\n",
    "print(reg)"
   ]
  },
  {
   "cell_type": "code",
   "execution_count": 73,
   "metadata": {},
   "outputs": [
    {
     "name": "stdout",
     "output_type": "stream",
     "text": [
      "Excel wi_ change numbers like 078436 7998 to 784367998. And there is no other numbers.\n"
     ]
    }
   ],
   "source": [
    "text = \"Excel will change numbers like 078436 7998 to 784367998. And there is no other numbers.\"\n",
    "reg = re.sub(\"aa|ll\", \"_\", text)\n",
    "print(reg)"
   ]
  },
  {
   "cell_type": "markdown",
   "metadata": {},
   "source": [
    "**`\"()\" Capture and group`**"
   ]
  },
  {
   "cell_type": "code",
   "execution_count": 74,
   "metadata": {},
   "outputs": [
    {
     "name": "stdout",
     "output_type": "stream",
     "text": [
      "Excel will change numbers like 078436 7998 to 784367998. And there is _ other numbers.\n"
     ]
    }
   ],
   "source": [
    "# () - Capture and group\n",
    "text = \"Excel will change numbers like 078436 7998 to 784367998. And there is no other numbers.\"\n",
    "reg = re.sub((\"no\"), \"_\", text)\n",
    "print(reg)"
   ]
  },
  {
   "cell_type": "code",
   "execution_count": 76,
   "metadata": {},
   "outputs": [
    {
     "name": "stdout",
     "output_type": "stream",
     "text": [
      "Excel will change numbers like 078436 _ to 78436_. And there is no other numbers.\n"
     ]
    }
   ],
   "source": [
    "text = \"Excel will change numbers like 078436 7998 to 784367998. And there is no other numbers.\"\n",
    "reg = re.sub((\"7998\"), \"_\", text)\n",
    "print(reg)"
   ]
  },
  {
   "cell_type": "markdown",
   "metadata": {},
   "source": [
    "#### **Sets**\n",
    "*A set of characters inside a pair of square brackets `[]` with a special meaning*"
   ]
  },
  {
   "cell_type": "markdown",
   "metadata": {},
   "source": [
    "**`[abd]`** - *Returns a match where of the specified characters(a, b or d) is present.*"
   ]
  },
  {
   "cell_type": "code",
   "execution_count": 2,
   "metadata": {},
   "outputs": [
    {
     "name": "stdout",
     "output_type": "stream",
     "text": [
      "The content: function is not of much use in this c_se, _s it will just report the (one of the _ozen) filen_mes wherein this text w_s foun_ (like in_ex1.txt), not the _ctu_l filen_me (like George Orwell - 1984 (epu_).r_r)\n"
     ]
    }
   ],
   "source": [
    "text = \"The content: function is not of much use in this case, as it will just report the (one of the dozen) filenames wherein this text was found (like index1.txt), not the actual filename (like George Orwell - 1984 (epub).rar)\"\n",
    "reg = re.sub(\"[abd]\", \"_\", text)\n",
    "print(reg)"
   ]
  },
  {
   "cell_type": "markdown",
   "metadata": {},
   "source": [
    "**`[a-n]`** - *Returns a match for any lower case character, alphabetically between `a` to `n`.*"
   ]
  },
  {
   "cell_type": "code",
   "execution_count": 3,
   "metadata": {},
   "outputs": [
    {
     "name": "stdout",
     "output_type": "stream",
     "text": [
      "T__ _o_t__t: _u__t_o_ _s _ot o_ _u__ us_ __ t__s __s_, _s _t w___ _ust r_port t__ (o__ o_ t__ _oz__) ________s w__r___ t__s t_xt w_s _ou__ (____ ____x1.txt), _ot t__ __tu__ ________ (____ G_or__ Orw___ - 1984 (_pu_).r_r)\n"
     ]
    }
   ],
   "source": [
    "text = \"The content: function is not of much use in this case, as it will just report the (one of the dozen) filenames wherein this text was found (like index1.txt), not the actual filename (like George Orwell - 1984 (epub).rar)\"\n",
    "reg = re.sub(\"[a-n]\", \"_\", text)\n",
    "print(reg)"
   ]
  },
  {
   "cell_type": "code",
   "execution_count": 5,
   "metadata": {},
   "outputs": [
    {
     "name": "stdout",
     "output_type": "stream",
     "text": [
      "_he content: function is not of much use in this case, as it will just report the (one of the dozen) filenames wherein this text was found (like index1.txt), not the actual filename (like _eorge _rwell - 1984 (epub).rar)\n"
     ]
    }
   ],
   "source": [
    "# Try out Upper Case characters\n",
    "text = \"The content: function is not of much use in this case, as it will just report the (one of the dozen) filenames wherein this text was found (like index1.txt), not the actual filename (like George Orwell - 1984 (epub).rar)\"\n",
    "reg = re.sub(\"[A-Z]\", \"_\", text)\n",
    "print(reg)"
   ]
  },
  {
   "cell_type": "markdown",
   "metadata": {},
   "source": [
    "**`[^abd]`** - *Returns a match for any characters EXCEPT `a`, `b`, and `d`*"
   ]
  },
  {
   "cell_type": "code",
   "execution_count": 6,
   "metadata": {},
   "outputs": [
    {
     "name": "stdout",
     "output_type": "stream",
     "text": [
      "__________________________________________________a____a______________________________________d___________a_______________________a______d_________d__________________a___a_______a__________________________________b___a__\n"
     ]
    }
   ],
   "source": [
    "text = \"The content: function is not of much use in this case, as it will just report the (one of the dozen) filenames wherein this text was found (like index1.txt), not the actual filename (like George Orwell - 1984 (epub).rar)\"\n",
    "reg = re.sub(\"[^abd]\", \"_\", text)\n",
    "print(reg)"
   ]
  },
  {
   "cell_type": "markdown",
   "metadata": {},
   "source": [
    "**`[0137]`** - *Returns a match where any of the specified digits (`0`, `1`, `3`, `7`) are present.*"
   ]
  },
  {
   "cell_type": "code",
   "execution_count": 7,
   "metadata": {},
   "outputs": [
    {
     "name": "stdout",
     "output_type": "stream",
     "text": [
      "The content: function is not of much use in this case, as it will just report the (one of the dozen) filenames wherein this text was found (like index_.txt), not the actual filename (like George Orwell - _984 (epub).rar)\n"
     ]
    }
   ],
   "source": [
    "text = \"The content: function is not of much use in this case, as it will just report the (one of the dozen) filenames wherein this text was found (like index1.txt), not the actual filename (like George Orwell - 1984 (epub).rar)\"\n",
    "reg = re.sub(\"[0137]\", \"_\", text)\n",
    "print(reg)"
   ]
  },
  {
   "cell_type": "markdown",
   "metadata": {},
   "source": [
    "**`[0-9]`** - *Returns a match for any digit between `0` and `9`.*"
   ]
  },
  {
   "cell_type": "code",
   "execution_count": 8,
   "metadata": {},
   "outputs": [
    {
     "name": "stdout",
     "output_type": "stream",
     "text": [
      "The content: function is not of much use in this case, as it will just report the (one of the dozen) filenames wherein this text was found (like index_.txt), not the actual filename (like George Orwell - ____ (epub).rar)\n"
     ]
    }
   ],
   "source": [
    "text = \"The content: function is not of much use in this case, as it will just report the (one of the dozen) filenames wherein this text was found (like index1.txt), not the actual filename (like George Orwell - 1984 (epub).rar)\"\n",
    "reg = re.sub(\"[0-9]\", \"_\", text)\n",
    "print(reg)"
   ]
  },
  {
   "cell_type": "markdown",
   "metadata": {},
   "source": [
    "**`[0-5][0-9]`** - *Returns a match for any two-digit numbers from `00` to `59`.*"
   ]
  },
  {
   "cell_type": "code",
   "execution_count": 9,
   "metadata": {},
   "outputs": [
    {
     "name": "stdout",
     "output_type": "stream",
     "text": [
      "The content: function is not of much use in this case, as it will just report the (one of the dozen) filenames wherein this text was found (like index1.txt), not the actual filename (like George Orwell - _84 (epub).rar)\n"
     ]
    }
   ],
   "source": [
    "text = \"The content: function is not of much use in this case, as it will just report the (one of the dozen) filenames wherein this text was found (like index1.txt), not the actual filename (like George Orwell - 1984 (epub).rar)\"\n",
    "reg = re.sub(\"[0-5][0-9]\", \"_\", text)\n",
    "print(reg)"
   ]
  },
  {
   "cell_type": "markdown",
   "metadata": {},
   "source": [
    "**`[a-zA-Z]`** - *Returns a match for any character alphabetically between `a` and `z`, lower-case or upper-case.*"
   ]
  },
  {
   "cell_type": "code",
   "execution_count": 10,
   "metadata": {},
   "outputs": [
    {
     "name": "stdout",
     "output_type": "stream",
     "text": [
      "___ _______: ________ __ ___ __ ____ ___ __ ____ ____, __ __ ____ ____ ______ ___ (___ __ ___ _____) _________ _______ ____ ____ ___ _____ (____ _____1.___), ___ ___ ______ ________ (____ ______ ______ - 1984 (____).___)\n"
     ]
    }
   ],
   "source": [
    "text = \"The content: function is not of much use in this case, as it will just report the (one of the dozen) filenames wherein this text was found (like index1.txt), not the actual filename (like George Orwell - 1984 (epub).rar)\"\n",
    "reg = re.sub(\"[a-zA-Z]\", \"_\", text)\n",
    "print(reg)"
   ]
  },
  {
   "cell_type": "markdown",
   "metadata": {},
   "source": [
    "**`[+]`** - *Return a match for any `+` character in the string. In sets, [`+`, `*`, `.`,`$`,`|`, `()`, `{}`] has no special meaning.*"
   ]
  },
  {
   "cell_type": "code",
   "execution_count": 12,
   "metadata": {},
   "outputs": [
    {
     "name": "stdout",
     "output_type": "stream",
     "text": [
      "The content: function is not of much use in this case, as it will just report the (one of the dozen) filenames wherein this text was found (like index1.txt), _ not the actual filename (like George Orwell - 1984 (epub).rar)\n"
     ]
    }
   ],
   "source": [
    "text = \"The content: function is not of much use in this case, as it will just report the (one of the dozen) filenames wherein this text was found (like index1.txt), + not the actual filename (like George Orwell - 1984 (epub).rar)\"\n",
    "reg = re.sub(\"[+]\", \"_\", text)\n",
    "print(reg)"
   ]
  },
  {
   "cell_type": "markdown",
   "metadata": {},
   "source": [
    "#### **Combination of Metacharcters and Special_Sequences**"
   ]
  },
  {
   "cell_type": "code",
   "execution_count": 2,
   "metadata": {},
   "outputs": [],
   "source": [
    "text = '''The content: function is not of much use in this case, as it will just report the (one of the dozen) filenames wherein this text was found (like index1.txt), not the actual filename (like George Orwell - 1984 (epub).rar).\n",
    "\n",
    "\n",
    "Do you have those files (like George Orwell - 1984 (epub).rar) on your disk? then you can skip searching in the dozen index files.\n",
    "\n",
    "The question itself is rather vague. What should be in the output file? What is this \"code\" you are referring to?\n",
    "Please explain yourself further ..\n",
    "\n",
    "Note that you probably will have some mismatches. That becomes apparent even in your own examples: H G Wells vs H.G. Wells (where HG Wells is yet another possibility('''"
   ]
  },
  {
   "cell_type": "code",
   "execution_count": 3,
   "metadata": {},
   "outputs": [
    {
     "name": "stdout",
     "output_type": "stream",
     "text": [
      "The content: function is not of much use in this case, as it will just report the (one of the dozen) filenames wherein this text was found (like index1.txt), not the actual filename (like George Orwell - 1984 (epub).rar).\n",
      "\n",
      "\n",
      "Do you have those files (like George Orwell - 1984 (epub).rar) on your disk? then you can skip searching in the dozen index files.\n",
      "\n",
      "The question itself is rather vague. What should be in the output file? What is this \"code\" you are referring to?\n",
      "Please explain yourself further ..\n",
      "\n",
      "Note that you probably will have some mismatches. That becomes apparent even in your own examples: H G Wells vs H.G. Wells (where HG Wells is yet another possibility(\n"
     ]
    }
   ],
   "source": [
    "print(text)"
   ]
  },
  {
   "cell_type": "code",
   "execution_count": 33,
   "metadata": {},
   "outputs": [
    {
     "name": "stdout",
     "output_type": "stream",
     "text": [
      "The content: function is not of much use in this case, as it will just report the (one of the dozen) filenames wherein this text was found (like index1.txt), not the actual filename (like George Orwell - 1984 (epub).rar).  Do you have those files (like George Orwell - 1984 (epub).rar) on your disk? then you can skip searching in the dozen index files. The question itself is rather vague. What should be in the output file? What is this \"code\" you are referring to? Please explain yourself further .. Note that you probably will have some mismatches. That becomes apparent even in your own examples: H G Wells vs H.G. Wells (where HG Wells is yet another possibility(\n"
     ]
    }
   ],
   "source": [
    "# Applying all I learned\n",
    "reg = re.sub(\"\\n\", \" \", text)   # Replaces the new lines by a whitespace\n",
    "reg = re.sub(\" {2}\", \" \", reg)  # Replaces two whitespace by one\n",
    "#reg = re.sub(\"(.)\", \"_\", reg)\n",
    "print(reg)"
   ]
  }
 ],
 "metadata": {
  "kernelspec": {
   "display_name": "Python 3.9.5 64-bit",
   "language": "python",
   "name": "python3"
  },
  "language_info": {
   "codemirror_mode": {
    "name": "ipython",
    "version": 3
   },
   "file_extension": ".py",
   "mimetype": "text/x-python",
   "name": "python",
   "nbconvert_exporter": "python",
   "pygments_lexer": "ipython3",
   "version": "3.9.5"
  },
  "orig_nbformat": 4,
  "vscode": {
   "interpreter": {
    "hash": "24d7359adec4ffe2916680474ceb48a86338759ffb8252cd67d6683f84078a4b"
   }
  }
 },
 "nbformat": 4,
 "nbformat_minor": 2
}
