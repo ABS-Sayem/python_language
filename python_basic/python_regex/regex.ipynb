{
 "cells": [
  {
   "cell_type": "code",
   "execution_count": 1,
   "metadata": {},
   "outputs": [],
   "source": [
    "# Import Regular Expression\n",
    "import re"
   ]
  },
  {
   "cell_type": "markdown",
   "metadata": {},
   "source": [
    "#### **RegEx Functions**"
   ]
  },
  {
   "cell_type": "markdown",
   "metadata": {},
   "source": [
    "**`findall()`**- returns a list containing all matches"
   ]
  },
  {
   "cell_type": "code",
   "execution_count": 2,
   "metadata": {},
   "outputs": [
    {
     "name": "stdout",
     "output_type": "stream",
     "text": [
      "['ing', 'ing', 'ing']\n"
     ]
    }
   ],
   "source": [
    "text = \"returing all cotaining all matchings\"\n",
    "reg = re.findall(\"ing\", text)\n",
    "print(reg)"
   ]
  },
  {
   "cell_type": "code",
   "execution_count": 3,
   "metadata": {},
   "outputs": [
    {
     "name": "stdout",
     "output_type": "stream",
     "text": [
      "['ain']\n"
     ]
    }
   ],
   "source": [
    "text = \"returing all cotaining all matchings\"\n",
    "reg = re.findall(\"ain\", text)\n",
    "print(reg)"
   ]
  },
  {
   "cell_type": "code",
   "execution_count": 5,
   "metadata": {},
   "outputs": [
    {
     "name": "stdout",
     "output_type": "stream",
     "text": [
      "[]\n"
     ]
    }
   ],
   "source": [
    "text = \"returing all the cotaining of all matchings\"\n",
    "reg = re.findall(\"dev\", text)\n",
    "print(reg)"
   ]
  },
  {
   "cell_type": "markdown",
   "metadata": {},
   "source": [
    "**`search()`**- returns a match object if there is a match. If there is more than one match, only the first occurrence of the match will be returned."
   ]
  },
  {
   "cell_type": "code",
   "execution_count": 15,
   "metadata": {},
   "outputs": [
    {
     "name": "stdout",
     "output_type": "stream",
     "text": [
      "The first occurrence of 'ing' in position 5-8\n"
     ]
    }
   ],
   "source": [
    "text = \"returing all the cotaining of all matchings\"\n",
    "reg = re.search(\"ing\", text)\n",
    "print(f\"The first occurrence of 'ing' in position {reg.start()}-{reg.end()}\")"
   ]
  },
  {
   "cell_type": "code",
   "execution_count": 17,
   "metadata": {},
   "outputs": [
    {
     "name": "stdout",
     "output_type": "stream",
     "text": [
      "None\n"
     ]
    }
   ],
   "source": [
    "text = \"returing all the cotaining of all matchings\"\n",
    "reg = re.search(\"aap\", text)\n",
    "print(reg)"
   ]
  },
  {
   "cell_type": "markdown",
   "metadata": {},
   "source": [
    "**`split()`**- returns a list where the string has been split at each match"
   ]
  },
  {
   "cell_type": "code",
   "execution_count": 19,
   "metadata": {},
   "outputs": [
    {
     "name": "stdout",
     "output_type": "stream",
     "text": [
      "['returing', 'all', 'the', 'cotaining', 'of', 'all', 'matchings']\n"
     ]
    }
   ],
   "source": [
    "text = \"returing all the cotaining of all matchings\"\n",
    "reg = re.split(\"\\s\", text)      # [\"\\s\"- white space] Split at each white-space character\n",
    "print(reg)"
   ]
  },
  {
   "cell_type": "code",
   "execution_count": 22,
   "metadata": {},
   "outputs": [
    {
     "name": "stdout",
     "output_type": "stream",
     "text": [
      "['returing', 'all the cotaining of all matchings']\n"
     ]
    }
   ],
   "source": [
    "# We can also control the number of occurrences by specifying the `maxsplit` parameter\n",
    "text = \"returing all the cotaining of all matchings\"\n",
    "reg = re.split(\"\\s\", text, 1)      # Here, 1 = maxsplit\n",
    "print(reg)"
   ]
  },
  {
   "cell_type": "markdown",
   "metadata": {},
   "source": [
    "**`sub()`**- replaces the matches with the text of your choice"
   ]
  },
  {
   "cell_type": "code",
   "execution_count": 24,
   "metadata": {},
   "outputs": [
    {
     "name": "stdout",
     "output_type": "stream",
     "text": [
      "returing-all-the-cotaining-of-all-matchings\n"
     ]
    }
   ],
   "source": [
    "text = \"returing all the cotaining of all matchings\"\n",
    "reg = re.sub(\"\\s\", \"-\", text)       # Replacing all the white-space character with the \"-\"(desh)\n",
    "print(reg)"
   ]
  }
 ],
 "metadata": {
  "kernelspec": {
   "display_name": "Python 3.9.5 64-bit",
   "language": "python",
   "name": "python3"
  },
  "language_info": {
   "codemirror_mode": {
    "name": "ipython",
    "version": 3
   },
   "file_extension": ".py",
   "mimetype": "text/x-python",
   "name": "python",
   "nbconvert_exporter": "python",
   "pygments_lexer": "ipython3",
   "version": "3.9.5"
  },
  "orig_nbformat": 4,
  "vscode": {
   "interpreter": {
    "hash": "24d7359adec4ffe2916680474ceb48a86338759ffb8252cd67d6683f84078a4b"
   }
  }
 },
 "nbformat": 4,
 "nbformat_minor": 2
}
