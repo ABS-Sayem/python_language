{
 "cells": [
  {
   "cell_type": "code",
   "execution_count": 1,
   "metadata": {},
   "outputs": [],
   "source": [
    "import pandas as pd\n",
    "import numpy as np\n",
    "import gnupg"
   ]
  },
  {
   "cell_type": "code",
   "execution_count": 6,
   "metadata": {},
   "outputs": [],
   "source": [
    "# Create a GPG object\n",
    "#gpg_binary_path = \"C:\\\\Program Files (x86)\\\\Gpg4win\\\\bin\\\\\"\n",
    "gpg = gnupg.GPG()\n",
    "import_result = gpg.import_keys('public.key')"
   ]
  },
  {
   "cell_type": "code",
   "execution_count": 7,
   "metadata": {},
   "outputs": [],
   "source": [
    "# Load the data (replace 'your_file.csv' with the actual file path)\n",
    "dataframe = pd.read_csv('weather_2023-12.csv', header=None)"
   ]
  },
  {
   "cell_type": "code",
   "execution_count": 8,
   "metadata": {},
   "outputs": [],
   "source": [
    "# Create a new column for decrypted values\n",
    "dataframe[3] = np.nan  # Initialize with missing values"
   ]
  },
  {
   "cell_type": "code",
   "execution_count": 9,
   "metadata": {},
   "outputs": [],
   "source": [
    "# Decrypt the encrypted values in the 3rd column (if applicable)\n",
    "def is_encrypted(value):\n",
    "  return value.startswith(\"-----BEGIN PGP MESSAGE-----\")\n",
    "\n",
    "def decrypt_value(value):\n",
    "    if is_encrypted(value):  # Replace with your logic to identify encrypted values\n",
    "        try:\n",
    "            decrypted_data = gpg.decrypt(value.encode())\n",
    "            return decrypted_data.data.decode()\n",
    "        except Exception as e:\n",
    "            print(f\"Error decrypting value: {e}\")\n",
    "            return value  # Or handle the error as needed\n",
    "    else:\n",
    "        return value"
   ]
  },
  {
   "cell_type": "code",
   "execution_count": 11,
   "metadata": {},
   "outputs": [],
   "source": [
    "# Decrypt and populate the new column\n",
    "for i in range(len(dataframe)):\n",
    "    value = dataframe.iloc[i, 2]\n",
    "    if pd.notna(value) and is_encrypted(value):\n",
    "        try:\n",
    "            decrypted_data = gpg.decrypt(value.encode())\n",
    "            dataframe.iloc[i, 3] = decrypted_data.data.decode()\n",
    "        except Exception as e:\n",
    "            print(f\"Error decrypting value: {e}\")"
   ]
  },
  {
   "cell_type": "code",
   "execution_count": 13,
   "metadata": {},
   "outputs": [],
   "source": [
    "# Get cleaned (ignoring NaN values) maximum and minimum temperatures\n",
    "max_temp_cleaned = dataframe.loc[dataframe[3].str.startswith('TA_PT1H_MAX') & dataframe[3].notna()]\n",
    "min_temp_cleaned = dataframe.loc[dataframe[3].str.startswith('TA_PT1H_MIN') & dataframe[3].notna()]"
   ]
  },
  {
   "cell_type": "code",
   "execution_count": 14,
   "metadata": {},
   "outputs": [],
   "source": [
    "# Calculate the difference between max and min temperatures\n",
    "temperature_difference = max_temp_cleaned - min_temp_cleaned"
   ]
  },
  {
   "cell_type": "code",
   "execution_count": 15,
   "metadata": {},
   "outputs": [],
   "source": [
    "# Compute average difference and standard deviation\n",
    "avg_difference = temperature_difference.mean()\n",
    "std_deviation = temperature_difference.std()"
   ]
  },
  {
   "cell_type": "code",
   "execution_count": 16,
   "metadata": {},
   "outputs": [],
   "source": [
    "# Define the range for the condition\n",
    "lower_bound = avg_difference - 0.6 * std_deviation\n",
    "upper_bound = avg_difference + 0.6 * std_deviation"
   ]
  },
  {
   "cell_type": "code",
   "execution_count": 17,
   "metadata": {},
   "outputs": [],
   "source": [
    "# Filter observations that satisfy the condition\n",
    "satisfying_observations = dataframe[\n",
    "    (temperature_difference >= lower_bound) &\n",
    "    (temperature_difference <= upper_bound)\n",
    "]"
   ]
  },
  {
   "cell_type": "code",
   "execution_count": 18,
   "metadata": {},
   "outputs": [],
   "source": [
    "# Calculate the percentage\n",
    "percentage_satisfying = (len(satisfying_observations) / len(dataframe)) * 100"
   ]
  },
  {
   "cell_type": "code",
   "execution_count": 19,
   "metadata": {},
   "outputs": [
    {
     "name": "stdout",
     "output_type": "stream",
     "text": [
      "Percentage of hourly observations satisfying the condition: 100.00%\n"
     ]
    }
   ],
   "source": [
    "# Write the answer to the specified file\n",
    "with open('exrc-04-answer.txt', 'w') as result_file:\n",
    "    result_file.write(f\"{percentage_satisfying:.2f}\")\n",
    "\n",
    "print(f\"Percentage of hourly observations satisfying the condition: {percentage_satisfying:.2f}%\")"
   ]
  },
  {
   "cell_type": "markdown",
   "metadata": {},
   "source": [
    "### **Code from Farhad**"
   ]
  },
  {
   "cell_type": "code",
   "execution_count": null,
   "metadata": {},
   "outputs": [],
   "source": [
    "import pandas as pd\n",
    "import numpy as np\n",
    "import gnupg\n",
    "\n",
    "gpg_binary_path = 'C:\\\\Program Files (x86)\\\\gnupg\\\\bin\\\\gpg.exe'\n",
    "gpg = gnupg.GPG(binary=gpg_binary_path)\n",
    "\n",
    "\n",
    "import_result = gpg.import_keys('public.key')\n",
    "\n",
    "# Load the data (replace 'your_file.csv' with the actual file path)\n",
    "dataframe = pd.read_csv('weather_2023-12.csv', header=None)\n",
    "\n",
    "# Create a new column for decrypted values\n",
    "dataframe[3] = np.nan  # Initialize with missing values\n",
    "\n",
    "# Decrypt the encrypted values in the 3rd column (if applicable)\n",
    "def is_encrypted(value):\n",
    "  return value.startswith(\"-----BEGIN PGP MESSAGE-----\")\n",
    "\n",
    "def decrypt_value(value):\n",
    "    if is_encrypted(value):  # Replace with your logic to identify encrypted values\n",
    "        try:\n",
    "            decrypted_data = gpg.decrypt(value.encode())\n",
    "            return decrypted_data.data.decode()\n",
    "        except Exception as e:\n",
    "            print(f\"Error decrypting value: {e}\")\n",
    "            return value  # Or handle the error as needed\n",
    "    else:\n",
    "        return value\n",
    "    \n",
    "# Decrypt and populate the new column\n",
    "for i in range(len(dataframe)):\n",
    "    value = dataframe.iloc[i, 2]\n",
    "    if is_encrypted(value):\n",
    "        try:\n",
    "            decrypted_data = gpg.decrypt(value.encode())\n",
    "            dataframe.iloc[i, 3] = decrypted_data.data.decode()\n",
    "        except Exception as e:\n",
    "            print(f\"Error decrypting value: {e}\")    \n",
    "\n",
    "# Get cleaned (ignoring NaN values) maximum and minimum temperatures\n",
    "max_temp_cleaned = dataframe[dataframe[3].str.startswith('TA_PT1H_MAX')].dropna() #weather_data['TA_PT1H_MAX'].dropna()\n",
    "min_temp_cleaned = dataframe[dataframe[3].str.startswith('TA_PT1H_MIN')].dropna() #weather_data['TA_PT1H_MIN'].dropna()\n",
    "\n",
    "# Calculate the difference between max and min temperatures\n",
    "temperature_difference = max_temp_cleaned - min_temp_cleaned\n",
    "\n",
    "# Compute average difference and standard deviation\n",
    "avg_difference = temperature_difference.mean()\n",
    "std_deviation = temperature_difference.std()\n",
    "\n",
    "# Define the range for the condition\n",
    "lower_bound = avg_difference - 0.6 * std_deviation\n",
    "upper_bound = avg_difference + 0.6 * std_deviation\n",
    "\n",
    "# Filter observations that satisfy the condition\n",
    "satisfying_observations = dataframe[\n",
    "    (temperature_difference >= lower_bound) &\n",
    "    (temperature_difference <= upper_bound)\n",
    "]\n",
    "\n",
    "# Calculate the percentage\n",
    "percentage_satisfying = (len(satisfying_observations) / len(dataframe)) * 100\n",
    "\n",
    "# Write the answer to the specified file\n",
    "with open('exrc-04-answer.txt', 'w') as result_file:\n",
    "    result_file.write(f\"{percentage_satisfying:.2f}\")\n",
    "\n",
    "print(f\"Percentage of hourly observations satisfying the condition: {percentage_satisfying:.2f}%\")"
   ]
  }
 ],
 "metadata": {
  "kernelspec": {
   "display_name": "venv",
   "language": "python",
   "name": "python3"
  },
  "language_info": {
   "codemirror_mode": {
    "name": "ipython",
    "version": 3
   },
   "file_extension": ".py",
   "mimetype": "text/x-python",
   "name": "python",
   "nbconvert_exporter": "python",
   "pygments_lexer": "ipython3",
   "version": "3.11.4"
  }
 },
 "nbformat": 4,
 "nbformat_minor": 2
}
