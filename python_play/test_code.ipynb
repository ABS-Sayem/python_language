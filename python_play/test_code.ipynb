{
 "cells": [
  {
   "cell_type": "markdown",
   "metadata": {},
   "source": [
    "**`Calculate Electricity Bill`**"
   ]
  },
  {
   "cell_type": "code",
   "execution_count": 12,
   "metadata": {},
   "outputs": [
    {
     "name": "stdout",
     "output_type": "stream",
     "text": [
      "Daily   Cost: 98.70 bdt\n",
      "Monthly Cost: 2961.00 bdt\n"
     ]
    }
   ],
   "source": [
    "# Variables\n",
    "power_consumed = (500 + 80*3 + 40*2 + 30*9 + 50*2 + 20*11)\n",
    "hour_per_day = 10\n",
    "# Static Variable\n",
    "pay_rate = 7.0\n",
    "\n",
    "# Calculate Bill\n",
    "power_kw = power_consumed/1000\n",
    "energy_consumed = power_kw * hour_per_day\n",
    "cost = energy_consumed * pay_rate\n",
    "\n",
    "print(f\"Daily   Cost: {cost:.2f} bdt\")\n",
    "print(f\"Monthly Cost: {cost*30:.2f} bdt\")"
   ]
  }
 ],
 "metadata": {
  "kernelspec": {
   "display_name": "Python 3",
   "language": "python",
   "name": "python3"
  },
  "language_info": {
   "codemirror_mode": {
    "name": "ipython",
    "version": 3
   },
   "file_extension": ".py",
   "mimetype": "text/x-python",
   "name": "python",
   "nbconvert_exporter": "python",
   "pygments_lexer": "ipython3",
   "version": "3.11.4"
  }
 },
 "nbformat": 4,
 "nbformat_minor": 2
}
