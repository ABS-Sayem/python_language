{
 "cells": [
  {
   "cell_type": "markdown",
   "metadata": {},
   "source": [
    "**`Calculate Electricity Bill`**"
   ]
  },
  {
   "cell_type": "code",
   "execution_count": 1,
   "metadata": {},
   "outputs": [],
   "source": [
    "# Details of Devices\n",
    "devices = {\n",
    "    \"fan\": {\n",
    "        \"watt_hour\": 70,        # watts per hour\n",
    "        \"quantity\": 3,          # number of fans\n",
    "        \"hours_per_day\": 8      # usage hours per day\n",
    "    },\n",
    "    \"light\": {\n",
    "        \"watt_hour\": 10,\n",
    "        \"quantity\": 10,\n",
    "        \"hours_per_day\": 6\n",
    "    },\n",
    "    \"refrigerator\": {\n",
    "        \"watt_hour\": 150,\n",
    "        \"quantity\": 2,\n",
    "        \"hours_per_day\": 24\n",
    "    },\n",
    "    \"phone_charger\": {\n",
    "        \"watt_hour\": 5,\n",
    "        \"quantity\": 4,\n",
    "        \"hours_per_day\": 2\n",
    "    },\n",
    "    \"laptop\": {\n",
    "        \"watt_hour\": 50,\n",
    "        \"quantity\": 2,\n",
    "        \"hours_per_day\": 5\n",
    "    },\n",
    "    \"monitor\": {\n",
    "        \"watt_hour\": 30,\n",
    "        \"quantity\": 2,\n",
    "        \"hours_per_day\": 5\n",
    "    }\n",
    "}"
   ]
  },
  {
   "cell_type": "code",
   "execution_count": 3,
   "metadata": {},
   "outputs": [
    {
     "name": "stdout",
     "output_type": "stream",
     "text": [
      "Total monthly energy consumption: 309.60 kWh\n",
      "Total monthly electricity cost  : 2167.20 BDT\n"
     ]
    }
   ],
   "source": [
    "def calculate_total_energy_cost(devices, cost_per_kwh):\n",
    "    total_energy_kwh = 0\n",
    "\n",
    "    for device, details in devices.items():\n",
    "        watt_hour = details[\"watt_hour\"]\n",
    "        quantity = details[\"quantity\"]\n",
    "        hours_per_day = details[\"hours_per_day\"]\n",
    "\n",
    "        # Calculate daily energy consumption for this device in kWh\n",
    "        daily_energy_kwh = (watt_hour * quantity * hours_per_day) / 1000  # converting watts to kilowatts\n",
    "        total_energy_kwh += daily_energy_kwh\n",
    "\n",
    "    # Assuming the billing period is one month (30 days)\n",
    "    monthly_energy_kwh = total_energy_kwh * 30\n",
    "    total_cost = monthly_energy_kwh * cost_per_kwh\n",
    "\n",
    "    return total_cost, monthly_energy_kwh\n",
    "\n",
    "# Example cost per kWh\n",
    "cost_per_kwh = 7  # in BDT\n",
    "\n",
    "# Calculate and print the total electricity bill\n",
    "total_cost, monthly_energy_kwh = calculate_total_energy_cost(devices, cost_per_kwh)\n",
    "print(f\"Total monthly energy consumption: {monthly_energy_kwh:.2f} kWh\")\n",
    "print(f\"Total monthly electricity cost  : {total_cost:.2f} BDT\")"
   ]
  }
 ],
 "metadata": {
  "kernelspec": {
   "display_name": "Python 3",
   "language": "python",
   "name": "python3"
  },
  "language_info": {
   "codemirror_mode": {
    "name": "ipython",
    "version": 3
   },
   "file_extension": ".py",
   "mimetype": "text/x-python",
   "name": "python",
   "nbconvert_exporter": "python",
   "pygments_lexer": "ipython3",
   "version": "3.11.4"
  }
 },
 "nbformat": 4,
 "nbformat_minor": 2
}
