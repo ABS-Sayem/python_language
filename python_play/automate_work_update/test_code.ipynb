{
 "cells": [
  {
   "cell_type": "code",
   "execution_count": 3,
   "metadata": {},
   "outputs": [
    {
     "name": "stdout",
     "output_type": "stream",
     "text": [
      "Automate Work Update:\n",
      " Id  : abs_sayem\n",
      " Pass: skype12111994\n"
     ]
    }
   ],
   "source": [
    "class Credentials:\n",
    "    def __init__(self, id:str, password:str):\n",
    "        self.id = id\n",
    "        self.password = password\n",
    "    \n",
    "    def describe(self):\n",
    "        description = f\"Automate Work Update:\\n Id  : {self.id}\\n Pass: {self.password}\"\n",
    "        return description\n",
    "\n",
    "cred0 = Credentials(\"abs_sayem\", \"skype12111994\")\n",
    "print(cred0.describe())"
   ]
  }
 ],
 "metadata": {
  "kernelspec": {
   "display_name": "Python 3",
   "language": "python",
   "name": "python3"
  },
  "language_info": {
   "codemirror_mode": {
    "name": "ipython",
    "version": 3
   },
   "file_extension": ".py",
   "mimetype": "text/x-python",
   "name": "python",
   "nbconvert_exporter": "python",
   "pygments_lexer": "ipython3",
   "version": "3.11.4"
  }
 },
 "nbformat": 4,
 "nbformat_minor": 2
}
