{
 "cells": [
  {
   "cell_type": "markdown",
   "metadata": {},
   "source": [
    "**Credentials**\n",
    "* **`Google Drive`:**\n",
    "    * `Service Account Name`: \"automate-work-update\"\n",
    "    * `Service Account Id`: \"automate-work-update@automate-work-update.iam.gserviceaccount.com\"\n",
    "* **`Google Sheet`:**\n",
    "    * `Service Account Name`: \"automate-work-update\"\n",
    "    * `Service Account Id`: \"automate-work-update-672@automate-work-update.iam.gserviceaccount.com\""
   ]
  },
  {
   "cell_type": "code",
   "execution_count": 13,
   "metadata": {},
   "outputs": [],
   "source": [
    "import os\n",
    "import datetime\n",
    "from skpy import Skype, SkypeConnection\n",
    "import gspread\n",
    "from oauth2client.service_account import ServiceAccountCredentials"
   ]
  },
  {
   "cell_type": "code",
   "execution_count": 18,
   "metadata": {},
   "outputs": [],
   "source": [
    "# # Skype Credentials\n",
    "# SKYPE_USERNAME = \"Abs Sayem\"\n",
    "# SKYPE_PASSWORD = \"Outlook12111994\"\n",
    "\n",
    "# Load the Skype token from a file\n",
    "SKYPE_TOKEN_FILE = \"token.txt\"\n",
    "\n",
    "# Google Sheets credentials\n",
    "GOOGLE_SHEET_ID = \"1TSMAYjHz3Odx2vombnPSF-TvNWGFkRLyz3Z38QDatK4\""
   ]
  },
  {
   "cell_type": "code",
   "execution_count": 19,
   "metadata": {},
   "outputs": [],
   "source": [
    "# Set up the Google Sheets API client\n",
    "scope = [\"https://spreadsheets.google.com/feeds\", \"https://www.googleapis.com/auth/drive\"]\n",
    "credentials = ServiceAccountCredentials.from_json_keyfile_name('automate-work-update-14e805c6b365.json', scope)\n",
    "gc = gspread.authorize(credentials)\n",
    "worksheet = gc.open_by_key(GOOGLE_SHEET_ID).sheet1"
   ]
  },
  {
   "cell_type": "code",
   "execution_count": 16,
   "metadata": {},
   "outputs": [
    {
     "ename": "TypeError",
     "evalue": "SkypeConnection.__init__() got an unexpected keyword argument 'tokens'",
     "output_type": "error",
     "traceback": [
      "\u001b[1;31m---------------------------------------------------------------------------\u001b[0m",
      "\u001b[1;31mTypeError\u001b[0m                                 Traceback (most recent call last)",
      "Cell \u001b[1;32mIn[16], line 6\u001b[0m\n\u001b[0;32m      3\u001b[0m     skype_token \u001b[38;5;241m=\u001b[39m token_file\u001b[38;5;241m.\u001b[39mread()\u001b[38;5;241m.\u001b[39mstrip()\n\u001b[0;32m      5\u001b[0m \u001b[38;5;66;03m# Create a SkypeConn object\u001b[39;00m\n\u001b[1;32m----> 6\u001b[0m conn \u001b[38;5;241m=\u001b[39m \u001b[43mSkypeConnection\u001b[49m\u001b[43m(\u001b[49m\u001b[43mtokens\u001b[49m\u001b[38;5;241;43m=\u001b[39;49m\u001b[43m{\u001b[49m\u001b[38;5;124;43m\"\u001b[39;49m\u001b[38;5;124;43mskype\u001b[39;49m\u001b[38;5;124;43m\"\u001b[39;49m\u001b[43m:\u001b[49m\u001b[43m \u001b[49m\u001b[43mskype_token\u001b[49m\u001b[43m}\u001b[49m\u001b[43m)\u001b[49m\n\u001b[0;32m      8\u001b[0m \u001b[38;5;66;03m# Use the SkypeConn object to create a Skype instance\u001b[39;00m\n\u001b[0;32m      9\u001b[0m skype \u001b[38;5;241m=\u001b[39m Skype(conn\u001b[38;5;241m=\u001b[39mconn)\n",
      "\u001b[1;31mTypeError\u001b[0m: SkypeConnection.__init__() got an unexpected keyword argument 'tokens'"
     ]
    }
   ],
   "source": [
    "# Log in to Skype using the session token\n",
    "with open(SKYPE_TOKEN_FILE, 'r') as token_file:\n",
    "    skype_token = token_file.read().strip()\n",
    "\n",
    "# Create a SkypeConn object\n",
    "conn = SkypeConnection(tokens={\"skype\": skype_token})\n",
    "\n",
    "# Use the SkypeConn object to create a Skype instance\n",
    "skype = Skype(conn=conn)"
   ]
  }
 ],
 "metadata": {
  "kernelspec": {
   "display_name": "Python 3",
   "language": "python",
   "name": "python3"
  },
  "language_info": {
   "codemirror_mode": {
    "name": "ipython",
    "version": 3
   },
   "file_extension": ".py",
   "mimetype": "text/x-python",
   "name": "python",
   "nbconvert_exporter": "python",
   "pygments_lexer": "ipython3",
   "version": "3.11.4"
  }
 },
 "nbformat": 4,
 "nbformat_minor": 2
}
