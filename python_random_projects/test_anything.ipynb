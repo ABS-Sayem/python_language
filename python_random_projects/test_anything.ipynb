{
 "cells": [
  {
   "cell_type": "code",
   "execution_count": 26,
   "metadata": {},
   "outputs": [
    {
     "name": "stdout",
     "output_type": "stream",
     "text": [
      "Final Value: 2.656139888758755e-06\n"
     ]
    }
   ],
   "source": [
    "mul_value = 0.1\n",
    "for i in range(100):\n",
    "    mul_value *= 0.9\n",
    "print(\"Final Value:\", mul_value)"
   ]
  },
  {
   "cell_type": "code",
   "execution_count": 27,
   "metadata": {},
   "outputs": [
    {
     "name": "stdout",
     "output_type": "stream",
     "text": [
      "Final Value: 1378.0612339822376\n"
     ]
    }
   ],
   "source": [
    "mul_value = 0.1\n",
    "for i in range(100):\n",
    "    mul_value *= 1.1\n",
    "print(\"Final Value:\", mul_value)"
   ]
  }
 ],
 "metadata": {
  "interpreter": {
   "hash": "88bd64abd146d54e091ff1398670d31add9e50ee4691cdc8ffb9431c01087a21"
  },
  "kernelspec": {
   "display_name": "Python 3.9.5 64-bit",
   "language": "python",
   "name": "python3"
  },
  "language_info": {
   "codemirror_mode": {
    "name": "ipython",
    "version": 3
   },
   "file_extension": ".py",
   "mimetype": "text/x-python",
   "name": "python",
   "nbconvert_exporter": "python",
   "pygments_lexer": "ipython3",
   "version": "3.9.5"
  },
  "orig_nbformat": 4
 },
 "nbformat": 4,
 "nbformat_minor": 2
}
