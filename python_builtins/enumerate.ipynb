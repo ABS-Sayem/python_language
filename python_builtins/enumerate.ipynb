{
 "cells": [
  {
   "attachments": {},
   "cell_type": "markdown",
   "metadata": {},
   "source": [
    "### **Enumerate**\n",
    "###### **Counter for iterables. If we pass a list to `enumerate()`, it will map a counter with every element in the list. By default the counter starts from 0, but we can change it explecitly.**\n",
    "###### **Syntax: `enumerate(iterable, counter)`. Enumerate takes two arguments:<br>>>> 1. `Iterable:` Any objects that supports iteration, like- list tuple, dictionary, string etc.<br>>>> 2. `Start:` Starting point of the counter. By-default it starts from 0.**"
   ]
  },
  {
   "cell_type": "code",
   "execution_count": 2,
   "metadata": {},
   "outputs": [
    {
     "name": "stdout",
     "output_type": "stream",
     "text": [
      "<enumerate object at 0x000002AA690F32C0>\n"
     ]
    }
   ],
   "source": [
    "# Define a list\n",
    "colors = ['red', 'green', 'blue', 'black', 'white']\n",
    "colors_obj = enumerate(colors)\n",
    "print(colors_obj)"
   ]
  },
  {
   "attachments": {},
   "cell_type": "markdown",
   "metadata": {},
   "source": [
    "###### **Here, `enumerate()` creates an object of colors. And the object is stored in the printed location. To see the object elements we have to make a list of this object. It will show us the elements and their corresponding counting as tuple.**"
   ]
  },
  {
   "cell_type": "code",
   "execution_count": 3,
   "metadata": {},
   "outputs": [
    {
     "name": "stdout",
     "output_type": "stream",
     "text": [
      "[(0, 'red'), (1, 'green'), (2, 'blue'), (3, 'black'), (4, 'white')]\n"
     ]
    }
   ],
   "source": [
    "colors_list = list(colors_obj)\n",
    "print(colors_list)"
   ]
  },
  {
   "attachments": {},
   "cell_type": "markdown",
   "metadata": {},
   "source": [
    "###### **Here, we can see that the counting starts from 0. As we know, we can change the counting as we wish. Let's do it: To do so, we can pass start argument to the enumerate.**"
   ]
  },
  {
   "cell_type": "code",
   "execution_count": 4,
   "metadata": {},
   "outputs": [
    {
     "name": "stdout",
     "output_type": "stream",
     "text": [
      "[(1, 'red'), (2, 'green'), (3, 'blue'), (4, 'black'), (5, 'white')]\n"
     ]
    }
   ],
   "source": [
    "print(list(enumerate(colors, start=1)))"
   ]
  }
 ],
 "metadata": {
  "kernelspec": {
   "display_name": "Python 3",
   "language": "python",
   "name": "python3"
  },
  "language_info": {
   "codemirror_mode": {
    "name": "ipython",
    "version": 3
   },
   "file_extension": ".py",
   "mimetype": "text/x-python",
   "name": "python",
   "nbconvert_exporter": "python",
   "pygments_lexer": "ipython3",
   "version": "3.9.13"
  },
  "orig_nbformat": 4,
  "vscode": {
   "interpreter": {
    "hash": "4ad1a662050c36948a62a2159e528a078f0bb94ec7adadaee9eccaf8b42424e4"
   }
  }
 },
 "nbformat": 4,
 "nbformat_minor": 2
}
